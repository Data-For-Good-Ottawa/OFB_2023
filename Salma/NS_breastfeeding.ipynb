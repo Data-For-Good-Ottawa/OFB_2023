{
 "cells": [
  {
   "cell_type": "markdown",
   "id": "f4f6394c-20a3-4867-9fd5-7d0c34ff738d",
   "metadata": {},
   "source": [
    "In this notebook, I'll look into cosolidating the breastfeeding data:"
   ]
  },
  {
   "cell_type": "code",
   "execution_count": 1,
   "id": "e87ecc1c-90c0-48fc-be24-701e9687e5e5",
   "metadata": {},
   "outputs": [],
   "source": [
    "# import libraries:\n",
    "import pandas as pd\n",
    "import numpy as np"
   ]
  },
  {
   "cell_type": "code",
   "execution_count": 2,
   "id": "12532a97-54a8-4683-b084-49fa10cadf4c",
   "metadata": {},
   "outputs": [],
   "source": [
    "# import data:\n",
    "NS = pd.read_csv('Cleaned_NS.csv')"
   ]
  },
  {
   "cell_type": "code",
   "execution_count": 3,
   "id": "f3cf96b7-9f19-4b96-a1c2-c0ab569a2ca1",
   "metadata": {},
   "outputs": [],
   "source": [
    "# extracting only the breastfeeding data:\n",
    "NS_breastfeeding = NS[['participant_ID','breastfeeding_yes','breastfeeding_no','breastfeeding_na']]"
   ]
  },
  {
   "cell_type": "code",
   "execution_count": 4,
   "id": "c3efdd57-6a70-462d-a08d-1e35b70ffcc0",
   "metadata": {},
   "outputs": [
    {
     "data": {
      "text/html": [
       "<div>\n",
       "<style scoped>\n",
       "    .dataframe tbody tr th:only-of-type {\n",
       "        vertical-align: middle;\n",
       "    }\n",
       "\n",
       "    .dataframe tbody tr th {\n",
       "        vertical-align: top;\n",
       "    }\n",
       "\n",
       "    .dataframe thead th {\n",
       "        text-align: right;\n",
       "    }\n",
       "</style>\n",
       "<table border=\"1\" class=\"dataframe\">\n",
       "  <thead>\n",
       "    <tr style=\"text-align: right;\">\n",
       "      <th></th>\n",
       "      <th>participant_ID</th>\n",
       "      <th>breastfeeding_yes</th>\n",
       "      <th>breastfeeding_no</th>\n",
       "      <th>breastfeeding_na</th>\n",
       "    </tr>\n",
       "  </thead>\n",
       "  <tbody>\n",
       "    <tr>\n",
       "      <th>count</th>\n",
       "      <td>4054</td>\n",
       "      <td>280</td>\n",
       "      <td>1786</td>\n",
       "      <td>216</td>\n",
       "    </tr>\n",
       "    <tr>\n",
       "      <th>unique</th>\n",
       "      <td>4054</td>\n",
       "      <td>1</td>\n",
       "      <td>1</td>\n",
       "      <td>1</td>\n",
       "    </tr>\n",
       "    <tr>\n",
       "      <th>top</th>\n",
       "      <td>ns 757</td>\n",
       "      <td>yes</td>\n",
       "      <td>no</td>\n",
       "      <td>not applicable</td>\n",
       "    </tr>\n",
       "    <tr>\n",
       "      <th>freq</th>\n",
       "      <td>1</td>\n",
       "      <td>280</td>\n",
       "      <td>1786</td>\n",
       "      <td>216</td>\n",
       "    </tr>\n",
       "  </tbody>\n",
       "</table>\n",
       "</div>"
      ],
      "text/plain": [
       "       participant_ID breastfeeding_yes breastfeeding_no breastfeeding_na\n",
       "count            4054               280             1786              216\n",
       "unique           4054                 1                1                1\n",
       "top            ns 757               yes               no   not applicable\n",
       "freq                1               280             1786              216"
      ]
     },
     "execution_count": 4,
     "metadata": {},
     "output_type": "execute_result"
    }
   ],
   "source": [
    "# Checking out the values:\n",
    "NS_breastfeeding.describe()"
   ]
  },
  {
   "cell_type": "markdown",
   "id": "bb0eace6-8869-4c74-bfb4-d91c244d578d",
   "metadata": {},
   "source": []
  },
  {
   "cell_type": "markdown",
   "id": "fb6fa4cc-8b9e-433a-9a86-cc50f6a6faed",
   "metadata": {},
   "source": [
    "first, I will find out who provided multiple answers to the breastfeeding question."
   ]
  },
  {
   "cell_type": "code",
   "execution_count": 5,
   "id": "91bea505-9843-4015-9c8b-7da59edb9479",
   "metadata": {},
   "outputs": [],
   "source": [
    "def consolidate_row_exclude_first(row):\n",
    "    consolidated = []\n",
    "    backgrounds = []\n",
    "    # Loop through the specified columns excluding the first one\n",
    "    for value in row.iloc[1:]:\n",
    "        if pd.notna(value) and value != '':\n",
    "            consolidated.append(value)\n",
    "            \n",
    "    return '; '.join(consolidated) , len(consolidated)"
   ]
  },
  {
   "cell_type": "code",
   "execution_count": 6,
   "id": "cd846527-a25c-4b5d-99d7-7da3073e609e",
   "metadata": {},
   "outputs": [
    {
     "name": "stderr",
     "output_type": "stream",
     "text": [
      "/tmp/ipykernel_9531/2872774564.py:2: SettingWithCopyWarning: \n",
      "A value is trying to be set on a copy of a slice from a DataFrame.\n",
      "Try using .loc[row_indexer,col_indexer] = value instead\n",
      "\n",
      "See the caveats in the documentation: https://pandas.pydata.org/pandas-docs/stable/user_guide/indexing.html#returning-a-view-versus-a-copy\n",
      "  NS_breastfeeding[['breastfeeding?', 'number_of_answers']] = NS_breastfeeding.apply(\n",
      "/tmp/ipykernel_9531/2872774564.py:2: SettingWithCopyWarning: \n",
      "A value is trying to be set on a copy of a slice from a DataFrame.\n",
      "Try using .loc[row_indexer,col_indexer] = value instead\n",
      "\n",
      "See the caveats in the documentation: https://pandas.pydata.org/pandas-docs/stable/user_guide/indexing.html#returning-a-view-versus-a-copy\n",
      "  NS_breastfeeding[['breastfeeding?', 'number_of_answers']] = NS_breastfeeding.apply(\n"
     ]
    }
   ],
   "source": [
    "# Apply the function to each row and create new columns\n",
    "NS_breastfeeding[['breastfeeding?', 'number_of_answers']] = NS_breastfeeding.apply(\n",
    "    lambda row: pd.Series(consolidate_row_exclude_first(row)), axis=1\n",
    ")"
   ]
  },
  {
   "cell_type": "code",
   "execution_count": 7,
   "id": "60c5a205-56fc-47e9-a94b-291ba2a8d81e",
   "metadata": {},
   "outputs": [
    {
     "data": {
      "text/html": [
       "<div>\n",
       "<style scoped>\n",
       "    .dataframe tbody tr th:only-of-type {\n",
       "        vertical-align: middle;\n",
       "    }\n",
       "\n",
       "    .dataframe tbody tr th {\n",
       "        vertical-align: top;\n",
       "    }\n",
       "\n",
       "    .dataframe thead th {\n",
       "        text-align: right;\n",
       "    }\n",
       "</style>\n",
       "<table border=\"1\" class=\"dataframe\">\n",
       "  <thead>\n",
       "    <tr style=\"text-align: right;\">\n",
       "      <th></th>\n",
       "      <th>participant_ID</th>\n",
       "      <th>breastfeeding_yes</th>\n",
       "      <th>breastfeeding_no</th>\n",
       "      <th>breastfeeding_na</th>\n",
       "      <th>breastfeeding?</th>\n",
       "      <th>number_of_answers</th>\n",
       "    </tr>\n",
       "  </thead>\n",
       "  <tbody>\n",
       "    <tr>\n",
       "      <th>0</th>\n",
       "      <td>ns 757</td>\n",
       "      <td>NaN</td>\n",
       "      <td>NaN</td>\n",
       "      <td>NaN</td>\n",
       "      <td></td>\n",
       "      <td>0</td>\n",
       "    </tr>\n",
       "    <tr>\n",
       "      <th>1</th>\n",
       "      <td>ns 318</td>\n",
       "      <td>NaN</td>\n",
       "      <td>NaN</td>\n",
       "      <td>NaN</td>\n",
       "      <td></td>\n",
       "      <td>0</td>\n",
       "    </tr>\n",
       "    <tr>\n",
       "      <th>2</th>\n",
       "      <td>ns 328</td>\n",
       "      <td>NaN</td>\n",
       "      <td>NaN</td>\n",
       "      <td>NaN</td>\n",
       "      <td></td>\n",
       "      <td>0</td>\n",
       "    </tr>\n",
       "    <tr>\n",
       "      <th>3</th>\n",
       "      <td>ns 646</td>\n",
       "      <td>NaN</td>\n",
       "      <td>no</td>\n",
       "      <td>NaN</td>\n",
       "      <td>no</td>\n",
       "      <td>1</td>\n",
       "    </tr>\n",
       "    <tr>\n",
       "      <th>4</th>\n",
       "      <td>ns 678</td>\n",
       "      <td>NaN</td>\n",
       "      <td>NaN</td>\n",
       "      <td>NaN</td>\n",
       "      <td></td>\n",
       "      <td>0</td>\n",
       "    </tr>\n",
       "  </tbody>\n",
       "</table>\n",
       "</div>"
      ],
      "text/plain": [
       "  participant_ID breastfeeding_yes breastfeeding_no breastfeeding_na  \\\n",
       "0         ns 757               NaN              NaN              NaN   \n",
       "1         ns 318               NaN              NaN              NaN   \n",
       "2         ns 328               NaN              NaN              NaN   \n",
       "3         ns 646               NaN               no              NaN   \n",
       "4         ns 678               NaN              NaN              NaN   \n",
       "\n",
       "  breastfeeding?  number_of_answers  \n",
       "0                                 0  \n",
       "1                                 0  \n",
       "2                                 0  \n",
       "3             no                  1  \n",
       "4                                 0  "
      ]
     },
     "execution_count": 7,
     "metadata": {},
     "output_type": "execute_result"
    }
   ],
   "source": [
    "NS_breastfeeding.head()"
   ]
  },
  {
   "cell_type": "markdown",
   "id": "076b5804-ab85-4348-8aef-1d9f4e1feffe",
   "metadata": {},
   "source": [
    "Now, we can drop the three breastfeeding columns:"
   ]
  },
  {
   "cell_type": "code",
   "execution_count": 8,
   "id": "a3b49615-886d-4399-a796-754c498ed498",
   "metadata": {},
   "outputs": [
    {
     "name": "stderr",
     "output_type": "stream",
     "text": [
      "/tmp/ipykernel_9531/2111773000.py:2: SettingWithCopyWarning: \n",
      "A value is trying to be set on a copy of a slice from a DataFrame\n",
      "\n",
      "See the caveats in the documentation: https://pandas.pydata.org/pandas-docs/stable/user_guide/indexing.html#returning-a-view-versus-a-copy\n",
      "  NS_breastfeeding.drop(NS_breastfeeding.columns[1:4], axis = 1, inplace = True)\n"
     ]
    }
   ],
   "source": [
    "# Now, we can drop all the columns which have been consolidated:\n",
    "NS_breastfeeding.drop(NS_breastfeeding.columns[1:4], axis = 1, inplace = True)"
   ]
  },
  {
   "cell_type": "code",
   "execution_count": 9,
   "id": "acfa6dff-9dd8-44a4-9f89-473625b6d2cc",
   "metadata": {},
   "outputs": [
    {
     "data": {
      "text/html": [
       "<div>\n",
       "<style scoped>\n",
       "    .dataframe tbody tr th:only-of-type {\n",
       "        vertical-align: middle;\n",
       "    }\n",
       "\n",
       "    .dataframe tbody tr th {\n",
       "        vertical-align: top;\n",
       "    }\n",
       "\n",
       "    .dataframe thead th {\n",
       "        text-align: right;\n",
       "    }\n",
       "</style>\n",
       "<table border=\"1\" class=\"dataframe\">\n",
       "  <thead>\n",
       "    <tr style=\"text-align: right;\">\n",
       "      <th></th>\n",
       "      <th>participant_ID</th>\n",
       "      <th>breastfeeding?</th>\n",
       "      <th>number_of_answers</th>\n",
       "    </tr>\n",
       "  </thead>\n",
       "  <tbody>\n",
       "    <tr>\n",
       "      <th>0</th>\n",
       "      <td>ns 757</td>\n",
       "      <td></td>\n",
       "      <td>0</td>\n",
       "    </tr>\n",
       "    <tr>\n",
       "      <th>1</th>\n",
       "      <td>ns 318</td>\n",
       "      <td></td>\n",
       "      <td>0</td>\n",
       "    </tr>\n",
       "    <tr>\n",
       "      <th>2</th>\n",
       "      <td>ns 328</td>\n",
       "      <td></td>\n",
       "      <td>0</td>\n",
       "    </tr>\n",
       "    <tr>\n",
       "      <th>3</th>\n",
       "      <td>ns 646</td>\n",
       "      <td>no</td>\n",
       "      <td>1</td>\n",
       "    </tr>\n",
       "    <tr>\n",
       "      <th>4</th>\n",
       "      <td>ns 678</td>\n",
       "      <td></td>\n",
       "      <td>0</td>\n",
       "    </tr>\n",
       "  </tbody>\n",
       "</table>\n",
       "</div>"
      ],
      "text/plain": [
       "  participant_ID breastfeeding?  number_of_answers\n",
       "0         ns 757                                 0\n",
       "1         ns 318                                 0\n",
       "2         ns 328                                 0\n",
       "3         ns 646             no                  1\n",
       "4         ns 678                                 0"
      ]
     },
     "execution_count": 9,
     "metadata": {},
     "output_type": "execute_result"
    }
   ],
   "source": [
    "NS_breastfeeding.head()"
   ]
  },
  {
   "cell_type": "code",
   "execution_count": 10,
   "id": "97c6e0a0-ec9e-4cbf-9946-6fb7ecf8a228",
   "metadata": {},
   "outputs": [
    {
     "name": "stdout",
     "output_type": "stream",
     "text": [
      "<class 'pandas.core.frame.DataFrame'>\n",
      "RangeIndex: 4054 entries, 0 to 4053\n",
      "Data columns (total 3 columns):\n",
      " #   Column             Non-Null Count  Dtype \n",
      "---  ------             --------------  ----- \n",
      " 0   participant_ID     4054 non-null   object\n",
      " 1   breastfeeding?     4054 non-null   object\n",
      " 2   number_of_answers  4054 non-null   int64 \n",
      "dtypes: int64(1), object(2)\n",
      "memory usage: 95.1+ KB\n"
     ]
    }
   ],
   "source": [
    "NS_breastfeeding.info()"
   ]
  },
  {
   "cell_type": "markdown",
   "id": "adb8957f-8db1-4914-a54e-175a20df8edd",
   "metadata": {},
   "source": [
    "The info above shows there are no null values, but we can see there are no answers in the breastfeeding? column. Let's check and replace those blanks with 'prefer not to answer'"
   ]
  },
  {
   "cell_type": "code",
   "execution_count": 11,
   "id": "a3d89162-61af-4f94-875c-18d2351f4ba6",
   "metadata": {},
   "outputs": [],
   "source": [
    "update_breastfeeding = NS_breastfeeding[NS_breastfeeding.number_of_answers == 0]"
   ]
  },
  {
   "cell_type": "code",
   "execution_count": 12,
   "id": "e7494d54-c7a6-425a-83a6-e7883a26ecb2",
   "metadata": {},
   "outputs": [
    {
     "name": "stderr",
     "output_type": "stream",
     "text": [
      "/tmp/ipykernel_9531/477912354.py:2: SettingWithCopyWarning: \n",
      "A value is trying to be set on a copy of a slice from a DataFrame\n",
      "\n",
      "See the caveats in the documentation: https://pandas.pydata.org/pandas-docs/stable/user_guide/indexing.html#returning-a-view-versus-a-copy\n",
      "  NS_breastfeeding['breastfeeding?'].loc[update_breastfeeding.index] = 'prefer not to answer'\n"
     ]
    }
   ],
   "source": [
    "# replacing the no values with 'prefer not to answer'\n",
    "NS_breastfeeding['breastfeeding?'].loc[update_breastfeeding.index] = 'prefer not to answer'"
   ]
  },
  {
   "cell_type": "code",
   "execution_count": 13,
   "id": "0740d16b-ff6f-42e5-a4a6-a04c5c60e0f2",
   "metadata": {},
   "outputs": [
    {
     "data": {
      "text/html": [
       "<div>\n",
       "<style scoped>\n",
       "    .dataframe tbody tr th:only-of-type {\n",
       "        vertical-align: middle;\n",
       "    }\n",
       "\n",
       "    .dataframe tbody tr th {\n",
       "        vertical-align: top;\n",
       "    }\n",
       "\n",
       "    .dataframe thead th {\n",
       "        text-align: right;\n",
       "    }\n",
       "</style>\n",
       "<table border=\"1\" class=\"dataframe\">\n",
       "  <thead>\n",
       "    <tr style=\"text-align: right;\">\n",
       "      <th></th>\n",
       "      <th>participant_ID</th>\n",
       "      <th>breastfeeding?</th>\n",
       "      <th>number_of_answers</th>\n",
       "    </tr>\n",
       "  </thead>\n",
       "  <tbody>\n",
       "    <tr>\n",
       "      <th>0</th>\n",
       "      <td>ns 757</td>\n",
       "      <td>prefer not to answer</td>\n",
       "      <td>0</td>\n",
       "    </tr>\n",
       "    <tr>\n",
       "      <th>1</th>\n",
       "      <td>ns 318</td>\n",
       "      <td>prefer not to answer</td>\n",
       "      <td>0</td>\n",
       "    </tr>\n",
       "    <tr>\n",
       "      <th>2</th>\n",
       "      <td>ns 328</td>\n",
       "      <td>prefer not to answer</td>\n",
       "      <td>0</td>\n",
       "    </tr>\n",
       "    <tr>\n",
       "      <th>3</th>\n",
       "      <td>ns 646</td>\n",
       "      <td>no</td>\n",
       "      <td>1</td>\n",
       "    </tr>\n",
       "    <tr>\n",
       "      <th>4</th>\n",
       "      <td>ns 678</td>\n",
       "      <td>prefer not to answer</td>\n",
       "      <td>0</td>\n",
       "    </tr>\n",
       "  </tbody>\n",
       "</table>\n",
       "</div>"
      ],
      "text/plain": [
       "  participant_ID        breastfeeding?  number_of_answers\n",
       "0         ns 757  prefer not to answer                  0\n",
       "1         ns 318  prefer not to answer                  0\n",
       "2         ns 328  prefer not to answer                  0\n",
       "3         ns 646                    no                  1\n",
       "4         ns 678  prefer not to answer                  0"
      ]
     },
     "execution_count": 13,
     "metadata": {},
     "output_type": "execute_result"
    }
   ],
   "source": [
    "NS_breastfeeding.head()"
   ]
  },
  {
   "cell_type": "code",
   "execution_count": 14,
   "id": "82c63f1a-94c3-4f42-b188-e14967b17c25",
   "metadata": {},
   "outputs": [
    {
     "data": {
      "text/plain": [
       "1    2262\n",
       "0    1782\n",
       "2      10\n",
       "Name: number_of_answers, dtype: int64"
      ]
     },
     "execution_count": 14,
     "metadata": {},
     "output_type": "execute_result"
    }
   ],
   "source": [
    "NS_breastfeeding.number_of_answers.value_counts()"
   ]
  },
  {
   "cell_type": "markdown",
   "id": "9beee12c-9a84-4190-a5d2-b959bbeb20d0",
   "metadata": {},
   "source": [
    "We can see that there are some people who provided 2 answers to the question. let's check them up."
   ]
  },
  {
   "cell_type": "code",
   "execution_count": 15,
   "id": "c3b1ee48-4152-4691-b6ed-5ddb5252d587",
   "metadata": {},
   "outputs": [
    {
     "data": {
      "text/html": [
       "<div>\n",
       "<style scoped>\n",
       "    .dataframe tbody tr th:only-of-type {\n",
       "        vertical-align: middle;\n",
       "    }\n",
       "\n",
       "    .dataframe tbody tr th {\n",
       "        vertical-align: top;\n",
       "    }\n",
       "\n",
       "    .dataframe thead th {\n",
       "        text-align: right;\n",
       "    }\n",
       "</style>\n",
       "<table border=\"1\" class=\"dataframe\">\n",
       "  <thead>\n",
       "    <tr style=\"text-align: right;\">\n",
       "      <th></th>\n",
       "      <th>participant_ID</th>\n",
       "      <th>breastfeeding?</th>\n",
       "      <th>number_of_answers</th>\n",
       "    </tr>\n",
       "  </thead>\n",
       "  <tbody>\n",
       "    <tr>\n",
       "      <th>358</th>\n",
       "      <td>ns 1400</td>\n",
       "      <td>yes; no</td>\n",
       "      <td>2</td>\n",
       "    </tr>\n",
       "    <tr>\n",
       "      <th>1287</th>\n",
       "      <td>ns 976</td>\n",
       "      <td>no; not applicable</td>\n",
       "      <td>2</td>\n",
       "    </tr>\n",
       "    <tr>\n",
       "      <th>1611</th>\n",
       "      <td>ns 2498</td>\n",
       "      <td>no; not applicable</td>\n",
       "      <td>2</td>\n",
       "    </tr>\n",
       "    <tr>\n",
       "      <th>1907</th>\n",
       "      <td>ns 2756</td>\n",
       "      <td>no; not applicable</td>\n",
       "      <td>2</td>\n",
       "    </tr>\n",
       "    <tr>\n",
       "      <th>1910</th>\n",
       "      <td>ns 2761</td>\n",
       "      <td>no; not applicable</td>\n",
       "      <td>2</td>\n",
       "    </tr>\n",
       "    <tr>\n",
       "      <th>2338</th>\n",
       "      <td>ns 433</td>\n",
       "      <td>no; not applicable</td>\n",
       "      <td>2</td>\n",
       "    </tr>\n",
       "    <tr>\n",
       "      <th>2348</th>\n",
       "      <td>ns 1533</td>\n",
       "      <td>yes; no</td>\n",
       "      <td>2</td>\n",
       "    </tr>\n",
       "    <tr>\n",
       "      <th>3195</th>\n",
       "      <td>ns 2707</td>\n",
       "      <td>no; not applicable</td>\n",
       "      <td>2</td>\n",
       "    </tr>\n",
       "    <tr>\n",
       "      <th>3386</th>\n",
       "      <td>ns 3829</td>\n",
       "      <td>yes; not applicable</td>\n",
       "      <td>2</td>\n",
       "    </tr>\n",
       "    <tr>\n",
       "      <th>3519</th>\n",
       "      <td>ns 3970</td>\n",
       "      <td>no; not applicable</td>\n",
       "      <td>2</td>\n",
       "    </tr>\n",
       "  </tbody>\n",
       "</table>\n",
       "</div>"
      ],
      "text/plain": [
       "     participant_ID       breastfeeding?  number_of_answers\n",
       "358         ns 1400              yes; no                  2\n",
       "1287         ns 976   no; not applicable                  2\n",
       "1611        ns 2498   no; not applicable                  2\n",
       "1907        ns 2756   no; not applicable                  2\n",
       "1910        ns 2761   no; not applicable                  2\n",
       "2338         ns 433   no; not applicable                  2\n",
       "2348        ns 1533              yes; no                  2\n",
       "3195        ns 2707   no; not applicable                  2\n",
       "3386        ns 3829  yes; not applicable                  2\n",
       "3519        ns 3970   no; not applicable                  2"
      ]
     },
     "execution_count": 15,
     "metadata": {},
     "output_type": "execute_result"
    }
   ],
   "source": [
    "NS_breastfeeding[NS_breastfeeding.number_of_answers == 2]"
   ]
  },
  {
   "cell_type": "code",
   "execution_count": 16,
   "id": "06912d4c-d447-4090-a028-f1cced209d1d",
   "metadata": {},
   "outputs": [],
   "source": [
    "# for those who chose 'no; not applicable' we will replace that answer with 'not applicable':\n",
    "not_applicable = NS_breastfeeding[(NS_breastfeeding.number_of_answers == 2) \n",
    "                                 &(NS_breastfeeding['breastfeeding?'].str.contains('not applicable'))]"
   ]
  },
  {
   "cell_type": "code",
   "execution_count": 17,
   "id": "100a196e-f2ba-4702-a904-966619c83eb0",
   "metadata": {},
   "outputs": [
    {
     "name": "stderr",
     "output_type": "stream",
     "text": [
      "/tmp/ipykernel_9531/721166310.py:2: SettingWithCopyWarning: \n",
      "A value is trying to be set on a copy of a slice from a DataFrame\n",
      "\n",
      "See the caveats in the documentation: https://pandas.pydata.org/pandas-docs/stable/user_guide/indexing.html#returning-a-view-versus-a-copy\n",
      "  NS_breastfeeding['breastfeeding?'].loc[not_applicable.index] = 'not applicable'\n"
     ]
    }
   ],
   "source": [
    "# replace the two values with \"not applicable\":\n",
    "NS_breastfeeding['breastfeeding?'].loc[not_applicable.index] = 'not applicable'"
   ]
  },
  {
   "cell_type": "code",
   "execution_count": 18,
   "id": "ebcf20bd-beba-427e-94ac-d5313bffa26a",
   "metadata": {},
   "outputs": [
    {
     "data": {
      "text/html": [
       "<div>\n",
       "<style scoped>\n",
       "    .dataframe tbody tr th:only-of-type {\n",
       "        vertical-align: middle;\n",
       "    }\n",
       "\n",
       "    .dataframe tbody tr th {\n",
       "        vertical-align: top;\n",
       "    }\n",
       "\n",
       "    .dataframe thead th {\n",
       "        text-align: right;\n",
       "    }\n",
       "</style>\n",
       "<table border=\"1\" class=\"dataframe\">\n",
       "  <thead>\n",
       "    <tr style=\"text-align: right;\">\n",
       "      <th></th>\n",
       "      <th>participant_ID</th>\n",
       "      <th>breastfeeding?</th>\n",
       "      <th>number_of_answers</th>\n",
       "    </tr>\n",
       "  </thead>\n",
       "  <tbody>\n",
       "    <tr>\n",
       "      <th>358</th>\n",
       "      <td>ns 1400</td>\n",
       "      <td>yes; no</td>\n",
       "      <td>2</td>\n",
       "    </tr>\n",
       "    <tr>\n",
       "      <th>1287</th>\n",
       "      <td>ns 976</td>\n",
       "      <td>not applicable</td>\n",
       "      <td>2</td>\n",
       "    </tr>\n",
       "    <tr>\n",
       "      <th>1611</th>\n",
       "      <td>ns 2498</td>\n",
       "      <td>not applicable</td>\n",
       "      <td>2</td>\n",
       "    </tr>\n",
       "    <tr>\n",
       "      <th>1907</th>\n",
       "      <td>ns 2756</td>\n",
       "      <td>not applicable</td>\n",
       "      <td>2</td>\n",
       "    </tr>\n",
       "    <tr>\n",
       "      <th>1910</th>\n",
       "      <td>ns 2761</td>\n",
       "      <td>not applicable</td>\n",
       "      <td>2</td>\n",
       "    </tr>\n",
       "    <tr>\n",
       "      <th>2338</th>\n",
       "      <td>ns 433</td>\n",
       "      <td>not applicable</td>\n",
       "      <td>2</td>\n",
       "    </tr>\n",
       "    <tr>\n",
       "      <th>2348</th>\n",
       "      <td>ns 1533</td>\n",
       "      <td>yes; no</td>\n",
       "      <td>2</td>\n",
       "    </tr>\n",
       "    <tr>\n",
       "      <th>3195</th>\n",
       "      <td>ns 2707</td>\n",
       "      <td>not applicable</td>\n",
       "      <td>2</td>\n",
       "    </tr>\n",
       "    <tr>\n",
       "      <th>3386</th>\n",
       "      <td>ns 3829</td>\n",
       "      <td>not applicable</td>\n",
       "      <td>2</td>\n",
       "    </tr>\n",
       "    <tr>\n",
       "      <th>3519</th>\n",
       "      <td>ns 3970</td>\n",
       "      <td>not applicable</td>\n",
       "      <td>2</td>\n",
       "    </tr>\n",
       "  </tbody>\n",
       "</table>\n",
       "</div>"
      ],
      "text/plain": [
       "     participant_ID  breastfeeding?  number_of_answers\n",
       "358         ns 1400         yes; no                  2\n",
       "1287         ns 976  not applicable                  2\n",
       "1611        ns 2498  not applicable                  2\n",
       "1907        ns 2756  not applicable                  2\n",
       "1910        ns 2761  not applicable                  2\n",
       "2338         ns 433  not applicable                  2\n",
       "2348        ns 1533         yes; no                  2\n",
       "3195        ns 2707  not applicable                  2\n",
       "3386        ns 3829  not applicable                  2\n",
       "3519        ns 3970  not applicable                  2"
      ]
     },
     "execution_count": 18,
     "metadata": {},
     "output_type": "execute_result"
    }
   ],
   "source": [
    "NS_breastfeeding[NS_breastfeeding.number_of_answers == 2]"
   ]
  },
  {
   "cell_type": "code",
   "execution_count": 19,
   "id": "cafe91ec-e6db-434c-b101-6fbb032ccb3c",
   "metadata": {},
   "outputs": [],
   "source": [
    "# replace the value for the \"yes; no\" with \"prefer not to answer\":\n",
    "prefer_no_answer = NS_breastfeeding[(NS_breastfeeding[\"number_of_answers\"] == 2)\n",
    "& (NS_breastfeeding['breastfeeding?'] != 'not applicable')]"
   ]
  },
  {
   "cell_type": "code",
   "execution_count": 20,
   "id": "c01c379e-6b45-4fa2-a602-d398ea1eaf18",
   "metadata": {},
   "outputs": [
    {
     "name": "stderr",
     "output_type": "stream",
     "text": [
      "/tmp/ipykernel_9531/4024261909.py:1: SettingWithCopyWarning: \n",
      "A value is trying to be set on a copy of a slice from a DataFrame\n",
      "\n",
      "See the caveats in the documentation: https://pandas.pydata.org/pandas-docs/stable/user_guide/indexing.html#returning-a-view-versus-a-copy\n",
      "  NS_breastfeeding['breastfeeding?'].loc[prefer_no_answer.index] = 'prefer not to answer'\n"
     ]
    }
   ],
   "source": [
    "NS_breastfeeding['breastfeeding?'].loc[prefer_no_answer.index] = 'prefer not to answer'"
   ]
  },
  {
   "cell_type": "code",
   "execution_count": 21,
   "id": "b89501d6-db17-4e1d-8dc6-a0acc0be64ce",
   "metadata": {},
   "outputs": [
    {
     "data": {
      "text/html": [
       "<div>\n",
       "<style scoped>\n",
       "    .dataframe tbody tr th:only-of-type {\n",
       "        vertical-align: middle;\n",
       "    }\n",
       "\n",
       "    .dataframe tbody tr th {\n",
       "        vertical-align: top;\n",
       "    }\n",
       "\n",
       "    .dataframe thead th {\n",
       "        text-align: right;\n",
       "    }\n",
       "</style>\n",
       "<table border=\"1\" class=\"dataframe\">\n",
       "  <thead>\n",
       "    <tr style=\"text-align: right;\">\n",
       "      <th></th>\n",
       "      <th>participant_ID</th>\n",
       "      <th>breastfeeding?</th>\n",
       "      <th>number_of_answers</th>\n",
       "    </tr>\n",
       "  </thead>\n",
       "  <tbody>\n",
       "    <tr>\n",
       "      <th>count</th>\n",
       "      <td>4054</td>\n",
       "      <td>4054</td>\n",
       "      <td>4054.000000</td>\n",
       "    </tr>\n",
       "    <tr>\n",
       "      <th>unique</th>\n",
       "      <td>4054</td>\n",
       "      <td>4</td>\n",
       "      <td>NaN</td>\n",
       "    </tr>\n",
       "    <tr>\n",
       "      <th>top</th>\n",
       "      <td>ns 757</td>\n",
       "      <td>prefer not to answer</td>\n",
       "      <td>NaN</td>\n",
       "    </tr>\n",
       "    <tr>\n",
       "      <th>freq</th>\n",
       "      <td>1</td>\n",
       "      <td>1784</td>\n",
       "      <td>NaN</td>\n",
       "    </tr>\n",
       "    <tr>\n",
       "      <th>mean</th>\n",
       "      <td>NaN</td>\n",
       "      <td>NaN</td>\n",
       "      <td>0.562901</td>\n",
       "    </tr>\n",
       "    <tr>\n",
       "      <th>std</th>\n",
       "      <td>NaN</td>\n",
       "      <td>NaN</td>\n",
       "      <td>0.501038</td>\n",
       "    </tr>\n",
       "    <tr>\n",
       "      <th>min</th>\n",
       "      <td>NaN</td>\n",
       "      <td>NaN</td>\n",
       "      <td>0.000000</td>\n",
       "    </tr>\n",
       "    <tr>\n",
       "      <th>25%</th>\n",
       "      <td>NaN</td>\n",
       "      <td>NaN</td>\n",
       "      <td>0.000000</td>\n",
       "    </tr>\n",
       "    <tr>\n",
       "      <th>50%</th>\n",
       "      <td>NaN</td>\n",
       "      <td>NaN</td>\n",
       "      <td>1.000000</td>\n",
       "    </tr>\n",
       "    <tr>\n",
       "      <th>75%</th>\n",
       "      <td>NaN</td>\n",
       "      <td>NaN</td>\n",
       "      <td>1.000000</td>\n",
       "    </tr>\n",
       "    <tr>\n",
       "      <th>max</th>\n",
       "      <td>NaN</td>\n",
       "      <td>NaN</td>\n",
       "      <td>2.000000</td>\n",
       "    </tr>\n",
       "  </tbody>\n",
       "</table>\n",
       "</div>"
      ],
      "text/plain": [
       "       participant_ID        breastfeeding?  number_of_answers\n",
       "count            4054                  4054        4054.000000\n",
       "unique           4054                     4                NaN\n",
       "top            ns 757  prefer not to answer                NaN\n",
       "freq                1                  1784                NaN\n",
       "mean              NaN                   NaN           0.562901\n",
       "std               NaN                   NaN           0.501038\n",
       "min               NaN                   NaN           0.000000\n",
       "25%               NaN                   NaN           0.000000\n",
       "50%               NaN                   NaN           1.000000\n",
       "75%               NaN                   NaN           1.000000\n",
       "max               NaN                   NaN           2.000000"
      ]
     },
     "execution_count": 21,
     "metadata": {},
     "output_type": "execute_result"
    }
   ],
   "source": [
    "# Check the data again:\n",
    "NS_breastfeeding.describe(include= 'all')"
   ]
  },
  {
   "cell_type": "code",
   "execution_count": 22,
   "id": "cca51237-1c0e-49c7-8f4e-d0b6e57c84dd",
   "metadata": {
    "tags": []
   },
   "outputs": [
    {
     "data": {
      "text/plain": [
       "participant_ID       0\n",
       "breastfeeding?       0\n",
       "number_of_answers    0\n",
       "dtype: int64"
      ]
     },
     "execution_count": 22,
     "metadata": {},
     "output_type": "execute_result"
    }
   ],
   "source": [
    "NS_breastfeeding.isna().sum()"
   ]
  },
  {
   "cell_type": "markdown",
   "id": "84bd5056-c079-4985-800a-53c316234c7a",
   "metadata": {},
   "source": [
    "# Save the data into a csv file:"
   ]
  },
  {
   "cell_type": "code",
   "execution_count": 23,
   "id": "e350c686-6b34-4c02-b890-8af355704389",
   "metadata": {},
   "outputs": [],
   "source": [
    "# we will stop here for this and save the data into csv file.\n",
    "NS_breastfeeding.to_csv('NS_breastfeeding_final.csv', index = False)"
   ]
  },
  {
   "cell_type": "code",
   "execution_count": null,
   "id": "6881906a-9724-4d12-a03c-4f1c0cd2c03d",
   "metadata": {},
   "outputs": [],
   "source": []
  }
 ],
 "metadata": {
  "kernelspec": {
   "display_name": "Python 3 (ipykernel)",
   "language": "python",
   "name": "python3"
  },
  "language_info": {
   "codemirror_mode": {
    "name": "ipython",
    "version": 3
   },
   "file_extension": ".py",
   "mimetype": "text/x-python",
   "name": "python",
   "nbconvert_exporter": "python",
   "pygments_lexer": "ipython3",
   "version": "3.9.16"
  }
 },
 "nbformat": 4,
 "nbformat_minor": 5
}
