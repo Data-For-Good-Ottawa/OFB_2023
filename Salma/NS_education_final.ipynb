{
 "cells": [
  {
   "cell_type": "markdown",
   "id": "f73b23a3-7b93-4b83-9911-4eb0845f728e",
   "metadata": {},
   "source": [
    "In this notebook, I'll look into the consolidated education data and create a csv file with final dataframe:"
   ]
  },
  {
   "cell_type": "code",
   "execution_count": 1,
   "id": "f754b62e-e8ae-41a8-a83a-941a431a4308",
   "metadata": {},
   "outputs": [],
   "source": [
    "# import libraries:\n",
    "import pandas as pd\n",
    "import numpy as np"
   ]
  },
  {
   "cell_type": "code",
   "execution_count": 2,
   "id": "1e514088-ecc2-476e-bc2e-922f61356d41",
   "metadata": {},
   "outputs": [],
   "source": [
    "# import data:\n",
    "NS_education = pd.read_csv('education_consolidated.csv')"
   ]
  },
  {
   "cell_type": "code",
   "execution_count": 3,
   "id": "ba58afaf-af69-4519-9733-95d83c20235a",
   "metadata": {},
   "outputs": [
    {
     "data": {
      "text/html": [
       "<div>\n",
       "<style scoped>\n",
       "    .dataframe tbody tr th:only-of-type {\n",
       "        vertical-align: middle;\n",
       "    }\n",
       "\n",
       "    .dataframe tbody tr th {\n",
       "        vertical-align: top;\n",
       "    }\n",
       "\n",
       "    .dataframe thead th {\n",
       "        text-align: right;\n",
       "    }\n",
       "</style>\n",
       "<table border=\"1\" class=\"dataframe\">\n",
       "  <thead>\n",
       "    <tr style=\"text-align: right;\">\n",
       "      <th></th>\n",
       "      <th>participant_ID</th>\n",
       "      <th>education_outside_Canada</th>\n",
       "      <th>education_consolidated</th>\n",
       "      <th>education_number_of_answers</th>\n",
       "    </tr>\n",
       "  </thead>\n",
       "  <tbody>\n",
       "    <tr>\n",
       "      <th>0</th>\n",
       "      <td>ns 757</td>\n",
       "      <td>no</td>\n",
       "      <td>apprenticeship training and trades</td>\n",
       "      <td>1</td>\n",
       "    </tr>\n",
       "  </tbody>\n",
       "</table>\n",
       "</div>"
      ],
      "text/plain": [
       "  participant_ID education_outside_Canada              education_consolidated  \\\n",
       "0         ns 757                       no  apprenticeship training and trades   \n",
       "\n",
       "   education_number_of_answers  \n",
       "0                            1  "
      ]
     },
     "execution_count": 3,
     "metadata": {},
     "output_type": "execute_result"
    }
   ],
   "source": [
    "NS_education.head(1)"
   ]
  },
  {
   "cell_type": "markdown",
   "id": "47ddbfe7-5dea-4f36-ae10-7209a73d0592",
   "metadata": {},
   "source": [
    "## How were the questions answered?"
   ]
  },
  {
   "cell_type": "code",
   "execution_count": 4,
   "id": "064df431-c633-4b38-bbcf-ea3c605fde48",
   "metadata": {},
   "outputs": [
    {
     "data": {
      "text/html": [
       "<div>\n",
       "<style scoped>\n",
       "    .dataframe tbody tr th:only-of-type {\n",
       "        vertical-align: middle;\n",
       "    }\n",
       "\n",
       "    .dataframe tbody tr th {\n",
       "        vertical-align: top;\n",
       "    }\n",
       "\n",
       "    .dataframe thead th {\n",
       "        text-align: right;\n",
       "    }\n",
       "</style>\n",
       "<table border=\"1\" class=\"dataframe\">\n",
       "  <thead>\n",
       "    <tr style=\"text-align: right;\">\n",
       "      <th></th>\n",
       "      <th>participant_ID</th>\n",
       "      <th>education_outside_Canada</th>\n",
       "      <th>education_consolidated</th>\n",
       "      <th>education_number_of_answers</th>\n",
       "    </tr>\n",
       "  </thead>\n",
       "  <tbody>\n",
       "    <tr>\n",
       "      <th>count</th>\n",
       "      <td>4054</td>\n",
       "      <td>3960</td>\n",
       "      <td>3974</td>\n",
       "      <td>4054.000000</td>\n",
       "    </tr>\n",
       "    <tr>\n",
       "      <th>unique</th>\n",
       "      <td>4054</td>\n",
       "      <td>4</td>\n",
       "      <td>77</td>\n",
       "      <td>NaN</td>\n",
       "    </tr>\n",
       "    <tr>\n",
       "      <th>top</th>\n",
       "      <td>ns 757</td>\n",
       "      <td>no</td>\n",
       "      <td>completed college / university</td>\n",
       "      <td>NaN</td>\n",
       "    </tr>\n",
       "    <tr>\n",
       "      <th>freq</th>\n",
       "      <td>1</td>\n",
       "      <td>2313</td>\n",
       "      <td>1036</td>\n",
       "      <td>NaN</td>\n",
       "    </tr>\n",
       "    <tr>\n",
       "      <th>mean</th>\n",
       "      <td>NaN</td>\n",
       "      <td>NaN</td>\n",
       "      <td>NaN</td>\n",
       "      <td>1.079674</td>\n",
       "    </tr>\n",
       "    <tr>\n",
       "      <th>std</th>\n",
       "      <td>NaN</td>\n",
       "      <td>NaN</td>\n",
       "      <td>NaN</td>\n",
       "      <td>0.445186</td>\n",
       "    </tr>\n",
       "    <tr>\n",
       "      <th>min</th>\n",
       "      <td>NaN</td>\n",
       "      <td>NaN</td>\n",
       "      <td>NaN</td>\n",
       "      <td>0.000000</td>\n",
       "    </tr>\n",
       "    <tr>\n",
       "      <th>25%</th>\n",
       "      <td>NaN</td>\n",
       "      <td>NaN</td>\n",
       "      <td>NaN</td>\n",
       "      <td>1.000000</td>\n",
       "    </tr>\n",
       "    <tr>\n",
       "      <th>50%</th>\n",
       "      <td>NaN</td>\n",
       "      <td>NaN</td>\n",
       "      <td>NaN</td>\n",
       "      <td>1.000000</td>\n",
       "    </tr>\n",
       "    <tr>\n",
       "      <th>75%</th>\n",
       "      <td>NaN</td>\n",
       "      <td>NaN</td>\n",
       "      <td>NaN</td>\n",
       "      <td>1.000000</td>\n",
       "    </tr>\n",
       "    <tr>\n",
       "      <th>max</th>\n",
       "      <td>NaN</td>\n",
       "      <td>NaN</td>\n",
       "      <td>NaN</td>\n",
       "      <td>9.000000</td>\n",
       "    </tr>\n",
       "  </tbody>\n",
       "</table>\n",
       "</div>"
      ],
      "text/plain": [
       "       participant_ID education_outside_Canada  \\\n",
       "count            4054                     3960   \n",
       "unique           4054                        4   \n",
       "top            ns 757                       no   \n",
       "freq                1                     2313   \n",
       "mean              NaN                      NaN   \n",
       "std               NaN                      NaN   \n",
       "min               NaN                      NaN   \n",
       "25%               NaN                      NaN   \n",
       "50%               NaN                      NaN   \n",
       "75%               NaN                      NaN   \n",
       "max               NaN                      NaN   \n",
       "\n",
       "                education_consolidated  education_number_of_answers  \n",
       "count                             3974                  4054.000000  \n",
       "unique                              77                          NaN  \n",
       "top     completed college / university                          NaN  \n",
       "freq                              1036                          NaN  \n",
       "mean                               NaN                     1.079674  \n",
       "std                                NaN                     0.445186  \n",
       "min                                NaN                     0.000000  \n",
       "25%                                NaN                     1.000000  \n",
       "50%                                NaN                     1.000000  \n",
       "75%                                NaN                     1.000000  \n",
       "max                                NaN                     9.000000  "
      ]
     },
     "execution_count": 4,
     "metadata": {},
     "output_type": "execute_result"
    }
   ],
   "source": [
    "NS_education.describe(include = 'all')"
   ]
  },
  {
   "cell_type": "code",
   "execution_count": 5,
   "id": "8e64b3d6-9488-45af-b838-382d9b41977f",
   "metadata": {},
   "outputs": [
    {
     "data": {
      "text/plain": [
       "array(['no', 'yes', 'received canadian equivalency',\n",
       "       'prefer not to answer', nan], dtype=object)"
      ]
     },
     "execution_count": 5,
     "metadata": {},
     "output_type": "execute_result"
    }
   ],
   "source": [
    "# for the education outside Canada question the unique values are:\n",
    "NS_education.education_outside_Canada.unique()"
   ]
  },
  {
   "cell_type": "markdown",
   "id": "bddb50eb-03c7-466d-bf14-2f03dd31d9da",
   "metadata": {},
   "source": [
    "We can see that we have no problems with answers to the education outside Canada question, however, we do have a problem with the consolidated education data. Namely, a person did not only choose one education option. Therefore, I'll be ranking these options and creating a function to keep only the highest choice. First though, let's ensure we correctly identify those who prefered not to answer the questions."
   ]
  },
  {
   "cell_type": "markdown",
   "id": "d22edd99-0507-40a4-a07f-2f345d19b1b8",
   "metadata": {},
   "source": [
    "## Who did not want to answer the questions:"
   ]
  },
  {
   "cell_type": "code",
   "execution_count": 6,
   "id": "30fa5a19-39cb-4133-bd40-00ad5b308008",
   "metadata": {},
   "outputs": [
    {
     "data": {
      "text/plain": [
       "participant_ID                  0\n",
       "education_outside_Canada       94\n",
       "education_consolidated         80\n",
       "education_number_of_answers     0\n",
       "dtype: int64"
      ]
     },
     "execution_count": 6,
     "metadata": {},
     "output_type": "execute_result"
    }
   ],
   "source": [
    "NS_education.isna().sum()"
   ]
  },
  {
   "cell_type": "code",
   "execution_count": 7,
   "id": "1d8ecb1c-9908-4478-87eb-518fcfa3ee7a",
   "metadata": {},
   "outputs": [],
   "source": [
    "# let us find out how many \"prefer not to answer\" the highest level of education question:\n",
    "prefer_not_to_answer = NS_education[(NS_education.education_consolidated.isna() == True)]"
   ]
  },
  {
   "cell_type": "code",
   "execution_count": 8,
   "id": "4c3e0a92-1f71-477e-927d-dbc64f119716",
   "metadata": {},
   "outputs": [
    {
     "name": "stderr",
     "output_type": "stream",
     "text": [
      "/tmp/ipykernel_10804/3035991924.py:1: SettingWithCopyWarning: \n",
      "A value is trying to be set on a copy of a slice from a DataFrame\n",
      "\n",
      "See the caveats in the documentation: https://pandas.pydata.org/pandas-docs/stable/user_guide/indexing.html#returning-a-view-versus-a-copy\n",
      "  NS_education.education_consolidated.iloc[prefer_not_to_answer.index] = 'prefer not to answer'\n"
     ]
    }
   ],
   "source": [
    "NS_education.education_consolidated.iloc[prefer_not_to_answer.index] = 'prefer not to answer'"
   ]
  },
  {
   "cell_type": "code",
   "execution_count": 9,
   "id": "b245d6fb-5006-4aef-9970-4ddf4974067d",
   "metadata": {},
   "outputs": [
    {
     "data": {
      "text/plain": [
       "participant_ID                  0\n",
       "education_outside_Canada       94\n",
       "education_consolidated          0\n",
       "education_number_of_answers     0\n",
       "dtype: int64"
      ]
     },
     "execution_count": 9,
     "metadata": {},
     "output_type": "execute_result"
    }
   ],
   "source": [
    "# how many left with nans?\n",
    "NS_education.isna().sum()"
   ]
  },
  {
   "cell_type": "code",
   "execution_count": 10,
   "id": "c3223059-1dba-4c63-a304-894f667266c4",
   "metadata": {},
   "outputs": [],
   "source": [
    "# let's also replace the NaNs for those who did not answer the \"education outside Canada\" question:\n",
    "foreign_education_no_answer = NS_education[(NS_education.education_outside_Canada.isna() == True)]"
   ]
  },
  {
   "cell_type": "code",
   "execution_count": 11,
   "id": "3963d871-9a95-4e3e-9ef0-67ae978bed3a",
   "metadata": {},
   "outputs": [
    {
     "name": "stderr",
     "output_type": "stream",
     "text": [
      "/tmp/ipykernel_10804/1151220649.py:1: SettingWithCopyWarning: \n",
      "A value is trying to be set on a copy of a slice from a DataFrame\n",
      "\n",
      "See the caveats in the documentation: https://pandas.pydata.org/pandas-docs/stable/user_guide/indexing.html#returning-a-view-versus-a-copy\n",
      "  NS_education.education_outside_Canada.iloc[foreign_education_no_answer.index] = 'prefer not to answer'\n"
     ]
    }
   ],
   "source": [
    "NS_education.education_outside_Canada.iloc[foreign_education_no_answer.index] = 'prefer not to answer'"
   ]
  },
  {
   "cell_type": "code",
   "execution_count": 12,
   "id": "87430d58-73ff-4c92-bb7e-b037fcd7b8d6",
   "metadata": {},
   "outputs": [
    {
     "data": {
      "text/plain": [
       "participant_ID                 0\n",
       "education_outside_Canada       0\n",
       "education_consolidated         0\n",
       "education_number_of_answers    0\n",
       "dtype: int64"
      ]
     },
     "execution_count": 12,
     "metadata": {},
     "output_type": "execute_result"
    }
   ],
   "source": [
    "NS_education.isna().sum()"
   ]
  },
  {
   "cell_type": "markdown",
   "id": "07d29dee-d788-4352-ac3c-4ffffbcc63e4",
   "metadata": {},
   "source": [
    "##### P.S. I will **not** be changing the number of answers provided in order to enable any data quality check if needed."
   ]
  },
  {
   "cell_type": "markdown",
   "id": "c8b0a464-5a78-4b3a-8f48-907361f78f46",
   "metadata": {},
   "source": [
    "## Now, let us choose the highest education:"
   ]
  },
  {
   "cell_type": "code",
   "execution_count": 13,
   "id": "5f379d84-ca92-4fa1-967f-258734d98970",
   "metadata": {},
   "outputs": [],
   "source": [
    "# First, I'll create the ordered list of education levels as ordered in the questions:\n",
    "education_levels = [\n",
    "    'some high school',\n",
    "    'completed high school',\n",
    "    'some college / university',\n",
    "    'completed college / university',\n",
    "    'apprenticeship training and trades',\n",
    "    'some graduate education',\n",
    "    'completed graduate education',\n",
    "    'professional degree',\n",
    "    'prefer not to answer'\n",
    "]"
   ]
  },
  {
   "cell_type": "code",
   "execution_count": 14,
   "id": "d3a99e05-606e-480c-b5fa-2b8fc8fd4278",
   "metadata": {},
   "outputs": [],
   "source": [
    "# Then, I'll create a mapping of education levels to ranks\n",
    "education_rank = {level: rank for rank, level in enumerate(education_levels)}"
   ]
  },
  {
   "cell_type": "code",
   "execution_count": 15,
   "id": "01068c07-f4e4-488c-98d1-026219c65b22",
   "metadata": {},
   "outputs": [],
   "source": [
    "# Now, I'll create a function to determine the highest education level\n",
    "def highest_education(education_string):\n",
    "    \"\"\"\n",
    "    Determine the highest level of education from a semicolon-separated string.\n",
    "\n",
    "    This function processes a string containing multiple education levels separated by semicolons and returns the highest education level \n",
    "    based on a predefined ranking.\n",
    "\n",
    "    Parameters:\n",
    "    education_string (str): A string containing education levels separated by '; '.\n",
    "\n",
    "    Returns:\n",
    "    str: The highest education level from the input string based on the predefined ranking.\n",
    "    \"\"\"\n",
    "    \n",
    "    levels = education_string.split('; ')\n",
    "    highest_level = max(levels, key=lambda level: education_rank[level])\n",
    "    return highest_level"
   ]
  },
  {
   "cell_type": "code",
   "execution_count": 16,
   "id": "f7130c94-f325-4f88-8817-1b76ac1f66cf",
   "metadata": {},
   "outputs": [],
   "source": [
    "# Apply the function to the Education column\n",
    "NS_education['highest_education'] = NS_education['education_consolidated'].apply(highest_education)"
   ]
  },
  {
   "cell_type": "code",
   "execution_count": 17,
   "id": "ffdfa37f-bbe6-4363-acad-d78e91581d9f",
   "metadata": {},
   "outputs": [
    {
     "data": {
      "text/html": [
       "<div>\n",
       "<style scoped>\n",
       "    .dataframe tbody tr th:only-of-type {\n",
       "        vertical-align: middle;\n",
       "    }\n",
       "\n",
       "    .dataframe tbody tr th {\n",
       "        vertical-align: top;\n",
       "    }\n",
       "\n",
       "    .dataframe thead th {\n",
       "        text-align: right;\n",
       "    }\n",
       "</style>\n",
       "<table border=\"1\" class=\"dataframe\">\n",
       "  <thead>\n",
       "    <tr style=\"text-align: right;\">\n",
       "      <th></th>\n",
       "      <th>participant_ID</th>\n",
       "      <th>education_outside_Canada</th>\n",
       "      <th>education_consolidated</th>\n",
       "      <th>education_number_of_answers</th>\n",
       "      <th>highest_education</th>\n",
       "    </tr>\n",
       "  </thead>\n",
       "  <tbody>\n",
       "    <tr>\n",
       "      <th>count</th>\n",
       "      <td>4054</td>\n",
       "      <td>4054</td>\n",
       "      <td>4054</td>\n",
       "      <td>4054.000000</td>\n",
       "      <td>4054</td>\n",
       "    </tr>\n",
       "    <tr>\n",
       "      <th>unique</th>\n",
       "      <td>4054</td>\n",
       "      <td>4</td>\n",
       "      <td>77</td>\n",
       "      <td>NaN</td>\n",
       "      <td>9</td>\n",
       "    </tr>\n",
       "    <tr>\n",
       "      <th>top</th>\n",
       "      <td>ns 757</td>\n",
       "      <td>no</td>\n",
       "      <td>completed college / university</td>\n",
       "      <td>NaN</td>\n",
       "      <td>completed college / university</td>\n",
       "    </tr>\n",
       "    <tr>\n",
       "      <th>freq</th>\n",
       "      <td>1</td>\n",
       "      <td>2313</td>\n",
       "      <td>1036</td>\n",
       "      <td>NaN</td>\n",
       "      <td>1084</td>\n",
       "    </tr>\n",
       "    <tr>\n",
       "      <th>mean</th>\n",
       "      <td>NaN</td>\n",
       "      <td>NaN</td>\n",
       "      <td>NaN</td>\n",
       "      <td>1.079674</td>\n",
       "      <td>NaN</td>\n",
       "    </tr>\n",
       "    <tr>\n",
       "      <th>std</th>\n",
       "      <td>NaN</td>\n",
       "      <td>NaN</td>\n",
       "      <td>NaN</td>\n",
       "      <td>0.445186</td>\n",
       "      <td>NaN</td>\n",
       "    </tr>\n",
       "    <tr>\n",
       "      <th>min</th>\n",
       "      <td>NaN</td>\n",
       "      <td>NaN</td>\n",
       "      <td>NaN</td>\n",
       "      <td>0.000000</td>\n",
       "      <td>NaN</td>\n",
       "    </tr>\n",
       "    <tr>\n",
       "      <th>25%</th>\n",
       "      <td>NaN</td>\n",
       "      <td>NaN</td>\n",
       "      <td>NaN</td>\n",
       "      <td>1.000000</td>\n",
       "      <td>NaN</td>\n",
       "    </tr>\n",
       "    <tr>\n",
       "      <th>50%</th>\n",
       "      <td>NaN</td>\n",
       "      <td>NaN</td>\n",
       "      <td>NaN</td>\n",
       "      <td>1.000000</td>\n",
       "      <td>NaN</td>\n",
       "    </tr>\n",
       "    <tr>\n",
       "      <th>75%</th>\n",
       "      <td>NaN</td>\n",
       "      <td>NaN</td>\n",
       "      <td>NaN</td>\n",
       "      <td>1.000000</td>\n",
       "      <td>NaN</td>\n",
       "    </tr>\n",
       "    <tr>\n",
       "      <th>max</th>\n",
       "      <td>NaN</td>\n",
       "      <td>NaN</td>\n",
       "      <td>NaN</td>\n",
       "      <td>9.000000</td>\n",
       "      <td>NaN</td>\n",
       "    </tr>\n",
       "  </tbody>\n",
       "</table>\n",
       "</div>"
      ],
      "text/plain": [
       "       participant_ID education_outside_Canada  \\\n",
       "count            4054                     4054   \n",
       "unique           4054                        4   \n",
       "top            ns 757                       no   \n",
       "freq                1                     2313   \n",
       "mean              NaN                      NaN   \n",
       "std               NaN                      NaN   \n",
       "min               NaN                      NaN   \n",
       "25%               NaN                      NaN   \n",
       "50%               NaN                      NaN   \n",
       "75%               NaN                      NaN   \n",
       "max               NaN                      NaN   \n",
       "\n",
       "                education_consolidated  education_number_of_answers  \\\n",
       "count                             4054                  4054.000000   \n",
       "unique                              77                          NaN   \n",
       "top     completed college / university                          NaN   \n",
       "freq                              1036                          NaN   \n",
       "mean                               NaN                     1.079674   \n",
       "std                                NaN                     0.445186   \n",
       "min                                NaN                     0.000000   \n",
       "25%                                NaN                     1.000000   \n",
       "50%                                NaN                     1.000000   \n",
       "75%                                NaN                     1.000000   \n",
       "max                                NaN                     9.000000   \n",
       "\n",
       "                     highest_education  \n",
       "count                             4054  \n",
       "unique                               9  \n",
       "top     completed college / university  \n",
       "freq                              1084  \n",
       "mean                               NaN  \n",
       "std                                NaN  \n",
       "min                                NaN  \n",
       "25%                                NaN  \n",
       "50%                                NaN  \n",
       "75%                                NaN  \n",
       "max                                NaN  "
      ]
     },
     "execution_count": 17,
     "metadata": {},
     "output_type": "execute_result"
    }
   ],
   "source": [
    "# Get a summary of the outcome:\n",
    "NS_education.describe(include = 'all')"
   ]
  },
  {
   "cell_type": "code",
   "execution_count": 18,
   "id": "321b09be-6e62-48c9-82b9-f4e920800cbc",
   "metadata": {},
   "outputs": [
    {
     "data": {
      "text/plain": [
       "array(['apprenticeship training and trades',\n",
       "       'completed college / university', 'completed high school',\n",
       "       'some high school', 'some college / university',\n",
       "       'prefer not to answer', 'completed graduate education',\n",
       "       'some graduate education', 'professional degree'], dtype=object)"
      ]
     },
     "execution_count": 18,
     "metadata": {},
     "output_type": "execute_result"
    }
   ],
   "source": [
    "# with only 9 unique values in the highest_education column, this looks much better!\n",
    "NS_education.highest_education.unique()"
   ]
  },
  {
   "cell_type": "markdown",
   "id": "5bf1cb83-bb99-4ac3-8733-c8d4c24b302d",
   "metadata": {},
   "source": [
    "Now, we are good!!"
   ]
  },
  {
   "cell_type": "code",
   "execution_count": 19,
   "id": "94d086d0-2f3c-4aec-95f8-d1d7ccf035f7",
   "metadata": {},
   "outputs": [],
   "source": [
    "# Select desired columns from dataframe above.\n",
    "NS_highest_education = NS_education[['participant_ID', 'highest_education',  'education_number_of_answers', 'education_outside_Canada']]"
   ]
  },
  {
   "cell_type": "code",
   "execution_count": 20,
   "id": "58997652-8716-4003-b054-ac208f59ca61",
   "metadata": {},
   "outputs": [],
   "source": [
    "# Save into a csv file.\n",
    "NS_highest_education.to_csv('NS_highest_education_final.csv', index = False)"
   ]
  },
  {
   "cell_type": "markdown",
   "id": "15914b6f-52c0-4f5f-8aa4-d8ded805f6fc",
   "metadata": {},
   "source": [
    "Question to consider: What if the apprenticeship program was done after a graduate or professional degree?"
   ]
  },
  {
   "cell_type": "code",
   "execution_count": null,
   "id": "feda61d1-8f72-4aa3-a817-8c70d6d46157",
   "metadata": {},
   "outputs": [],
   "source": []
  }
 ],
 "metadata": {
  "kernelspec": {
   "display_name": "Python 3 (ipykernel)",
   "language": "python",
   "name": "python3"
  },
  "language_info": {
   "codemirror_mode": {
    "name": "ipython",
    "version": 3
   },
   "file_extension": ".py",
   "mimetype": "text/x-python",
   "name": "python",
   "nbconvert_exporter": "python",
   "pygments_lexer": "ipython3",
   "version": "3.9.16"
  }
 },
 "nbformat": 4,
 "nbformat_minor": 5
}
