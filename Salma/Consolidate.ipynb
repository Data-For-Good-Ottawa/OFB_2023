{
 "cells": [
  {
   "cell_type": "markdown",
   "id": "6a0beb82-5120-4f45-8f94-8c3e246d751c",
   "metadata": {},
   "source": [
    "In this notebook, I'll be taking the original cleaned NS data and creating partial dataframes.\n",
    "For each topic, I'll\n",
    "1. create a complete dataframe (which is just a subset from the Cleaned_NS.csv (save as origianl_topic_data.csv);\n",
    "2. consolidate the data in all columns except \"other\" column;\n",
    "3. save the consolidated dataframe into a csv file (topic_consolidated.csv)\n",
    "4. save each of the above dataframes into csv files as indicated in the brackets."
   ]
  },
  {
   "cell_type": "code",
   "execution_count": 6,
   "id": "838d84cf-a200-4f03-8d99-2bea59746828",
   "metadata": {},
   "outputs": [],
   "source": [
    "import pandas as pd\n",
    "import numpy as np"
   ]
  },
  {
   "cell_type": "code",
   "execution_count": 7,
   "id": "85a22961-00ce-4d81-8195-6355309a0edb",
   "metadata": {},
   "outputs": [],
   "source": [
    "# import NS data:\n",
    "NS = pd.read_csv('Cleaned_NS.csv')"
   ]
  },
  {
   "cell_type": "code",
   "execution_count": 8,
   "id": "e9171cc3-51fa-4f29-8bf6-132edb19bc15",
   "metadata": {},
   "outputs": [],
   "source": [
    "# I'll create a list of questions to consolidate their answers:\n",
    "list_to_consolidate = ['access',\n",
    "                       'mode_transportation', \n",
    "                       'other_services',\n",
    "                       'disease',\n",
    "                       'service_enough',\n",
    "                       'food_type',\n",
    "                       'education',\n",
    "                       'disability',\n",
    "                       'ethnicity',\n",
    "                       'income']"
   ]
  },
  {
   "cell_type": "code",
   "execution_count": 9,
   "id": "62621d7d-0ae4-438f-af29-30d0e7cedfc1",
   "metadata": {},
   "outputs": [],
   "source": [
    "# create a function to consolidate the data:\n",
    "def consolidate_row(row):\n",
    "    \"\"\" \n",
    "    Consolidate answers from a DataFrame row, excluding the first and last columns.\n",
    "\n",
    "    This function processes a row from a DataFrame to:\n",
    "    1. Create a list of consolidated answers from specified columns, excluding the \"participant_ID\" (first column) and the last column.\n",
    "       - Only non-null and non-empty values are included in the list.\n",
    "    2. Count the number of answers provided.\n",
    "    3. If the consolidated list contains \"prefer not to answer\", the list is updated to contain only this value.\n",
    "    4. Return the consolidated answers as a single string and the count of answers.\n",
    "\n",
    "    Parameters:\n",
    "    row (pd.Series): A row from a DataFrame containing answers to be consolidated.\n",
    "\n",
    "    Returns:\n",
    "    tuple: A tuple containing:\n",
    "           - A string of consolidated answers, joined by '; '.\n",
    "           - An integer count of the number of answers provided.\n",
    "    \"\"\"\n",
    "        \n",
    "    consolidated = []\n",
    "    \n",
    "    # Loop through the specified columns excluding the \"participant_ID\" and last columns:\n",
    "    for value in row.iloc[1:]:\n",
    "        if pd.notna(value) and value != '':\n",
    "            consolidated.append(value)\n",
    "    \n",
    "    # finding out how many answers were provided:\n",
    "    number_of_answers = len(consolidated)\n",
    "    \n",
    "    # updating the records for \"prefer not to answer\":\n",
    "    if 'prefer not to answer' in consolidated:\n",
    "        consolidated = ['prefer not to answer']\n",
    "    \n",
    "    return '; '.join(consolidated) , number_of_answers"
   ]
  },
  {
   "cell_type": "code",
   "execution_count": 10,
   "id": "4795a0dc-da1e-4970-8429-0c67ab859067",
   "metadata": {
    "tags": []
   },
   "outputs": [
    {
     "name": "stdout",
     "output_type": "stream",
     "text": [
      "Topic access columns are: \n",
      " Index(['participant_ID', 'access_difficulty_none',\n",
      "       'access_difficulty_language', 'access_difficulty_physical_disability',\n",
      "       'access_difficulty_safety_concerns', 'access_difficulty_transportation',\n",
      "       'access_difficulty_hours_of_operation',\n",
      "       'access_difficulty_prefer_not_to_answer', 'access_difficulty_others'],\n",
      "      dtype='object')\n"
     ]
    },
    {
     "name": "stderr",
     "output_type": "stream",
     "text": [
      "/tmp/ipykernel_10517/1282192166.py:18: SettingWithCopyWarning: \n",
      "A value is trying to be set on a copy of a slice from a DataFrame.\n",
      "Try using .loc[row_indexer,col_indexer] = value instead\n",
      "\n",
      "See the caveats in the documentation: https://pandas.pydata.org/pandas-docs/stable/user_guide/indexing.html#returning-a-view-versus-a-copy\n",
      "  df[[f'{x}_consolidated', f'{x}_number_of_answers']] = df.apply(\n",
      "/tmp/ipykernel_10517/1282192166.py:18: SettingWithCopyWarning: \n",
      "A value is trying to be set on a copy of a slice from a DataFrame.\n",
      "Try using .loc[row_indexer,col_indexer] = value instead\n",
      "\n",
      "See the caveats in the documentation: https://pandas.pydata.org/pandas-docs/stable/user_guide/indexing.html#returning-a-view-versus-a-copy\n",
      "  df[[f'{x}_consolidated', f'{x}_number_of_answers']] = df.apply(\n",
      "/tmp/ipykernel_10517/1282192166.py:22: SettingWithCopyWarning: \n",
      "A value is trying to be set on a copy of a slice from a DataFrame\n",
      "\n",
      "See the caveats in the documentation: https://pandas.pydata.org/pandas-docs/stable/user_guide/indexing.html#returning-a-view-versus-a-copy\n",
      "  df.drop(df.columns[1:-3], axis = 1, inplace = True)\n"
     ]
    },
    {
     "name": "stdout",
     "output_type": "stream",
     "text": [
      "all files related to topic access were created successfully! \n",
      " \n",
      "Topic mode_transportation columns are: \n",
      " Index(['participant_ID', 'mode_transportation_walk',\n",
      "       'mode_transportation_cycle', 'mode_transportation_public',\n",
      "       'mode_transportation_private',\n",
      "       'mode_transportation_prefer_not_to_answer',\n",
      "       'mode_transportation_others'],\n",
      "      dtype='object')\n"
     ]
    },
    {
     "name": "stderr",
     "output_type": "stream",
     "text": [
      "/tmp/ipykernel_10517/1282192166.py:18: SettingWithCopyWarning: \n",
      "A value is trying to be set on a copy of a slice from a DataFrame.\n",
      "Try using .loc[row_indexer,col_indexer] = value instead\n",
      "\n",
      "See the caveats in the documentation: https://pandas.pydata.org/pandas-docs/stable/user_guide/indexing.html#returning-a-view-versus-a-copy\n",
      "  df[[f'{x}_consolidated', f'{x}_number_of_answers']] = df.apply(\n",
      "/tmp/ipykernel_10517/1282192166.py:18: SettingWithCopyWarning: \n",
      "A value is trying to be set on a copy of a slice from a DataFrame.\n",
      "Try using .loc[row_indexer,col_indexer] = value instead\n",
      "\n",
      "See the caveats in the documentation: https://pandas.pydata.org/pandas-docs/stable/user_guide/indexing.html#returning-a-view-versus-a-copy\n",
      "  df[[f'{x}_consolidated', f'{x}_number_of_answers']] = df.apply(\n",
      "/tmp/ipykernel_10517/1282192166.py:22: SettingWithCopyWarning: \n",
      "A value is trying to be set on a copy of a slice from a DataFrame\n",
      "\n",
      "See the caveats in the documentation: https://pandas.pydata.org/pandas-docs/stable/user_guide/indexing.html#returning-a-view-versus-a-copy\n",
      "  df.drop(df.columns[1:-3], axis = 1, inplace = True)\n"
     ]
    },
    {
     "name": "stdout",
     "output_type": "stream",
     "text": [
      "all files related to topic mode_transportation were created successfully! \n",
      " \n",
      "Topic other_services columns are: \n",
      " Index(['participant_ID', 'other_services_housing_utilities',\n",
      "       'other_services_computers_internet',\n",
      "       'other_services_tax_clinic_financial_services', 'other_services_legal',\n",
      "       'other_services_navigation', 'other_services_employment_income_support',\n",
      "       'other_services_education', 'other_services_childcare',\n",
      "       'other_services_none', 'other_services_prefer_not_to_answer',\n",
      "       'other_services_other'],\n",
      "      dtype='object')\n"
     ]
    },
    {
     "name": "stderr",
     "output_type": "stream",
     "text": [
      "/tmp/ipykernel_10517/1282192166.py:18: SettingWithCopyWarning: \n",
      "A value is trying to be set on a copy of a slice from a DataFrame.\n",
      "Try using .loc[row_indexer,col_indexer] = value instead\n",
      "\n",
      "See the caveats in the documentation: https://pandas.pydata.org/pandas-docs/stable/user_guide/indexing.html#returning-a-view-versus-a-copy\n",
      "  df[[f'{x}_consolidated', f'{x}_number_of_answers']] = df.apply(\n",
      "/tmp/ipykernel_10517/1282192166.py:18: SettingWithCopyWarning: \n",
      "A value is trying to be set on a copy of a slice from a DataFrame.\n",
      "Try using .loc[row_indexer,col_indexer] = value instead\n",
      "\n",
      "See the caveats in the documentation: https://pandas.pydata.org/pandas-docs/stable/user_guide/indexing.html#returning-a-view-versus-a-copy\n",
      "  df[[f'{x}_consolidated', f'{x}_number_of_answers']] = df.apply(\n",
      "/tmp/ipykernel_10517/1282192166.py:22: SettingWithCopyWarning: \n",
      "A value is trying to be set on a copy of a slice from a DataFrame\n",
      "\n",
      "See the caveats in the documentation: https://pandas.pydata.org/pandas-docs/stable/user_guide/indexing.html#returning-a-view-versus-a-copy\n",
      "  df.drop(df.columns[1:-3], axis = 1, inplace = True)\n"
     ]
    },
    {
     "name": "stdout",
     "output_type": "stream",
     "text": [
      "all files related to topic other_services were created successfully! \n",
      " \n",
      "Topic disease columns are: \n",
      " Index(['participant_ID', 'disease_prefer_not_to_answer', 'disease_diabetes',\n",
      "       'disease_high_blood_pressure', 'disease_heart', 'disease_none',\n",
      "       'disease_other'],\n",
      "      dtype='object')\n"
     ]
    },
    {
     "name": "stderr",
     "output_type": "stream",
     "text": [
      "/tmp/ipykernel_10517/1282192166.py:18: SettingWithCopyWarning: \n",
      "A value is trying to be set on a copy of a slice from a DataFrame.\n",
      "Try using .loc[row_indexer,col_indexer] = value instead\n",
      "\n",
      "See the caveats in the documentation: https://pandas.pydata.org/pandas-docs/stable/user_guide/indexing.html#returning-a-view-versus-a-copy\n",
      "  df[[f'{x}_consolidated', f'{x}_number_of_answers']] = df.apply(\n",
      "/tmp/ipykernel_10517/1282192166.py:18: SettingWithCopyWarning: \n",
      "A value is trying to be set on a copy of a slice from a DataFrame.\n",
      "Try using .loc[row_indexer,col_indexer] = value instead\n",
      "\n",
      "See the caveats in the documentation: https://pandas.pydata.org/pandas-docs/stable/user_guide/indexing.html#returning-a-view-versus-a-copy\n",
      "  df[[f'{x}_consolidated', f'{x}_number_of_answers']] = df.apply(\n",
      "/tmp/ipykernel_10517/1282192166.py:22: SettingWithCopyWarning: \n",
      "A value is trying to be set on a copy of a slice from a DataFrame\n",
      "\n",
      "See the caveats in the documentation: https://pandas.pydata.org/pandas-docs/stable/user_guide/indexing.html#returning-a-view-versus-a-copy\n",
      "  df.drop(df.columns[1:-3], axis = 1, inplace = True)\n"
     ]
    },
    {
     "name": "stdout",
     "output_type": "stream",
     "text": [
      "all files related to topic disease were created successfully! \n",
      " \n",
      "Topic service_enough columns are: \n",
      " Index(['participant_ID', 'service_enough_none_of_the_above',\n",
      "       'service_enough_yes', 'service_enough_no', 'service_enough_sometime',\n",
      "       'service_enough_prefer_not_to_answer', 'service_enough_other'],\n",
      "      dtype='object')\n"
     ]
    },
    {
     "name": "stderr",
     "output_type": "stream",
     "text": [
      "/tmp/ipykernel_10517/1282192166.py:18: SettingWithCopyWarning: \n",
      "A value is trying to be set on a copy of a slice from a DataFrame.\n",
      "Try using .loc[row_indexer,col_indexer] = value instead\n",
      "\n",
      "See the caveats in the documentation: https://pandas.pydata.org/pandas-docs/stable/user_guide/indexing.html#returning-a-view-versus-a-copy\n",
      "  df[[f'{x}_consolidated', f'{x}_number_of_answers']] = df.apply(\n",
      "/tmp/ipykernel_10517/1282192166.py:18: SettingWithCopyWarning: \n",
      "A value is trying to be set on a copy of a slice from a DataFrame.\n",
      "Try using .loc[row_indexer,col_indexer] = value instead\n",
      "\n",
      "See the caveats in the documentation: https://pandas.pydata.org/pandas-docs/stable/user_guide/indexing.html#returning-a-view-versus-a-copy\n",
      "  df[[f'{x}_consolidated', f'{x}_number_of_answers']] = df.apply(\n",
      "/tmp/ipykernel_10517/1282192166.py:22: SettingWithCopyWarning: \n",
      "A value is trying to be set on a copy of a slice from a DataFrame\n",
      "\n",
      "See the caveats in the documentation: https://pandas.pydata.org/pandas-docs/stable/user_guide/indexing.html#returning-a-view-versus-a-copy\n",
      "  df.drop(df.columns[1:-3], axis = 1, inplace = True)\n"
     ]
    },
    {
     "name": "stdout",
     "output_type": "stream",
     "text": [
      "all files related to topic service_enough were created successfully! \n",
      " \n",
      "Topic food_type columns are: \n",
      " Index(['participant_ID', 'food_type_halal', 'food_type_kosher',\n",
      "       'food_type_vegan_vegetarian', 'food_type_medical_condition',\n",
      "       'food_type_allergen_free', 'food_type_country', 'food_type_not_special',\n",
      "       'food_type_prefer_not_to_answer', 'food_type_other'],\n",
      "      dtype='object')\n"
     ]
    },
    {
     "name": "stderr",
     "output_type": "stream",
     "text": [
      "/tmp/ipykernel_10517/1282192166.py:18: SettingWithCopyWarning: \n",
      "A value is trying to be set on a copy of a slice from a DataFrame.\n",
      "Try using .loc[row_indexer,col_indexer] = value instead\n",
      "\n",
      "See the caveats in the documentation: https://pandas.pydata.org/pandas-docs/stable/user_guide/indexing.html#returning-a-view-versus-a-copy\n",
      "  df[[f'{x}_consolidated', f'{x}_number_of_answers']] = df.apply(\n",
      "/tmp/ipykernel_10517/1282192166.py:18: SettingWithCopyWarning: \n",
      "A value is trying to be set on a copy of a slice from a DataFrame.\n",
      "Try using .loc[row_indexer,col_indexer] = value instead\n",
      "\n",
      "See the caveats in the documentation: https://pandas.pydata.org/pandas-docs/stable/user_guide/indexing.html#returning-a-view-versus-a-copy\n",
      "  df[[f'{x}_consolidated', f'{x}_number_of_answers']] = df.apply(\n",
      "/tmp/ipykernel_10517/1282192166.py:22: SettingWithCopyWarning: \n",
      "A value is trying to be set on a copy of a slice from a DataFrame\n",
      "\n",
      "See the caveats in the documentation: https://pandas.pydata.org/pandas-docs/stable/user_guide/indexing.html#returning-a-view-versus-a-copy\n",
      "  df.drop(df.columns[1:-3], axis = 1, inplace = True)\n"
     ]
    },
    {
     "name": "stdout",
     "output_type": "stream",
     "text": [
      "all files related to topic food_type were created successfully! \n",
      " \n",
      "Topic education columns are: \n",
      " Index(['participant_ID', 'education_high_school_some',\n",
      "       'education_high_school_completed', 'education_college_some',\n",
      "       'education_college_completed', 'education_trades',\n",
      "       'education_graduate_education_some',\n",
      "       'education_graduate_education_completed',\n",
      "       'education_professional_degree', 'education_prefer_not_to_answer',\n",
      "       'education_outside_Canada'],\n",
      "      dtype='object')\n"
     ]
    },
    {
     "name": "stderr",
     "output_type": "stream",
     "text": [
      "/tmp/ipykernel_10517/1282192166.py:18: SettingWithCopyWarning: \n",
      "A value is trying to be set on a copy of a slice from a DataFrame.\n",
      "Try using .loc[row_indexer,col_indexer] = value instead\n",
      "\n",
      "See the caveats in the documentation: https://pandas.pydata.org/pandas-docs/stable/user_guide/indexing.html#returning-a-view-versus-a-copy\n",
      "  df[[f'{x}_consolidated', f'{x}_number_of_answers']] = df.apply(\n",
      "/tmp/ipykernel_10517/1282192166.py:18: SettingWithCopyWarning: \n",
      "A value is trying to be set on a copy of a slice from a DataFrame.\n",
      "Try using .loc[row_indexer,col_indexer] = value instead\n",
      "\n",
      "See the caveats in the documentation: https://pandas.pydata.org/pandas-docs/stable/user_guide/indexing.html#returning-a-view-versus-a-copy\n",
      "  df[[f'{x}_consolidated', f'{x}_number_of_answers']] = df.apply(\n",
      "/tmp/ipykernel_10517/1282192166.py:22: SettingWithCopyWarning: \n",
      "A value is trying to be set on a copy of a slice from a DataFrame\n",
      "\n",
      "See the caveats in the documentation: https://pandas.pydata.org/pandas-docs/stable/user_guide/indexing.html#returning-a-view-versus-a-copy\n",
      "  df.drop(df.columns[1:-3], axis = 1, inplace = True)\n"
     ]
    },
    {
     "name": "stdout",
     "output_type": "stream",
     "text": [
      "all files related to topic education were created successfully! \n",
      " \n",
      "Topic disability columns are: \n",
      " Index(['participant_ID', 'disability_none', 'disability_physical',\n",
      "       'disability_chronic_pain', 'disability_sensory',\n",
      "       'disability_developmental', 'disability_learning', 'disability_mental',\n",
      "       'disability_prefer_not_to_answer', 'disability_other'],\n",
      "      dtype='object')\n"
     ]
    },
    {
     "name": "stderr",
     "output_type": "stream",
     "text": [
      "/tmp/ipykernel_10517/1282192166.py:18: SettingWithCopyWarning: \n",
      "A value is trying to be set on a copy of a slice from a DataFrame.\n",
      "Try using .loc[row_indexer,col_indexer] = value instead\n",
      "\n",
      "See the caveats in the documentation: https://pandas.pydata.org/pandas-docs/stable/user_guide/indexing.html#returning-a-view-versus-a-copy\n",
      "  df[[f'{x}_consolidated', f'{x}_number_of_answers']] = df.apply(\n",
      "/tmp/ipykernel_10517/1282192166.py:18: SettingWithCopyWarning: \n",
      "A value is trying to be set on a copy of a slice from a DataFrame.\n",
      "Try using .loc[row_indexer,col_indexer] = value instead\n",
      "\n",
      "See the caveats in the documentation: https://pandas.pydata.org/pandas-docs/stable/user_guide/indexing.html#returning-a-view-versus-a-copy\n",
      "  df[[f'{x}_consolidated', f'{x}_number_of_answers']] = df.apply(\n",
      "/tmp/ipykernel_10517/1282192166.py:22: SettingWithCopyWarning: \n",
      "A value is trying to be set on a copy of a slice from a DataFrame\n",
      "\n",
      "See the caveats in the documentation: https://pandas.pydata.org/pandas-docs/stable/user_guide/indexing.html#returning-a-view-versus-a-copy\n",
      "  df.drop(df.columns[1:-3], axis = 1, inplace = True)\n"
     ]
    },
    {
     "name": "stdout",
     "output_type": "stream",
     "text": [
      "all files related to topic disability were created successfully! \n",
      " \n",
      "Topic ethnicity columns are: \n",
      " Index(['participant_ID', 'ethnicity_Indigenous', 'ethnicity_White/European',\n",
      "       'ethnicity_Black_African_Caribbean', 'ethnicity_Southeast_Asian',\n",
      "       'ethnicity_East_Asian', 'ethnicity_South_Asian',\n",
      "       'ethnicity_Middle_Eastern', 'ethnicity_Latin_American',\n",
      "       'ethnicity_do_not_know', 'ethnicity_prefer_not_to_answer',\n",
      "       'ethnicity_other'],\n",
      "      dtype='object')\n"
     ]
    },
    {
     "name": "stderr",
     "output_type": "stream",
     "text": [
      "/tmp/ipykernel_10517/1282192166.py:18: SettingWithCopyWarning: \n",
      "A value is trying to be set on a copy of a slice from a DataFrame.\n",
      "Try using .loc[row_indexer,col_indexer] = value instead\n",
      "\n",
      "See the caveats in the documentation: https://pandas.pydata.org/pandas-docs/stable/user_guide/indexing.html#returning-a-view-versus-a-copy\n",
      "  df[[f'{x}_consolidated', f'{x}_number_of_answers']] = df.apply(\n",
      "/tmp/ipykernel_10517/1282192166.py:18: SettingWithCopyWarning: \n",
      "A value is trying to be set on a copy of a slice from a DataFrame.\n",
      "Try using .loc[row_indexer,col_indexer] = value instead\n",
      "\n",
      "See the caveats in the documentation: https://pandas.pydata.org/pandas-docs/stable/user_guide/indexing.html#returning-a-view-versus-a-copy\n",
      "  df[[f'{x}_consolidated', f'{x}_number_of_answers']] = df.apply(\n",
      "/tmp/ipykernel_10517/1282192166.py:22: SettingWithCopyWarning: \n",
      "A value is trying to be set on a copy of a slice from a DataFrame\n",
      "\n",
      "See the caveats in the documentation: https://pandas.pydata.org/pandas-docs/stable/user_guide/indexing.html#returning-a-view-versus-a-copy\n",
      "  df.drop(df.columns[1:-3], axis = 1, inplace = True)\n"
     ]
    },
    {
     "name": "stdout",
     "output_type": "stream",
     "text": [
      "all files related to topic ethnicity were created successfully! \n",
      " \n",
      "Topic income columns are: \n",
      " Index(['participant_ID', 'income_source_employed_35_hours_plus',\n",
      "       'income_source_employed_less_35_hours', 'income_source_ODSP',\n",
      "       'income_source_OW', 'income_source_CERB', 'income_source_scholarship',\n",
      "       'income_source_OSAP', 'income_source_EI',\n",
      "       'income_source_family_support', 'income_source_spousal_support',\n",
      "       'income_source_CCB', 'income_source_OTB', 'income_source_CPP',\n",
      "       'income_source_private_pension', 'income_source_OAS',\n",
      "       'income_source_WSIB', 'income_source_disability',\n",
      "       'income_source_other_government_programs', 'income_source_no_income',\n",
      "       'income_source_prefer_not_to_answer', 'income_source_other'],\n",
      "      dtype='object')\n",
      "all files related to topic income were created successfully! \n",
      " \n",
      "all topics have been successfully consolidated and saved into csv files \n",
      "\n"
     ]
    },
    {
     "name": "stderr",
     "output_type": "stream",
     "text": [
      "/tmp/ipykernel_10517/1282192166.py:18: SettingWithCopyWarning: \n",
      "A value is trying to be set on a copy of a slice from a DataFrame.\n",
      "Try using .loc[row_indexer,col_indexer] = value instead\n",
      "\n",
      "See the caveats in the documentation: https://pandas.pydata.org/pandas-docs/stable/user_guide/indexing.html#returning-a-view-versus-a-copy\n",
      "  df[[f'{x}_consolidated', f'{x}_number_of_answers']] = df.apply(\n",
      "/tmp/ipykernel_10517/1282192166.py:18: SettingWithCopyWarning: \n",
      "A value is trying to be set on a copy of a slice from a DataFrame.\n",
      "Try using .loc[row_indexer,col_indexer] = value instead\n",
      "\n",
      "See the caveats in the documentation: https://pandas.pydata.org/pandas-docs/stable/user_guide/indexing.html#returning-a-view-versus-a-copy\n",
      "  df[[f'{x}_consolidated', f'{x}_number_of_answers']] = df.apply(\n",
      "/tmp/ipykernel_10517/1282192166.py:22: SettingWithCopyWarning: \n",
      "A value is trying to be set on a copy of a slice from a DataFrame\n",
      "\n",
      "See the caveats in the documentation: https://pandas.pydata.org/pandas-docs/stable/user_guide/indexing.html#returning-a-view-versus-a-copy\n",
      "  df.drop(df.columns[1:-3], axis = 1, inplace = True)\n"
     ]
    }
   ],
   "source": [
    "# for each question in list_to_consolidate, consolidate, and create csv filed with final result:\n",
    "\n",
    "for x in list_to_consolidate:\n",
    "    \n",
    "    # select specific columns for the topic x:\n",
    "    columns = [col for col in NS.columns if col.startswith('participant') or col.startswith(x)]\n",
    "   \n",
    "    # extract data related to topic x:\n",
    "    df = NS[columns]\n",
    "     \n",
    "    # print columns:\n",
    "    print(f'Topic {x} columns are: \\n {df.columns}')\n",
    "    \n",
    "    # create an original dataframe with all topic's columns:\n",
    "    df.to_csv(f'original_{x}_data.csv', index = False)\n",
    "    \n",
    "    # Apply the consolidate_row function to each row and create new columns:\n",
    "    df[[f'{x}_consolidated', f'{x}_number_of_answers']] = df.apply(\n",
    "        lambda row: pd.Series(consolidate_row(row)), axis=1 )\n",
    "    \n",
    "    # Now, we can drop all the columns which have been consolidated:\n",
    "    df.drop(df.columns[1:-3], axis = 1, inplace = True)\n",
    "    \n",
    "    # save the data into a csv file:\n",
    "    df.to_csv(f'{x}_consolidated.csv', index = False)\n",
    "    \n",
    "    # print confirmation:\n",
    "    print(f'all files related to topic {x} were created successfully! \\n ')\n",
    "    \n",
    "print('all topics have been successfully consolidated and saved into csv files \\n')\n",
    "    \n",
    "    "
   ]
  },
  {
   "cell_type": "code",
   "execution_count": null,
   "id": "1a98a584-0535-4b42-9a67-ed11c9ce7ed9",
   "metadata": {},
   "outputs": [],
   "source": []
  },
  {
   "cell_type": "code",
   "execution_count": null,
   "id": "b62f5622-bbf8-4b81-8bcd-aac70f9e67e8",
   "metadata": {},
   "outputs": [],
   "source": []
  }
 ],
 "metadata": {
  "kernelspec": {
   "display_name": "Python 3 (ipykernel)",
   "language": "python",
   "name": "python3"
  },
  "language_info": {
   "codemirror_mode": {
    "name": "ipython",
    "version": 3
   },
   "file_extension": ".py",
   "mimetype": "text/x-python",
   "name": "python",
   "nbconvert_exporter": "python",
   "pygments_lexer": "ipython3",
   "version": "3.9.16"
  }
 },
 "nbformat": 4,
 "nbformat_minor": 5
}
