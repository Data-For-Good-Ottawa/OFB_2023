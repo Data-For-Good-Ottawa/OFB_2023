{
 "cells": [
  {
   "cell_type": "markdown",
   "id": "2a232b5c-e62b-4f2c-b719-015a20a3e637",
   "metadata": {},
   "source": [
    "In this notebook, I'll be exploring the data related to ethnicity, categorizing them, summarizing findings and saving the final results into csv files."
   ]
  },
  {
   "cell_type": "code",
   "execution_count": 40,
   "id": "b870284d-aa49-4d07-946e-860e01917689",
   "metadata": {},
   "outputs": [],
   "source": [
    "#Import libraries\n",
    "import pandas as pd\n",
    "import numpy as np\n",
    "import matplotlib.pyplot as plt\n",
    "import seaborn as sns"
   ]
  },
  {
   "cell_type": "code",
   "execution_count": 2,
   "id": "c273d722-0d8f-4c34-bba6-5ebc5640cee8",
   "metadata": {},
   "outputs": [],
   "source": [
    "# import data:\n",
    "NS_ethnicity = pd.read_csv('original_ethnicity_data.csv')"
   ]
  },
  {
   "cell_type": "code",
   "execution_count": 3,
   "id": "df2ab998-c32c-42d4-a5aa-d67da05e87f2",
   "metadata": {},
   "outputs": [
    {
     "data": {
      "text/html": [
       "<div>\n",
       "<style scoped>\n",
       "    .dataframe tbody tr th:only-of-type {\n",
       "        vertical-align: middle;\n",
       "    }\n",
       "\n",
       "    .dataframe tbody tr th {\n",
       "        vertical-align: top;\n",
       "    }\n",
       "\n",
       "    .dataframe thead th {\n",
       "        text-align: right;\n",
       "    }\n",
       "</style>\n",
       "<table border=\"1\" class=\"dataframe\">\n",
       "  <thead>\n",
       "    <tr style=\"text-align: right;\">\n",
       "      <th></th>\n",
       "      <th>participant_ID</th>\n",
       "      <th>ethnicity_Indigenous</th>\n",
       "      <th>ethnicity_White/European</th>\n",
       "      <th>ethnicity_Black_African_Caribbean</th>\n",
       "      <th>ethnicity_Southeast_Asian</th>\n",
       "      <th>ethnicity_East_Asian</th>\n",
       "      <th>ethnicity_South_Asian</th>\n",
       "      <th>ethnicity_Middle_Eastern</th>\n",
       "      <th>ethnicity_Latin_American</th>\n",
       "      <th>ethnicity_do_not_know</th>\n",
       "      <th>ethnicity_prefer_not_to_answer</th>\n",
       "      <th>ethnicity_other</th>\n",
       "    </tr>\n",
       "  </thead>\n",
       "  <tbody>\n",
       "    <tr>\n",
       "      <th>count</th>\n",
       "      <td>4054</td>\n",
       "      <td>517</td>\n",
       "      <td>1612</td>\n",
       "      <td>910</td>\n",
       "      <td>86</td>\n",
       "      <td>98</td>\n",
       "      <td>73</td>\n",
       "      <td>511</td>\n",
       "      <td>142</td>\n",
       "      <td>38</td>\n",
       "      <td>164</td>\n",
       "      <td>71</td>\n",
       "    </tr>\n",
       "    <tr>\n",
       "      <th>unique</th>\n",
       "      <td>4054</td>\n",
       "      <td>3</td>\n",
       "      <td>2</td>\n",
       "      <td>1</td>\n",
       "      <td>1</td>\n",
       "      <td>1</td>\n",
       "      <td>1</td>\n",
       "      <td>1</td>\n",
       "      <td>1</td>\n",
       "      <td>1</td>\n",
       "      <td>1</td>\n",
       "      <td>48</td>\n",
       "    </tr>\n",
       "    <tr>\n",
       "      <th>top</th>\n",
       "      <td>ns 757</td>\n",
       "      <td>indigenous (inuit/first nations/metis)</td>\n",
       "      <td>white/ european</td>\n",
       "      <td>black/african/caribbean (african, afro-caribbe...</td>\n",
       "      <td>south east asian (filipino, vietnamese, cambod...</td>\n",
       "      <td>east asian (chinese, korean, japanese, taiwane...</td>\n",
       "      <td>south asian (e.g. east indian, pakistani, sri ...</td>\n",
       "      <td>middle eastern (arab, persian, west asian desc...</td>\n",
       "      <td>latin american (latin american, hispanic descent)</td>\n",
       "      <td>i don't know</td>\n",
       "      <td>prefer not to answer</td>\n",
       "      <td>north african</td>\n",
       "    </tr>\n",
       "    <tr>\n",
       "      <th>freq</th>\n",
       "      <td>1</td>\n",
       "      <td>502</td>\n",
       "      <td>1563</td>\n",
       "      <td>910</td>\n",
       "      <td>86</td>\n",
       "      <td>98</td>\n",
       "      <td>73</td>\n",
       "      <td>511</td>\n",
       "      <td>142</td>\n",
       "      <td>38</td>\n",
       "      <td>164</td>\n",
       "      <td>11</td>\n",
       "    </tr>\n",
       "  </tbody>\n",
       "</table>\n",
       "</div>"
      ],
      "text/plain": [
       "       participant_ID                    ethnicity_Indigenous  \\\n",
       "count            4054                                     517   \n",
       "unique           4054                                       3   \n",
       "top            ns 757  indigenous (inuit/first nations/metis)   \n",
       "freq                1                                     502   \n",
       "\n",
       "       ethnicity_White/European  \\\n",
       "count                      1612   \n",
       "unique                        2   \n",
       "top             white/ european   \n",
       "freq                       1563   \n",
       "\n",
       "                        ethnicity_Black_African_Caribbean  \\\n",
       "count                                                 910   \n",
       "unique                                                  1   \n",
       "top     black/african/caribbean (african, afro-caribbe...   \n",
       "freq                                                  910   \n",
       "\n",
       "                                ethnicity_Southeast_Asian  \\\n",
       "count                                                  86   \n",
       "unique                                                  1   \n",
       "top     south east asian (filipino, vietnamese, cambod...   \n",
       "freq                                                   86   \n",
       "\n",
       "                                     ethnicity_East_Asian  \\\n",
       "count                                                  98   \n",
       "unique                                                  1   \n",
       "top     east asian (chinese, korean, japanese, taiwane...   \n",
       "freq                                                   98   \n",
       "\n",
       "                                    ethnicity_South_Asian  \\\n",
       "count                                                  73   \n",
       "unique                                                  1   \n",
       "top     south asian (e.g. east indian, pakistani, sri ...   \n",
       "freq                                                   73   \n",
       "\n",
       "                                 ethnicity_Middle_Eastern  \\\n",
       "count                                                 511   \n",
       "unique                                                  1   \n",
       "top     middle eastern (arab, persian, west asian desc...   \n",
       "freq                                                  511   \n",
       "\n",
       "                                 ethnicity_Latin_American  \\\n",
       "count                                                 142   \n",
       "unique                                                  1   \n",
       "top     latin american (latin american, hispanic descent)   \n",
       "freq                                                  142   \n",
       "\n",
       "       ethnicity_do_not_know ethnicity_prefer_not_to_answer ethnicity_other  \n",
       "count                     38                            164              71  \n",
       "unique                     1                              1              48  \n",
       "top             i don't know           prefer not to answer   north african  \n",
       "freq                      38                            164              11  "
      ]
     },
     "execution_count": 3,
     "metadata": {},
     "output_type": "execute_result"
    }
   ],
   "source": [
    "NS_ethnicity.describe(include = 'all')"
   ]
  },
  {
   "cell_type": "markdown",
   "id": "217d1dd9-c446-496c-819e-268b54bb6c15",
   "metadata": {},
   "source": [
    "We can see that there are multiple values in a column, let's check them out:"
   ]
  },
  {
   "cell_type": "code",
   "execution_count": 4,
   "id": "ba4c2b74-c8a0-4f62-93c9-0645e1cbc5f7",
   "metadata": {},
   "outputs": [
    {
     "data": {
      "text/plain": [
       "ethnicity_Indigenous\n",
       "indigenous (inuit/first nations/metis)     502\n",
       "indigenous (inuit/first nations/mã©tis)     14\n",
       "indigenous (inuit/first nations/métis)       1\n",
       "Name: count, dtype: int64"
      ]
     },
     "execution_count": 4,
     "metadata": {},
     "output_type": "execute_result"
    }
   ],
   "source": [
    "NS_ethnicity.ethnicity_Indigenous.value_counts()"
   ]
  },
  {
   "cell_type": "code",
   "execution_count": 5,
   "id": "7f9c5fee-96af-4df7-b640-d0a3c3a313ba",
   "metadata": {},
   "outputs": [],
   "source": [
    "# let's find the indecies to unify the values:\n",
    "to_fix = NS_ethnicity[(NS_ethnicity.ethnicity_Indigenous.str.startswith('indigenous') == True)]"
   ]
  },
  {
   "cell_type": "code",
   "execution_count": 6,
   "id": "3e844466-9429-4b2a-9c92-98addb0aa7a2",
   "metadata": {},
   "outputs": [],
   "source": [
    "# now, we'll replace the values:\n",
    "NS_ethnicity.ethnicity_Indigenous.iloc[to_fix.index] = 'indigenous (inuit/first nations/metis)'"
   ]
  },
  {
   "cell_type": "code",
   "execution_count": 7,
   "id": "c449b1d6-7eca-4425-a4be-142b311f2900",
   "metadata": {},
   "outputs": [
    {
     "data": {
      "text/plain": [
       "ethnicity_Indigenous\n",
       "indigenous (inuit/first nations/metis)    517\n",
       "Name: count, dtype: int64"
      ]
     },
     "execution_count": 7,
     "metadata": {},
     "output_type": "execute_result"
    }
   ],
   "source": [
    "# check our work\n",
    "NS_ethnicity.ethnicity_Indigenous.value_counts()"
   ]
  },
  {
   "cell_type": "code",
   "execution_count": 8,
   "id": "9b70a9d7-e81a-4582-a969-9a178f4873b8",
   "metadata": {},
   "outputs": [
    {
     "data": {
      "text/plain": [
       "array(['white/ european', nan, 'white/european'], dtype=object)"
      ]
     },
     "execution_count": 8,
     "metadata": {},
     "output_type": "execute_result"
    }
   ],
   "source": [
    "# We also have the same problem with the White/ European column, let's check it out:\n",
    "NS_ethnicity.iloc[:, 2].unique()"
   ]
  },
  {
   "cell_type": "code",
   "execution_count": 9,
   "id": "d1c89a0e-2306-434b-ad5a-67932b8c72a3",
   "metadata": {},
   "outputs": [],
   "source": [
    "# again find the indecies for the values:\n",
    "white = NS_ethnicity[NS_ethnicity['ethnicity_White/European'].isna() == False]"
   ]
  },
  {
   "cell_type": "code",
   "execution_count": 10,
   "id": "7deca091-a628-42ad-a662-938883797dc1",
   "metadata": {},
   "outputs": [],
   "source": [
    "# Now replace the values:\n",
    "NS_ethnicity.loc[white.index, 'ethnicity_White/European'] = 'white/ european'"
   ]
  },
  {
   "cell_type": "code",
   "execution_count": 11,
   "id": "ba8a6d5d-a64c-4f8e-bcff-7e42ca92cbfa",
   "metadata": {},
   "outputs": [
    {
     "data": {
      "text/plain": [
       "ethnicity_White/European\n",
       "white/ european    1612\n",
       "Name: count, dtype: int64"
      ]
     },
     "execution_count": 11,
     "metadata": {},
     "output_type": "execute_result"
    }
   ],
   "source": [
    "# Check our work\n",
    "NS_ethnicity['ethnicity_White/European'].value_counts()"
   ]
  },
  {
   "cell_type": "code",
   "execution_count": 12,
   "id": "0b14e729-e841-46ed-b51d-b21999f3fd91",
   "metadata": {},
   "outputs": [
    {
     "data": {
      "text/plain": [
       "array([nan, 'irish canadian', 'r.d.c', 'african', 'canadian',\n",
       "       'north african', 'lebanese', 'mixed- canadian', 'west africa',\n",
       "       'russian', 'nigeria africa', 'french canadian',\n",
       "       'indigenous and white /european', 'ethiopian', 'scottish',\n",
       "       'irish-slavic', 'newfoundland mom and father from there',\n",
       "       'ukraine', 'kurdish', 'i am greek', 'inuk eskimo white scottish',\n",
       "       'white', 'friends canadian', 'german', 'mixed', 'yugoslavian',\n",
       "       'egyptien  canadian', 'ok', 'mixed race', 'somali', 'turkish food',\n",
       "       'iâ€™m jewish-romanian and irish but i was born and raised in canada',\n",
       "       'metis and chinese mix background', 'irish and american',\n",
       "       'north african/ moroccans', 'jewish', 'central asia', 'iranian',\n",
       "       'maghrebian', 'algerian', 'i am a living being.', 'algerian arab',\n",
       "       'arab', 'amazigh', 'white north african', 'north africa',\n",
       "       'maghrebian (north african)', 'moroccan', 'pakistani'],\n",
       "      dtype=object)"
      ]
     },
     "execution_count": 12,
     "metadata": {},
     "output_type": "execute_result"
    }
   ],
   "source": [
    "# let's check the ethnicity_other values:\n",
    "NS_ethnicity.ethnicity_other.unique()"
   ]
  },
  {
   "cell_type": "markdown",
   "id": "65e1a226-556d-45dc-be26-314c70dc3712",
   "metadata": {},
   "source": [
    "I'll create a function to map the answers in others column to available options, but first I will create a column for \"central asia\":"
   ]
  },
  {
   "cell_type": "code",
   "execution_count": 13,
   "id": "5f480dca-2d8f-4380-b689-cf7336f093e9",
   "metadata": {},
   "outputs": [],
   "source": [
    "NS_ethnicity['ethnicity_central_asian'] = None"
   ]
  },
  {
   "cell_type": "code",
   "execution_count": 14,
   "id": "1257ff17-9cf5-4b3a-a778-cc4cf4fb87cf",
   "metadata": {},
   "outputs": [],
   "source": [
    "# Define the mapping function\n",
    "def map_answers_to_options(answers):\n",
    "    \n",
    "    options = {\n",
    "        \"indigenous (inuit/first nations/metis)\": [\"inuit\", \"first nations\", \"metis\", \"inuk\",\"indigenous\"],\n",
    "        \"white/ european\": [\"white\", \"european\", \"irish\", \"scottish\", \"german\", \"russian\", \"ukraine\", \"yugoslavian\", \"slavic\", \"newfoundland\", \"french\", \"greek\"],\n",
    "        \"black/african/caribbean (african, afro-caribbean, african-canadian descent)\": [\"black\", \"caribbean\", \"afri\", \"afro\",\"r.d.\",\"nigeria\", \"egypt\", \"ethiopia\", \"amazigh\",\"somali\", \"maghreb\", \"moroccan\",\"algerian\", \"north african\"],\n",
    "        \"south east asian (filipino, vietnamese, cambodian, thai, other southeast asian descent)\": [\"filipino\", \"vietnamese\", \"cambodian\", \"thai\", \"southeast asian\"],\n",
    "        \"east asian (chinese, korean, japanese, taiwanese descent)\": [\"chinese\", \"korean\", \"japanese\", \"taiwanese\"],\n",
    "        \"south asian (e.g. east indian, pakistani, sri lankan, indo-caribbean, etc)\": [\"east indian\", \"pakistani\", \"sri lankan\", \"indo-caribbean\"],\n",
    "        \"central asian\": [\"central asia\"],        \n",
    "        \"middle eastern (arab, persian, west asian descent, e.g. afghan, egyptian, iranian, etc)\": [\"arab\", \"persia\", \"west asian\", \"afghan\", \"egypt\", \"algeria\",\"iran\", \"kurd\", \"lebanese\", \"maghreb\", \"turkish\", \"amazigh\", \"north africa\", \"moroccan\"],\n",
    "        \"latin american (latin american, hispanic descent)\": [\"latin american\", \"hispanic\"],\n",
    "        \"i don't know\": [\"i don't know\", \"canadian\"],\n",
    "        \"prefer not to answer\": [\"prefer not to answer\",\"jewish\",  \"ok\", \"living being\", \"mixed\"]\n",
    "    }\n",
    "\n",
    "    def find_options(answer):\n",
    "        if isinstance(answer, str):\n",
    "            answer_lower = answer.lower()\n",
    "            matched_options = []\n",
    "            for option, keywords in options.items():\n",
    "                if any(keyword in answer_lower for keyword in keywords):\n",
    "                    if option not in matched_options:\n",
    "                        matched_options.append(option)\n",
    "            if len(matched_options) > 1:\n",
    "                if 'prefer not to answer' in matched_options:\n",
    "                    matched_options.remove('prefer not to answer')\n",
    "                elif  \"i don't know\" in matched_options:\n",
    "                    matched_options.remove(\"i don't know\")\n",
    "                \n",
    "            return ';'.join(matched_options) if matched_options else \"other\"\n",
    "        return answer\n",
    "\n",
    "\n",
    "    mapped_answers = [find_options(answer) for answer in answers]\n",
    "\n",
    "    return mapped_answers"
   ]
  },
  {
   "cell_type": "code",
   "execution_count": 15,
   "id": "39cd568a-97cd-4264-a4cd-736cd9c9738f",
   "metadata": {},
   "outputs": [],
   "source": [
    "# apply the mapping function to the \"ethnicity_other\" column:\n",
    "NS_ethnicity['mapped_ethnicity'] = NS_ethnicity['ethnicity_other'].apply(lambda x: list(map_answers_to_options([x]))[0])"
   ]
  },
  {
   "cell_type": "code",
   "execution_count": 16,
   "id": "522e8e40-caff-4451-a1f3-64c40daa4c9b",
   "metadata": {},
   "outputs": [],
   "source": [
    "# let's drop the ethnicity_other column now:\n",
    "NS_ethnicity.drop('ethnicity_other', axis = 1, inplace = True)"
   ]
  },
  {
   "cell_type": "code",
   "execution_count": 17,
   "id": "ad0e0623-6f42-4cde-b04b-4510e9b1a815",
   "metadata": {},
   "outputs": [],
   "source": [
    "# create a function to consolidate the data:\n",
    "def consolidate_row(row):\n",
    "    \"\"\" \n",
    "    Consolidate answers from a DataFrame row, excluding the first and last columns.\n",
    "\n",
    "    This function processes a row from a DataFrame to:\n",
    "    1. Create a list of consolidated answers from specified columns, excluding the \"participant_ID\" (first column) and the last column.\n",
    "       - Only non-null and non-empty values are included in the list.\n",
    "    2. Count the number of answers provided.\n",
    "    3. If the consolidated list contains \"prefer not to answer\", the list is updated to contain only this value.\n",
    "    4. Return the consolidated answers as a single string and the count of answers.\n",
    "\n",
    "    Parameters:\n",
    "    row (pd.Series): A row from a DataFrame containing answers to be consolidated.\n",
    "\n",
    "    Returns:\n",
    "    tuple: A tuple containing:\n",
    "           - A string of consolidated answers, joined by '; '.\n",
    "           - An integer count of the number of answers provided.\n",
    "    \"\"\"\n",
    "        \n",
    "    consolidated = []\n",
    "    \n",
    "    # Loop through the specified columns excluding the \"participant_ID\":\n",
    "    for value in row.iloc[1:]:\n",
    "        if pd.notna(value)  and value != '':\n",
    "            values = value.split(';') \n",
    "            for value in values:\n",
    "                if value not in consolidated:\n",
    "                    consolidated.append(value)\n",
    "        \n",
    "    \n",
    "    consolidated_answer = ';'.join(consolidated)\n",
    "    \n",
    "    # finding out how many answers were provided:\n",
    "    number_of_answers = len(consolidated_answer.split(';'))\n",
    "    \n",
    "    # ensuring we don't get any '' in the final result:\n",
    "    if consolidated_answer == '':\n",
    "        consolidated_answer = 'prefer not to answer'\n",
    "        number_of_answers = 0\n",
    "        \n",
    "    # updating the records for \"i don't know\":\n",
    "    if \"i don't know\" in consolidated:\n",
    "        consolidated_answer = \"i don't know\"\n",
    "        \n",
    "    # updating the records for \"prefer not to answer\":\n",
    "    if 'prefer not to answer' in consolidated:\n",
    "        consolidated_answer = 'prefer not to answer'\n",
    "    \n",
    "    # updating questionable answers:\n",
    "    if number_of_answers > 5:\n",
    "        consolidated_answer = 'prefer not to answer'\n",
    "        \n",
    "    \n",
    "    return consolidated_answer , number_of_answers"
   ]
  },
  {
   "cell_type": "code",
   "execution_count": 18,
   "id": "889338f5-1d35-4581-bb85-c5f71ddf2c8f",
   "metadata": {},
   "outputs": [],
   "source": [
    "# Apply the consolidate_row function to each row and create new columns:\n",
    "NS_ethnicity[['ethnicity_consolidated', 'ethnicity_number_of_answers']] = NS_ethnicity.apply(\n",
    "        lambda row: pd.Series(consolidate_row(row)), axis=1 )"
   ]
  },
  {
   "cell_type": "code",
   "execution_count": 19,
   "id": "3d85a9b3-5f12-4b47-bcae-e9b78aa9516f",
   "metadata": {},
   "outputs": [
    {
     "name": "stdout",
     "output_type": "stream",
     "text": [
      "Completed checking if all mapped ethnicities are in the consolidated ethnicity column\n"
     ]
    }
   ],
   "source": [
    "# ensuring the mapped_ethnicity column is correctly handled:\n",
    "mapped_ethnicity = NS_ethnicity[NS_ethnicity.mapped_ethnicity.isna() == False]\n",
    "\n",
    "for x in mapped_ethnicity.index:\n",
    "    if NS_ethnicity.mapped_ethnicity.iloc[x] not in NS_ethnicity.ethnicity_consolidated.iloc[x]:\n",
    "        ethnicities = NS_ethnicity.mapped_ethnicity.iloc[x].split(';')\n",
    "        all_ethnicities = NS_ethnicity.ethnicity_consolidated.iloc[x]\n",
    "        for ethnicity in ethnicities:\n",
    "            if ethnicity not in all_ethnicities:\n",
    "                print(f'The mapped ethnicity at index {x} is not correctly handled')\n",
    "\n",
    "print('Completed checking if all mapped ethnicities are in the consolidated ethnicity column')"
   ]
  },
  {
   "cell_type": "code",
   "execution_count": 20,
   "id": "64ed734e-f1a1-4ce9-aafe-d1e3bbc9ac82",
   "metadata": {},
   "outputs": [],
   "source": [
    "# Since all the values in the \"mapped_ethnicity\" were correctly handled, I'll be dropping the column:\n",
    "NS_ethnicity.drop('mapped_ethnicity', axis = 1, inplace = True)"
   ]
  },
  {
   "cell_type": "code",
   "execution_count": 21,
   "id": "7e8d8467-63ec-4799-9b26-cfd1d92fbe6e",
   "metadata": {},
   "outputs": [
    {
     "data": {
      "text/plain": [
       "Index(['ethnicity_Indigenous', 'ethnicity_White/European',\n",
       "       'ethnicity_Black_African_Caribbean', 'ethnicity_Southeast_Asian',\n",
       "       'ethnicity_East_Asian', 'ethnicity_South_Asian',\n",
       "       'ethnicity_Middle_Eastern', 'ethnicity_Latin_American',\n",
       "       'ethnicity_do_not_know', 'ethnicity_prefer_not_to_answer'],\n",
       "      dtype='object')"
      ]
     },
     "execution_count": 21,
     "metadata": {},
     "output_type": "execute_result"
    }
   ],
   "source": [
    "NS_ethnicity.columns[1:-3]"
   ]
  },
  {
   "cell_type": "code",
   "execution_count": 22,
   "id": "a627f033-61f3-4c96-ba51-0e2d9a917e9c",
   "metadata": {},
   "outputs": [],
   "source": [
    "# first, I'll set all values in the desired columns to 0\n",
    "NS_ethnicity.iloc[:, 1:-2] = 0"
   ]
  },
  {
   "cell_type": "code",
   "execution_count": 23,
   "id": "7ce38c03-fcd7-4071-a37b-9efe3fac9b61",
   "metadata": {},
   "outputs": [
    {
     "data": {
      "text/html": [
       "<div>\n",
       "<style scoped>\n",
       "    .dataframe tbody tr th:only-of-type {\n",
       "        vertical-align: middle;\n",
       "    }\n",
       "\n",
       "    .dataframe tbody tr th {\n",
       "        vertical-align: top;\n",
       "    }\n",
       "\n",
       "    .dataframe thead th {\n",
       "        text-align: right;\n",
       "    }\n",
       "</style>\n",
       "<table border=\"1\" class=\"dataframe\">\n",
       "  <thead>\n",
       "    <tr style=\"text-align: right;\">\n",
       "      <th></th>\n",
       "      <th>participant_ID</th>\n",
       "      <th>ethnicity_Indigenous</th>\n",
       "      <th>ethnicity_White/European</th>\n",
       "      <th>ethnicity_Black_African_Caribbean</th>\n",
       "      <th>ethnicity_Southeast_Asian</th>\n",
       "      <th>ethnicity_East_Asian</th>\n",
       "      <th>ethnicity_South_Asian</th>\n",
       "      <th>ethnicity_Middle_Eastern</th>\n",
       "      <th>ethnicity_Latin_American</th>\n",
       "      <th>ethnicity_do_not_know</th>\n",
       "      <th>ethnicity_prefer_not_to_answer</th>\n",
       "      <th>ethnicity_central_asian</th>\n",
       "      <th>ethnicity_consolidated</th>\n",
       "      <th>ethnicity_number_of_answers</th>\n",
       "    </tr>\n",
       "  </thead>\n",
       "  <tbody>\n",
       "    <tr>\n",
       "      <th>0</th>\n",
       "      <td>ns 757</td>\n",
       "      <td>0</td>\n",
       "      <td>0</td>\n",
       "      <td>0</td>\n",
       "      <td>0</td>\n",
       "      <td>0</td>\n",
       "      <td>0</td>\n",
       "      <td>0</td>\n",
       "      <td>0</td>\n",
       "      <td>0</td>\n",
       "      <td>0</td>\n",
       "      <td>0</td>\n",
       "      <td>white/ european</td>\n",
       "      <td>1</td>\n",
       "    </tr>\n",
       "  </tbody>\n",
       "</table>\n",
       "</div>"
      ],
      "text/plain": [
       "  participant_ID ethnicity_Indigenous ethnicity_White/European  \\\n",
       "0         ns 757                    0                        0   \n",
       "\n",
       "  ethnicity_Black_African_Caribbean ethnicity_Southeast_Asian  \\\n",
       "0                                 0                         0   \n",
       "\n",
       "  ethnicity_East_Asian ethnicity_South_Asian ethnicity_Middle_Eastern  \\\n",
       "0                    0                     0                        0   \n",
       "\n",
       "  ethnicity_Latin_American ethnicity_do_not_know  \\\n",
       "0                        0                     0   \n",
       "\n",
       "  ethnicity_prefer_not_to_answer ethnicity_central_asian  \\\n",
       "0                              0                       0   \n",
       "\n",
       "  ethnicity_consolidated  ethnicity_number_of_answers  \n",
       "0        white/ european                            1  "
      ]
     },
     "execution_count": 23,
     "metadata": {},
     "output_type": "execute_result"
    }
   ],
   "source": [
    "# overview:\n",
    "NS_ethnicity.head(1)"
   ]
  },
  {
   "cell_type": "code",
   "execution_count": 24,
   "id": "a26b90c7-27c7-4ec0-b548-893181f85bfa",
   "metadata": {
    "tags": []
   },
   "outputs": [],
   "source": [
    "# Now, I am going to replace the values in each column: 1 is indicated in the column that matches any of the consoldiated value:\n",
    "for x in NS_ethnicity.index:\n",
    "    values = NS_ethnicity.ethnicity_consolidated.iloc[x].split(';')\n",
    "    \n",
    "    dictionary_words = {'indigenous': NS_ethnicity.columns[1],\n",
    "                     'white' : NS_ethnicity.columns[2],\n",
    "                     'african' : NS_ethnicity.columns[3],\n",
    "                     'southeast asian' : NS_ethnicity.columns[4],\n",
    "                     'east asian' : NS_ethnicity.columns[5],\n",
    "                     'south asian' : NS_ethnicity.columns[6],\n",
    "                     'middle': NS_ethnicity.columns[7],\n",
    "                     'latin': NS_ethnicity.columns[8],\n",
    "                     \"i don't know\": NS_ethnicity.columns[9],\n",
    "                     'prefer': NS_ethnicity.columns[10],\n",
    "                     'central asia': NS_ethnicity.columns[11]}\n",
    "\n",
    "    \n",
    "    if 'prefer not to answer' in values:\n",
    "        NS_ethnicity.iloc[x, 10] = 1\n",
    "    \n",
    "    elif \"i don't know\" in values:\n",
    "        NS_ethnicity.iloc[x, 9] = 1\n",
    "            \n",
    "    else:\n",
    "        for value in values:\n",
    "            for key in dictionary_words.keys():\n",
    "                if key in value:\n",
    "                    column = dictionary_words[key]\n",
    "                    NS_ethnicity.loc[x, [column]] = 1"
   ]
  },
  {
   "cell_type": "code",
   "execution_count": 39,
   "id": "5744f0e5-d17e-42c4-8fc3-8354b77b6af4",
   "metadata": {},
   "outputs": [
    {
     "data": {
      "text/html": [
       "<div>\n",
       "<style scoped>\n",
       "    .dataframe tbody tr th:only-of-type {\n",
       "        vertical-align: middle;\n",
       "    }\n",
       "\n",
       "    .dataframe tbody tr th {\n",
       "        vertical-align: top;\n",
       "    }\n",
       "\n",
       "    .dataframe thead th {\n",
       "        text-align: right;\n",
       "    }\n",
       "</style>\n",
       "<table border=\"1\" class=\"dataframe\">\n",
       "  <thead>\n",
       "    <tr style=\"text-align: right;\">\n",
       "      <th></th>\n",
       "      <th>participant_ID</th>\n",
       "      <th>ethnicity_Indigenous</th>\n",
       "      <th>ethnicity_White/European</th>\n",
       "      <th>ethnicity_Black_African_Caribbean</th>\n",
       "      <th>ethnicity_Southeast_Asian</th>\n",
       "      <th>ethnicity_East_Asian</th>\n",
       "      <th>ethnicity_South_Asian</th>\n",
       "      <th>ethnicity_Middle_Eastern</th>\n",
       "      <th>ethnicity_Latin_American</th>\n",
       "      <th>ethnicity_do_not_know</th>\n",
       "      <th>ethnicity_prefer_not_to_answer</th>\n",
       "      <th>ethnicity_central_asian</th>\n",
       "      <th>ethnicity_consolidated</th>\n",
       "      <th>ethnicity_number_of_answers</th>\n",
       "      <th>ethnicity_bin</th>\n",
       "    </tr>\n",
       "  </thead>\n",
       "  <tbody>\n",
       "    <tr>\n",
       "      <th>count</th>\n",
       "      <td>4054</td>\n",
       "      <td>4054.0</td>\n",
       "      <td>4054.0</td>\n",
       "      <td>4054.0</td>\n",
       "      <td>4054.0</td>\n",
       "      <td>4054.0</td>\n",
       "      <td>4054.0</td>\n",
       "      <td>4054.0</td>\n",
       "      <td>4054.0</td>\n",
       "      <td>4054.0</td>\n",
       "      <td>4054.0</td>\n",
       "      <td>4054.0</td>\n",
       "      <td>4054</td>\n",
       "      <td>4054.000000</td>\n",
       "      <td>4054</td>\n",
       "    </tr>\n",
       "    <tr>\n",
       "      <th>unique</th>\n",
       "      <td>4054</td>\n",
       "      <td>2.0</td>\n",
       "      <td>2.0</td>\n",
       "      <td>2.0</td>\n",
       "      <td>2.0</td>\n",
       "      <td>2.0</td>\n",
       "      <td>2.0</td>\n",
       "      <td>2.0</td>\n",
       "      <td>2.0</td>\n",
       "      <td>2.0</td>\n",
       "      <td>2.0</td>\n",
       "      <td>2.0</td>\n",
       "      <td>40</td>\n",
       "      <td>NaN</td>\n",
       "      <td>5</td>\n",
       "    </tr>\n",
       "    <tr>\n",
       "      <th>top</th>\n",
       "      <td>ns 757</td>\n",
       "      <td>0.0</td>\n",
       "      <td>0.0</td>\n",
       "      <td>0.0</td>\n",
       "      <td>0.0</td>\n",
       "      <td>0.0</td>\n",
       "      <td>0.0</td>\n",
       "      <td>0.0</td>\n",
       "      <td>0.0</td>\n",
       "      <td>0.0</td>\n",
       "      <td>0.0</td>\n",
       "      <td>0.0</td>\n",
       "      <td>white/ european</td>\n",
       "      <td>NaN</td>\n",
       "      <td>1</td>\n",
       "    </tr>\n",
       "    <tr>\n",
       "      <th>freq</th>\n",
       "      <td>1</td>\n",
       "      <td>3541.0</td>\n",
       "      <td>2435.0</td>\n",
       "      <td>3126.0</td>\n",
       "      <td>3973.0</td>\n",
       "      <td>3883.0</td>\n",
       "      <td>3985.0</td>\n",
       "      <td>3523.0</td>\n",
       "      <td>3919.0</td>\n",
       "      <td>4012.0</td>\n",
       "      <td>3814.0</td>\n",
       "      <td>4052.0</td>\n",
       "      <td>1495</td>\n",
       "      <td>NaN</td>\n",
       "      <td>3583</td>\n",
       "    </tr>\n",
       "    <tr>\n",
       "      <th>mean</th>\n",
       "      <td>NaN</td>\n",
       "      <td>NaN</td>\n",
       "      <td>NaN</td>\n",
       "      <td>NaN</td>\n",
       "      <td>NaN</td>\n",
       "      <td>NaN</td>\n",
       "      <td>NaN</td>\n",
       "      <td>NaN</td>\n",
       "      <td>NaN</td>\n",
       "      <td>NaN</td>\n",
       "      <td>NaN</td>\n",
       "      <td>NaN</td>\n",
       "      <td>NaN</td>\n",
       "      <td>1.045141</td>\n",
       "      <td>NaN</td>\n",
       "    </tr>\n",
       "    <tr>\n",
       "      <th>std</th>\n",
       "      <td>NaN</td>\n",
       "      <td>NaN</td>\n",
       "      <td>NaN</td>\n",
       "      <td>NaN</td>\n",
       "      <td>NaN</td>\n",
       "      <td>NaN</td>\n",
       "      <td>NaN</td>\n",
       "      <td>NaN</td>\n",
       "      <td>NaN</td>\n",
       "      <td>NaN</td>\n",
       "      <td>NaN</td>\n",
       "      <td>NaN</td>\n",
       "      <td>NaN</td>\n",
       "      <td>0.375259</td>\n",
       "      <td>NaN</td>\n",
       "    </tr>\n",
       "    <tr>\n",
       "      <th>min</th>\n",
       "      <td>NaN</td>\n",
       "      <td>NaN</td>\n",
       "      <td>NaN</td>\n",
       "      <td>NaN</td>\n",
       "      <td>NaN</td>\n",
       "      <td>NaN</td>\n",
       "      <td>NaN</td>\n",
       "      <td>NaN</td>\n",
       "      <td>NaN</td>\n",
       "      <td>NaN</td>\n",
       "      <td>NaN</td>\n",
       "      <td>NaN</td>\n",
       "      <td>NaN</td>\n",
       "      <td>0.000000</td>\n",
       "      <td>NaN</td>\n",
       "    </tr>\n",
       "    <tr>\n",
       "      <th>25%</th>\n",
       "      <td>NaN</td>\n",
       "      <td>NaN</td>\n",
       "      <td>NaN</td>\n",
       "      <td>NaN</td>\n",
       "      <td>NaN</td>\n",
       "      <td>NaN</td>\n",
       "      <td>NaN</td>\n",
       "      <td>NaN</td>\n",
       "      <td>NaN</td>\n",
       "      <td>NaN</td>\n",
       "      <td>NaN</td>\n",
       "      <td>NaN</td>\n",
       "      <td>NaN</td>\n",
       "      <td>1.000000</td>\n",
       "      <td>NaN</td>\n",
       "    </tr>\n",
       "    <tr>\n",
       "      <th>50%</th>\n",
       "      <td>NaN</td>\n",
       "      <td>NaN</td>\n",
       "      <td>NaN</td>\n",
       "      <td>NaN</td>\n",
       "      <td>NaN</td>\n",
       "      <td>NaN</td>\n",
       "      <td>NaN</td>\n",
       "      <td>NaN</td>\n",
       "      <td>NaN</td>\n",
       "      <td>NaN</td>\n",
       "      <td>NaN</td>\n",
       "      <td>NaN</td>\n",
       "      <td>NaN</td>\n",
       "      <td>1.000000</td>\n",
       "      <td>NaN</td>\n",
       "    </tr>\n",
       "    <tr>\n",
       "      <th>75%</th>\n",
       "      <td>NaN</td>\n",
       "      <td>NaN</td>\n",
       "      <td>NaN</td>\n",
       "      <td>NaN</td>\n",
       "      <td>NaN</td>\n",
       "      <td>NaN</td>\n",
       "      <td>NaN</td>\n",
       "      <td>NaN</td>\n",
       "      <td>NaN</td>\n",
       "      <td>NaN</td>\n",
       "      <td>NaN</td>\n",
       "      <td>NaN</td>\n",
       "      <td>NaN</td>\n",
       "      <td>1.000000</td>\n",
       "      <td>NaN</td>\n",
       "    </tr>\n",
       "    <tr>\n",
       "      <th>max</th>\n",
       "      <td>NaN</td>\n",
       "      <td>NaN</td>\n",
       "      <td>NaN</td>\n",
       "      <td>NaN</td>\n",
       "      <td>NaN</td>\n",
       "      <td>NaN</td>\n",
       "      <td>NaN</td>\n",
       "      <td>NaN</td>\n",
       "      <td>NaN</td>\n",
       "      <td>NaN</td>\n",
       "      <td>NaN</td>\n",
       "      <td>NaN</td>\n",
       "      <td>NaN</td>\n",
       "      <td>10.000000</td>\n",
       "      <td>NaN</td>\n",
       "    </tr>\n",
       "  </tbody>\n",
       "</table>\n",
       "</div>"
      ],
      "text/plain": [
       "       participant_ID  ethnicity_Indigenous  ethnicity_White/European  \\\n",
       "count            4054                4054.0                    4054.0   \n",
       "unique           4054                   2.0                       2.0   \n",
       "top            ns 757                   0.0                       0.0   \n",
       "freq                1                3541.0                    2435.0   \n",
       "mean              NaN                   NaN                       NaN   \n",
       "std               NaN                   NaN                       NaN   \n",
       "min               NaN                   NaN                       NaN   \n",
       "25%               NaN                   NaN                       NaN   \n",
       "50%               NaN                   NaN                       NaN   \n",
       "75%               NaN                   NaN                       NaN   \n",
       "max               NaN                   NaN                       NaN   \n",
       "\n",
       "        ethnicity_Black_African_Caribbean  ethnicity_Southeast_Asian  \\\n",
       "count                              4054.0                     4054.0   \n",
       "unique                                2.0                        2.0   \n",
       "top                                   0.0                        0.0   \n",
       "freq                               3126.0                     3973.0   \n",
       "mean                                  NaN                        NaN   \n",
       "std                                   NaN                        NaN   \n",
       "min                                   NaN                        NaN   \n",
       "25%                                   NaN                        NaN   \n",
       "50%                                   NaN                        NaN   \n",
       "75%                                   NaN                        NaN   \n",
       "max                                   NaN                        NaN   \n",
       "\n",
       "        ethnicity_East_Asian  ethnicity_South_Asian  ethnicity_Middle_Eastern  \\\n",
       "count                 4054.0                 4054.0                    4054.0   \n",
       "unique                   2.0                    2.0                       2.0   \n",
       "top                      0.0                    0.0                       0.0   \n",
       "freq                  3883.0                 3985.0                    3523.0   \n",
       "mean                     NaN                    NaN                       NaN   \n",
       "std                      NaN                    NaN                       NaN   \n",
       "min                      NaN                    NaN                       NaN   \n",
       "25%                      NaN                    NaN                       NaN   \n",
       "50%                      NaN                    NaN                       NaN   \n",
       "75%                      NaN                    NaN                       NaN   \n",
       "max                      NaN                    NaN                       NaN   \n",
       "\n",
       "        ethnicity_Latin_American  ethnicity_do_not_know  \\\n",
       "count                     4054.0                 4054.0   \n",
       "unique                       2.0                    2.0   \n",
       "top                          0.0                    0.0   \n",
       "freq                      3919.0                 4012.0   \n",
       "mean                         NaN                    NaN   \n",
       "std                          NaN                    NaN   \n",
       "min                          NaN                    NaN   \n",
       "25%                          NaN                    NaN   \n",
       "50%                          NaN                    NaN   \n",
       "75%                          NaN                    NaN   \n",
       "max                          NaN                    NaN   \n",
       "\n",
       "        ethnicity_prefer_not_to_answer  ethnicity_central_asian  \\\n",
       "count                           4054.0                   4054.0   \n",
       "unique                             2.0                      2.0   \n",
       "top                                0.0                      0.0   \n",
       "freq                            3814.0                   4052.0   \n",
       "mean                               NaN                      NaN   \n",
       "std                                NaN                      NaN   \n",
       "min                                NaN                      NaN   \n",
       "25%                                NaN                      NaN   \n",
       "50%                                NaN                      NaN   \n",
       "75%                                NaN                      NaN   \n",
       "max                                NaN                      NaN   \n",
       "\n",
       "       ethnicity_consolidated  ethnicity_number_of_answers ethnicity_bin  \n",
       "count                    4054                  4054.000000          4054  \n",
       "unique                     40                          NaN             5  \n",
       "top           white/ european                          NaN             1  \n",
       "freq                     1495                          NaN          3583  \n",
       "mean                      NaN                     1.045141           NaN  \n",
       "std                       NaN                     0.375259           NaN  \n",
       "min                       NaN                     0.000000           NaN  \n",
       "25%                       NaN                     1.000000           NaN  \n",
       "50%                       NaN                     1.000000           NaN  \n",
       "75%                       NaN                     1.000000           NaN  \n",
       "max                       NaN                    10.000000           NaN  "
      ]
     },
     "execution_count": 39,
     "metadata": {},
     "output_type": "execute_result"
    }
   ],
   "source": [
    "NS_ethnicity.describe(include = 'all')"
   ]
  },
  {
   "cell_type": "code",
   "execution_count": 26,
   "id": "69ac33f4-4c84-4785-a03c-b5d6bfb88ac7",
   "metadata": {},
   "outputs": [],
   "source": [
    "# I will create a summary where backgrounds are in bins:\n",
    "bins = {\n",
    "    'prefer not to answer': NS_ethnicity.ethnicity_consolidated == 'prefer not to answer',\n",
    "    \"i don't know\" : NS_ethnicity.ethnicity_do_not_know == 1,\n",
    "    '1': (NS_ethnicity.ethnicity_number_of_answers == 1),\n",
    "    '2': NS_ethnicity.ethnicity_number_of_answers == 2,\n",
    "    '3+': NS_ethnicity.ethnicity_number_of_answers >= 3,\n",
    "    }"
   ]
  },
  {
   "cell_type": "code",
   "execution_count": 27,
   "id": "36f89598-c3b0-4496-a823-50fe001b4554",
   "metadata": {},
   "outputs": [],
   "source": [
    "# Create a new column in the DataFrame\n",
    "NS_ethnicity['ethnicity_bin'] = np.select(list(bins.values()),list(bins.keys()), default='unknown')"
   ]
  },
  {
   "cell_type": "code",
   "execution_count": 28,
   "id": "f38425eb-5abd-4e40-b73d-ab2a633b93ae",
   "metadata": {},
   "outputs": [],
   "source": [
    "# save the dataframe as a csv file.\n",
    "NS_ethnicity.to_csv('NS_ethnicity_mapped_consolidated_binned.csv', index = False)"
   ]
  },
  {
   "cell_type": "markdown",
   "id": "3e6532a9-9bd4-4ef9-94d8-62d6c25eac44",
   "metadata": {},
   "source": [
    "I will create a couple of dataframes with a summary of the data above:"
   ]
  },
  {
   "cell_type": "code",
   "execution_count": 29,
   "id": "57761ef5-7dd3-40a2-b5eb-c9b438d85cfd",
   "metadata": {},
   "outputs": [],
   "source": [
    "# create a quick summary:\n",
    "overall_summary = NS_ethnicity.iloc[:, -2:].groupby('ethnicity_bin').count().sort_values(by = 'ethnicity_number_of_answers', ascending = False)"
   ]
  },
  {
   "cell_type": "code",
   "execution_count": 30,
   "id": "687f4166-56a3-4e91-8bcc-6609fcfb0655",
   "metadata": {},
   "outputs": [
    {
     "data": {
      "text/html": [
       "<div>\n",
       "<style scoped>\n",
       "    .dataframe tbody tr th:only-of-type {\n",
       "        vertical-align: middle;\n",
       "    }\n",
       "\n",
       "    .dataframe tbody tr th {\n",
       "        vertical-align: top;\n",
       "    }\n",
       "\n",
       "    .dataframe thead th {\n",
       "        text-align: right;\n",
       "    }\n",
       "</style>\n",
       "<table border=\"1\" class=\"dataframe\">\n",
       "  <thead>\n",
       "    <tr style=\"text-align: right;\">\n",
       "      <th></th>\n",
       "      <th>ethnicity_number_of_answers</th>\n",
       "    </tr>\n",
       "    <tr>\n",
       "      <th>ethnicity_bin</th>\n",
       "      <th></th>\n",
       "    </tr>\n",
       "  </thead>\n",
       "  <tbody>\n",
       "    <tr>\n",
       "      <th>1</th>\n",
       "      <td>3583</td>\n",
       "    </tr>\n",
       "    <tr>\n",
       "      <th>prefer not to answer</th>\n",
       "      <td>240</td>\n",
       "    </tr>\n",
       "    <tr>\n",
       "      <th>2</th>\n",
       "      <td>180</td>\n",
       "    </tr>\n",
       "    <tr>\n",
       "      <th>i don't know</th>\n",
       "      <td>42</td>\n",
       "    </tr>\n",
       "    <tr>\n",
       "      <th>3+</th>\n",
       "      <td>9</td>\n",
       "    </tr>\n",
       "  </tbody>\n",
       "</table>\n",
       "</div>"
      ],
      "text/plain": [
       "                      ethnicity_number_of_answers\n",
       "ethnicity_bin                                    \n",
       "1                                            3583\n",
       "prefer not to answer                          240\n",
       "2                                             180\n",
       "i don't know                                   42\n",
       "3+                                              9"
      ]
     },
     "execution_count": 30,
     "metadata": {},
     "output_type": "execute_result"
    }
   ],
   "source": [
    "# view results:\n",
    "overall_summary"
   ]
  },
  {
   "cell_type": "code",
   "execution_count": 31,
   "id": "932247bf-1ec6-4c1d-aa61-24a4a0c5db60",
   "metadata": {},
   "outputs": [],
   "source": [
    "overall_summary.columns = ['total']"
   ]
  },
  {
   "cell_type": "code",
   "execution_count": 32,
   "id": "10a86f64-a795-4d5b-8840-a1ac97e74025",
   "metadata": {},
   "outputs": [
    {
     "data": {
      "image/png": "[encoded data removed]",
      "text/plain": [
       "<Figure size 1200x800 with 1 Axes>"
      ]
     },
     "metadata": {},
     "output_type": "display_data"
    }
   ],
   "source": [
    "plt.figure(figsize=(12, 8))\n",
    "sns.barplot(\n",
    "    data= overall_summary,\n",
    "    x='ethnicity_bin',\n",
    "    y='total',\n",
    "    errorbar=None\n",
    ")\n",
    "\n",
    "\n",
    "plt.xlabel('number of ethnic backgrounds')\n",
    "plt.ylabel('Total')\n",
    "plt.title('Total Count per Number of Ethnic Backgrounds')\n",
    "\n",
    "# Save the figure\n",
    "plt.savefig('ethnicity_number_of_backgrounds.png', dpi=300, bbox_inches='tight')\n",
    "\n",
    "# show figure\n",
    "plt.show()"
   ]
  },
  {
   "cell_type": "code",
   "execution_count": 33,
   "id": "5d4e2d3d-571a-4fe8-9bd7-e218f299fabf",
   "metadata": {},
   "outputs": [],
   "source": [
    "# save the above summary into a csv file:\n",
    "overall_summary.to_csv('ethnicity_binned.csv')"
   ]
  },
  {
   "cell_type": "code",
   "execution_count": 34,
   "id": "24859625-0214-4536-9ff3-b5fa598dcef4",
   "metadata": {},
   "outputs": [],
   "source": [
    "summary = {}\n",
    "for column in NS_ethnicity.columns[1:-3]:\n",
    "    ethnicity = column.split('_')\n",
    "    ethnicity = ' '.join(ethnicity[1:])\n",
    "    summary.update({ethnicity: NS_ethnicity[column].sum(axis = 0)})"
   ]
  },
  {
   "cell_type": "code",
   "execution_count": 35,
   "id": "aa62b8b3-0010-48f8-beb0-7593d6aeac04",
   "metadata": {},
   "outputs": [],
   "source": [
    "# create a dataframe from the above summary dictionary:\n",
    "ethnicity_summary = pd.DataFrame({'ethnicity' : summary.keys(),\n",
    "             'total' : summary.values()})"
   ]
  },
  {
   "cell_type": "code",
   "execution_count": 36,
   "id": "d254fe4f-380d-433a-b9dd-7b23fa2e3db9",
   "metadata": {},
   "outputs": [],
   "source": [
    "ethnicity_summary = ethnicity_summary.sort_values(by = 'total', ascending = False)"
   ]
  },
  {
   "cell_type": "code",
   "execution_count": 37,
   "id": "71ca1737-30d9-4c89-9c2b-f3a6c3d7cd1e",
   "metadata": {},
   "outputs": [
    {
     "data": {
      "image/png": "[encoded data removed]",
      "text/plain": [
       "<Figure size 1200x800 with 1 Axes>"
      ]
     },
     "metadata": {},
     "output_type": "display_data"
    }
   ],
   "source": [
    "# plot the graph\n",
    "plt.figure(figsize=(12, 8))\n",
    "sns.barplot(\n",
    "    data= ethnicity_summary,\n",
    "    x='ethnicity',\n",
    "    y='total',\n",
    "    errorbar=None\n",
    ")\n",
    "\n",
    "plt.xticks(rotation= 90)\n",
    "plt.xlabel('background')\n",
    "plt.ylabel('Total')\n",
    "plt.title('Total Count per Background')\n",
    "\n",
    "# Save the figure\n",
    "plt.savefig('ethnicity_total_backgrounds.png', dpi=300, bbox_inches='tight')\n",
    "\n",
    "# show figure\n",
    "plt.show()"
   ]
  },
  {
   "cell_type": "code",
   "execution_count": 38,
   "id": "d55ce9aa-b24b-47c1-8f34-9423334658ea",
   "metadata": {},
   "outputs": [],
   "source": [
    "# save the summary dataframe:\n",
    "ethnicity_summary.to_csv('ethnic_summary.csv', index = False)"
   ]
  },
  {
   "cell_type": "code",
   "execution_count": null,
   "id": "946c999c-39f1-4548-b740-9bcbf51916c3",
   "metadata": {},
   "outputs": [],
   "source": []
  }
 ],
 "metadata": {
  "kernelspec": {
   "display_name": "Python 3 (ipykernel)",
   "language": "python",
   "name": "python3"
  },
  "language_info": {
   "codemirror_mode": {
    "name": "ipython",
    "version": 3
   },
   "file_extension": ".py",
   "mimetype": "text/x-python",
   "name": "python",
   "nbconvert_exporter": "python",
   "pygments_lexer": "ipython3",
   "version": "3.9.16"
  }
 },
 "nbformat": 4,
 "nbformat_minor": 5
}
