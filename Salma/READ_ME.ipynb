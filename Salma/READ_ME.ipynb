{
 "cells": [
  {
   "cell_type": "markdown",
   "id": "d62a24bc-a70c-4fb0-8fac-351fefb0e27b",
   "metadata": {},
   "source": [
    "Hello,\n",
    "\n",
    "It's been a pleasure working on this project for the Ottawa Food Bank!\n",
    "\n",
    "Below are the instructions on how to run the files:\n",
    "\n",
    "Enclosed are all my notebooks which I have been able to finalize. Some but not all have summaries graphed at the end.\n",
    "\n",
    "1. Start with the OFB_NS_cleaning notebook in order to obtain the files to work with in the Consolidate file. \n",
    "2. run the Consolidate file to obtain the remaining files to work with.\n",
    "\n",
    "Once you have run the above 2 notebooks you will have the files needed to run the rest of the notebooks. (i am sorry you'll end up with more files than needed, but I didn't have to clean them up for you)\n",
    "\n",
    "3. run the NS_transportation_time file before running the NS_transportation_final.\n",
    "\n",
    "4. run the NS_disease_final file before running the NS_disability_final file.\n"
   ]
  }
 ],
 "metadata": {
  "kernelspec": {
   "display_name": "Python 3 (ipykernel)",
   "language": "python",
   "name": "python3"
  },
  "language_info": {
   "codemirror_mode": {
    "name": "ipython",
    "version": 3
   },
   "file_extension": ".py",
   "mimetype": "text/x-python",
   "name": "python",
   "nbconvert_exporter": "python",
   "pygments_lexer": "ipython3",
   "version": "3.9.16"
  }
 },
 "nbformat": 4,
 "nbformat_minor": 5
}
