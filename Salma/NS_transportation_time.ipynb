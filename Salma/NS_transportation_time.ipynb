{
 "cells": [
  {
   "cell_type": "code",
   "execution_count": 1,
   "id": "75c884a0-1e56-4824-b699-7eb79e64bced",
   "metadata": {},
   "outputs": [
    {
     "name": "stderr",
     "output_type": "stream",
     "text": [
      "/home/salma/anaconda3/lib/python3.9/site-packages/pandas/core/arrays/masked.py:60: UserWarning: Pandas requires version '1.3.6' or newer of 'bottleneck' (version '1.3.5' currently installed).\n",
      "  from pandas.core import (\n"
     ]
    }
   ],
   "source": [
    "import pandas as pd\n",
    "import numpy as np\n",
    "import matplotlib as plt"
   ]
  },
  {
   "cell_type": "code",
   "execution_count": 3,
   "id": "01daa3bb-e19e-4f67-b802-b8f43c4c99b8",
   "metadata": {},
   "outputs": [],
   "source": [
    "# obtaining the cleaned data file:\n",
    "NS = pd.read_csv('Cleaned_NS.csv')"
   ]
  },
  {
   "cell_type": "code",
   "execution_count": 10,
   "id": "38b97c5b-4ba8-43e5-be34-0e25dc65f7f6",
   "metadata": {},
   "outputs": [],
   "source": [
    "# import time data:\n",
    "time = [col for col in NS.columns if col.startswith('participant_ID') or ('get_to' in col)]"
   ]
  },
  {
   "cell_type": "code",
   "execution_count": 11,
   "id": "aabb5d61-2855-479d-928b-04d2052cd176",
   "metadata": {},
   "outputs": [],
   "source": [
    "# creating the dataframe:\n",
    "df = NS[time]"
   ]
  },
  {
   "cell_type": "code",
   "execution_count": 12,
   "id": "80cf81c3-e1cc-4ca7-9dd6-be041bb0fe27",
   "metadata": {},
   "outputs": [
    {
     "data": {
      "text/html": [
       "<div>\n",
       "<style scoped>\n",
       "    .dataframe tbody tr th:only-of-type {\n",
       "        vertical-align: middle;\n",
       "    }\n",
       "\n",
       "    .dataframe tbody tr th {\n",
       "        vertical-align: top;\n",
       "    }\n",
       "\n",
       "    .dataframe thead th {\n",
       "        text-align: right;\n",
       "    }\n",
       "</style>\n",
       "<table border=\"1\" class=\"dataframe\">\n",
       "  <thead>\n",
       "    <tr style=\"text-align: right;\">\n",
       "      <th></th>\n",
       "      <th>participant_ID</th>\n",
       "      <th>time_to_get_to_most_visited_OFB</th>\n",
       "    </tr>\n",
       "  </thead>\n",
       "  <tbody>\n",
       "    <tr>\n",
       "      <th>count</th>\n",
       "      <td>4054</td>\n",
       "      <td>4022</td>\n",
       "    </tr>\n",
       "    <tr>\n",
       "      <th>unique</th>\n",
       "      <td>4054</td>\n",
       "      <td>7</td>\n",
       "    </tr>\n",
       "    <tr>\n",
       "      <th>top</th>\n",
       "      <td>ns 757</td>\n",
       "      <td>less than 30 minutes</td>\n",
       "    </tr>\n",
       "    <tr>\n",
       "      <th>freq</th>\n",
       "      <td>1</td>\n",
       "      <td>1643</td>\n",
       "    </tr>\n",
       "  </tbody>\n",
       "</table>\n",
       "</div>"
      ],
      "text/plain": [
       "       participant_ID time_to_get_to_most_visited_OFB\n",
       "count            4054                            4022\n",
       "unique           4054                               7\n",
       "top            ns 757            less than 30 minutes\n",
       "freq                1                            1643"
      ]
     },
     "execution_count": 12,
     "metadata": {},
     "output_type": "execute_result"
    }
   ],
   "source": [
    "df.describe()"
   ]
  },
  {
   "cell_type": "code",
   "execution_count": 13,
   "id": "6b089604-3963-4f71-a719-d3c4289fb143",
   "metadata": {},
   "outputs": [
    {
     "data": {
      "text/plain": [
       "participant_ID                      0\n",
       "time_to_get_to_most_visited_OFB    32\n",
       "dtype: int64"
      ]
     },
     "execution_count": 13,
     "metadata": {},
     "output_type": "execute_result"
    }
   ],
   "source": [
    "df.isna().sum()"
   ]
  },
  {
   "cell_type": "code",
   "execution_count": 16,
   "id": "a268f8b9-54a0-4948-82a8-929e975f5b8f",
   "metadata": {},
   "outputs": [
    {
     "name": "stderr",
     "output_type": "stream",
     "text": [
      "/tmp/ipykernel_12839/1818901864.py:1: SettingWithCopyWarning: \n",
      "A value is trying to be set on a copy of a slice from a DataFrame\n",
      "\n",
      "See the caveats in the documentation: https://pandas.pydata.org/pandas-docs/stable/user_guide/indexing.html#returning-a-view-versus-a-copy\n",
      "  df.fillna('prefer not to answer', inplace = True)\n"
     ]
    }
   ],
   "source": [
    "df.fillna('prefer not to answer', inplace = True)"
   ]
  },
  {
   "cell_type": "code",
   "execution_count": 17,
   "id": "bab8b0f8-a2c0-43da-b8d5-f0afe24d1481",
   "metadata": {},
   "outputs": [
    {
     "data": {
      "text/plain": [
       "participant_ID                     0\n",
       "time_to_get_to_most_visited_OFB    0\n",
       "dtype: int64"
      ]
     },
     "execution_count": 17,
     "metadata": {},
     "output_type": "execute_result"
    }
   ],
   "source": [
    "df.isna().sum()"
   ]
  },
  {
   "cell_type": "code",
   "execution_count": 18,
   "id": "e85613f0-eb4a-46c1-8eef-2890b19e47e1",
   "metadata": {},
   "outputs": [
    {
     "data": {
      "text/plain": [
       "time_to_get_to_most_visited_OFB\n",
       "less than 30 minutes                                   1643\n",
       "30-60 minutes                                          1445\n",
       "60-90 minutes                                           546\n",
       "more than 90 minutes                                    224\n",
       "prefer not to answer                                    194\n",
       "i don't know anything about them and where they are       1\n",
       "i don't know its address.                                 1\n",
       "Name: count, dtype: int64"
      ]
     },
     "execution_count": 18,
     "metadata": {},
     "output_type": "execute_result"
    }
   ],
   "source": [
    "df.time_to_get_to_most_visited_OFB.value_counts()"
   ]
  },
  {
   "cell_type": "markdown",
   "id": "d47eca5a-62b8-441f-8f4d-eb0354e3f972",
   "metadata": {},
   "source": [
    "I'll map the unacceptable values to 'prefer not to answer'"
   ]
  },
  {
   "cell_type": "code",
   "execution_count": 22,
   "id": "c8679478-4e7b-4aad-91e6-ebd89ee201c8",
   "metadata": {},
   "outputs": [],
   "source": [
    "to_fix = df[df.time_to_get_to_most_visited_OFB.str.contains(\"i don't know\")].index"
   ]
  },
  {
   "cell_type": "code",
   "execution_count": 26,
   "id": "36e834bf-abc3-4375-b964-a9ab89a9acc3",
   "metadata": {},
   "outputs": [
    {
     "name": "stderr",
     "output_type": "stream",
     "text": [
      "/tmp/ipykernel_12839/1295743050.py:1: SettingWithCopyWarning: \n",
      "A value is trying to be set on a copy of a slice from a DataFrame\n",
      "\n",
      "See the caveats in the documentation: https://pandas.pydata.org/pandas-docs/stable/user_guide/indexing.html#returning-a-view-versus-a-copy\n",
      "  df.loc[to_fix, 'time_to_get_to_most_visited_OFB'] = 'prefer not to answer'\n"
     ]
    }
   ],
   "source": [
    "df.loc[to_fix, 'time_to_get_to_most_visited_OFB'] = 'prefer not to answer'"
   ]
  },
  {
   "cell_type": "code",
   "execution_count": 27,
   "id": "93663949-c1ed-411c-91f0-38a4a03e8378",
   "metadata": {},
   "outputs": [
    {
     "data": {
      "text/plain": [
       "3288    prefer not to answer\n",
       "3291    prefer not to answer\n",
       "Name: time_to_get_to_most_visited_OFB, dtype: object"
      ]
     },
     "execution_count": 27,
     "metadata": {},
     "output_type": "execute_result"
    }
   ],
   "source": [
    "df.loc[to_fix, 'time_to_get_to_most_visited_OFB']"
   ]
  },
  {
   "cell_type": "code",
   "execution_count": 28,
   "id": "c8bdf47f-7e55-447d-8721-5624c1968c7f",
   "metadata": {},
   "outputs": [],
   "source": [
    "# save the above into a csv file:\n",
    "df.to_csv('time.csv', index = False)"
   ]
  },
  {
   "cell_type": "code",
   "execution_count": 29,
   "id": "02ae2a13-aaba-4e64-a703-7fd34f95c7cc",
   "metadata": {},
   "outputs": [
    {
     "data": {
      "text/plain": [
       "time_to_get_to_most_visited_OFB\n",
       "less than 30 minutes    1643\n",
       "30-60 minutes           1445\n",
       "60-90 minutes            546\n",
       "more than 90 minutes     224\n",
       "prefer not to answer     196\n",
       "Name: count, dtype: int64"
      ]
     },
     "execution_count": 29,
     "metadata": {},
     "output_type": "execute_result"
    }
   ],
   "source": [
    "df.time_to_get_to_most_visited_OFB.value_counts()"
   ]
  },
  {
   "cell_type": "code",
   "execution_count": null,
   "id": "a8e94a47-3323-431e-a0b9-1ad2b5124350",
   "metadata": {},
   "outputs": [],
   "source": []
  }
 ],
 "metadata": {
  "kernelspec": {
   "display_name": "Python 3 (ipykernel)",
   "language": "python",
   "name": "python3"
  },
  "language_info": {
   "codemirror_mode": {
    "name": "ipython",
    "version": 3
   },
   "file_extension": ".py",
   "mimetype": "text/x-python",
   "name": "python",
   "nbconvert_exporter": "python",
   "pygments_lexer": "ipython3",
   "version": "3.9.16"
  }
 },
 "nbformat": 4,
 "nbformat_minor": 5
}
