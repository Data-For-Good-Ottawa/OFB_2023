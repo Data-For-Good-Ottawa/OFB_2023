{
 "cells": [
  {
   "cell_type": "markdown",
   "id": "7f801412-d225-4e9f-9ddf-e740be74bed6",
   "metadata": {},
   "source": [
    "In this notebook, we'll be working on the cleaned Neighbour Survey data. Specifically, I'll be looking at consolidating the data and filling the Null values in basic info columns: Language_of_Survey; Age; Gender; Gender_other; Status_in_canada; and status_in_canada_other."
   ]
  },
  {
   "cell_type": "code",
   "execution_count": 1,
   "id": "552d7a61-77c9-4f25-a8ec-52065d8ee363",
   "metadata": {},
   "outputs": [],
   "source": [
    "# importing libraries:\n",
    "import numpy as np\n",
    "import pandas as pd"
   ]
  },
  {
   "cell_type": "code",
   "execution_count": 2,
   "id": "3746015c-f41c-4746-a509-e2b49cc57b32",
   "metadata": {},
   "outputs": [],
   "source": [
    "# importing data:\n",
    "NS = pd.read_csv('Cleaned_NS.csv')"
   ]
  },
  {
   "cell_type": "code",
   "execution_count": 3,
   "id": "9119a39e-5f39-410c-80ab-37c2c6b9639a",
   "metadata": {},
   "outputs": [
    {
     "data": {
      "text/html": [
       "<div>\n",
       "<style scoped>\n",
       "    .dataframe tbody tr th:only-of-type {\n",
       "        vertical-align: middle;\n",
       "    }\n",
       "\n",
       "    .dataframe tbody tr th {\n",
       "        vertical-align: top;\n",
       "    }\n",
       "\n",
       "    .dataframe thead th {\n",
       "        text-align: right;\n",
       "    }\n",
       "</style>\n",
       "<table border=\"1\" class=\"dataframe\">\n",
       "  <thead>\n",
       "    <tr style=\"text-align: right;\">\n",
       "      <th></th>\n",
       "      <th>participant_ID</th>\n",
       "      <th>Language_of_Survey</th>\n",
       "      <th>Enough_income</th>\n",
       "      <th>Enough_food</th>\n",
       "      <th>Afford_NBM</th>\n",
       "      <th>skip_meal</th>\n",
       "      <th>frequency_in_year</th>\n",
       "      <th>eat_less</th>\n",
       "      <th>hungry</th>\n",
       "      <th>first_use_years</th>\n",
       "      <th>...</th>\n",
       "      <th>income_source_CPP</th>\n",
       "      <th>income_source_private_pension</th>\n",
       "      <th>income_source_OAS</th>\n",
       "      <th>income_source_WSIB</th>\n",
       "      <th>income_source_disability</th>\n",
       "      <th>income_source_other_government_programs</th>\n",
       "      <th>income_source_no_income</th>\n",
       "      <th>income_source_prefer_not_to_answer</th>\n",
       "      <th>income_source_other</th>\n",
       "      <th>comments</th>\n",
       "    </tr>\n",
       "  </thead>\n",
       "  <tbody>\n",
       "    <tr>\n",
       "      <th>count</th>\n",
       "      <td>4054</td>\n",
       "      <td>4054</td>\n",
       "      <td>4036</td>\n",
       "      <td>4026</td>\n",
       "      <td>4027</td>\n",
       "      <td>4040</td>\n",
       "      <td>2869</td>\n",
       "      <td>4018</td>\n",
       "      <td>4019</td>\n",
       "      <td>4037</td>\n",
       "      <td>...</td>\n",
       "      <td>99</td>\n",
       "      <td>41</td>\n",
       "      <td>81</td>\n",
       "      <td>28</td>\n",
       "      <td>32</td>\n",
       "      <td>88</td>\n",
       "      <td>220</td>\n",
       "      <td>192</td>\n",
       "      <td>67</td>\n",
       "      <td>2216</td>\n",
       "    </tr>\n",
       "    <tr>\n",
       "      <th>unique</th>\n",
       "      <td>4054</td>\n",
       "      <td>4</td>\n",
       "      <td>3</td>\n",
       "      <td>5</td>\n",
       "      <td>5</td>\n",
       "      <td>4</td>\n",
       "      <td>6</td>\n",
       "      <td>4</td>\n",
       "      <td>4</td>\n",
       "      <td>6</td>\n",
       "      <td>...</td>\n",
       "      <td>1</td>\n",
       "      <td>1</td>\n",
       "      <td>1</td>\n",
       "      <td>1</td>\n",
       "      <td>1</td>\n",
       "      <td>1</td>\n",
       "      <td>1</td>\n",
       "      <td>1</td>\n",
       "      <td>60</td>\n",
       "      <td>657</td>\n",
       "    </tr>\n",
       "    <tr>\n",
       "      <th>top</th>\n",
       "      <td>ns 757</td>\n",
       "      <td>english</td>\n",
       "      <td>no</td>\n",
       "      <td>sometimes true</td>\n",
       "      <td>sometimes true</td>\n",
       "      <td>yes</td>\n",
       "      <td>some months but not every month</td>\n",
       "      <td>yes</td>\n",
       "      <td>yes</td>\n",
       "      <td>1 to 2 years ago</td>\n",
       "      <td>...</td>\n",
       "      <td>canadian pension plan (cpp)</td>\n",
       "      <td>private pension</td>\n",
       "      <td>old age security (oas)</td>\n",
       "      <td>workplace safety and insurance board (wsib)</td>\n",
       "      <td>short/long term disability</td>\n",
       "      <td>other government programs</td>\n",
       "      <td>no income</td>\n",
       "      <td>prefer not to answer</td>\n",
       "      <td>self employed</td>\n",
       "      <td>no</td>\n",
       "    </tr>\n",
       "    <tr>\n",
       "      <th>freq</th>\n",
       "      <td>1</td>\n",
       "      <td>3387</td>\n",
       "      <td>2874</td>\n",
       "      <td>1931</td>\n",
       "      <td>1907</td>\n",
       "      <td>2902</td>\n",
       "      <td>1247</td>\n",
       "      <td>2965</td>\n",
       "      <td>2508</td>\n",
       "      <td>1148</td>\n",
       "      <td>...</td>\n",
       "      <td>99</td>\n",
       "      <td>41</td>\n",
       "      <td>81</td>\n",
       "      <td>28</td>\n",
       "      <td>32</td>\n",
       "      <td>88</td>\n",
       "      <td>220</td>\n",
       "      <td>192</td>\n",
       "      <td>5</td>\n",
       "      <td>883</td>\n",
       "    </tr>\n",
       "  </tbody>\n",
       "</table>\n",
       "<p>4 rows × 136 columns</p>\n",
       "</div>"
      ],
      "text/plain": [
       "       participant_ID Language_of_Survey Enough_income     Enough_food  \\\n",
       "count            4054               4054          4036            4026   \n",
       "unique           4054                  4             3               5   \n",
       "top            ns 757            english            no  sometimes true   \n",
       "freq                1               3387          2874            1931   \n",
       "\n",
       "            Afford_NBM skip_meal                frequency_in_year eat_less  \\\n",
       "count             4027      4040                             2869     4018   \n",
       "unique               5         4                                6        4   \n",
       "top     sometimes true       yes  some months but not every month      yes   \n",
       "freq              1907      2902                             1247     2965   \n",
       "\n",
       "       hungry   first_use_years  ...            income_source_CPP  \\\n",
       "count    4019              4037  ...                           99   \n",
       "unique      4                 6  ...                            1   \n",
       "top       yes  1 to 2 years ago  ...  canadian pension plan (cpp)   \n",
       "freq     2508              1148  ...                           99   \n",
       "\n",
       "       income_source_private_pension       income_source_OAS  \\\n",
       "count                             41                      81   \n",
       "unique                             1                       1   \n",
       "top                  private pension  old age security (oas)   \n",
       "freq                              41                      81   \n",
       "\n",
       "                                 income_source_WSIB  \\\n",
       "count                                            28   \n",
       "unique                                            1   \n",
       "top     workplace safety and insurance board (wsib)   \n",
       "freq                                             28   \n",
       "\n",
       "          income_source_disability income_source_other_government_programs  \\\n",
       "count                           32                                      88   \n",
       "unique                           1                                       1   \n",
       "top     short/long term disability               other government programs   \n",
       "freq                            32                                      88   \n",
       "\n",
       "       income_source_no_income income_source_prefer_not_to_answer  \\\n",
       "count                      220                                192   \n",
       "unique                       1                                  1   \n",
       "top                  no income               prefer not to answer   \n",
       "freq                       220                                192   \n",
       "\n",
       "       income_source_other comments  \n",
       "count                   67     2216  \n",
       "unique                  60      657  \n",
       "top          self employed       no  \n",
       "freq                     5      883  \n",
       "\n",
       "[4 rows x 136 columns]"
      ]
     },
     "execution_count": 3,
     "metadata": {},
     "output_type": "execute_result"
    }
   ],
   "source": [
    "NS.describe()"
   ]
  },
  {
   "cell_type": "code",
   "execution_count": 4,
   "id": "6db2fb7a-6d3b-4fef-ad0f-8cbf6dfa7f5a",
   "metadata": {},
   "outputs": [],
   "source": [
    "# I will create a subset of the data with some basic info:\n",
    "NS_basics = NS[['participant_ID','age','gender','gender_other','status_in_canada', 'status_in_canada_other']]"
   ]
  },
  {
   "cell_type": "code",
   "execution_count": 5,
   "id": "5087651f-7209-409e-87cc-36375340351b",
   "metadata": {},
   "outputs": [
    {
     "data": {
      "text/plain": [
       "participant_ID               0\n",
       "age                         18\n",
       "gender                      68\n",
       "gender_other              4039\n",
       "status_in_canada            82\n",
       "status_in_canada_other    4024\n",
       "dtype: int64"
      ]
     },
     "execution_count": 5,
     "metadata": {},
     "output_type": "execute_result"
    }
   ],
   "source": [
    "# Checking out null values in the NS_basics:\n",
    "NS_basics.isna().sum()"
   ]
  },
  {
   "cell_type": "markdown",
   "id": "bae8e908-1cf3-457e-8d3b-1b2ffa206b56",
   "metadata": {},
   "source": [
    "# Consolidating the data from the \"other\" columns:"
   ]
  },
  {
   "cell_type": "markdown",
   "id": "1da2e97e-b005-4ece-84b1-34f46b58a532",
   "metadata": {},
   "source": [
    "### Consolidating gender columns:"
   ]
  },
  {
   "cell_type": "code",
   "execution_count": 6,
   "id": "f77ce221-08af-4300-b158-5db89b9423f2",
   "metadata": {},
   "outputs": [],
   "source": [
    "# Checking the values for the gender: are those who did not choose a gender, chose a gender from \"other\"?\n",
    "LGBTQ = NS_basics[NS_basics['gender_other'].isna() == False]"
   ]
  },
  {
   "cell_type": "code",
   "execution_count": 7,
   "id": "342c5f07-ede6-4e24-a345-975da8b0d5f9",
   "metadata": {},
   "outputs": [
    {
     "data": {
      "text/html": [
       "<div>\n",
       "<style scoped>\n",
       "    .dataframe tbody tr th:only-of-type {\n",
       "        vertical-align: middle;\n",
       "    }\n",
       "\n",
       "    .dataframe tbody tr th {\n",
       "        vertical-align: top;\n",
       "    }\n",
       "\n",
       "    .dataframe thead th {\n",
       "        text-align: right;\n",
       "    }\n",
       "</style>\n",
       "<table border=\"1\" class=\"dataframe\">\n",
       "  <thead>\n",
       "    <tr style=\"text-align: right;\">\n",
       "      <th></th>\n",
       "      <th>participant_ID</th>\n",
       "      <th>age</th>\n",
       "      <th>gender</th>\n",
       "      <th>gender_other</th>\n",
       "      <th>status_in_canada</th>\n",
       "      <th>status_in_canada_other</th>\n",
       "    </tr>\n",
       "  </thead>\n",
       "  <tbody>\n",
       "    <tr>\n",
       "      <th>20</th>\n",
       "      <td>ns 517</td>\n",
       "      <td>21-30</td>\n",
       "      <td>if none of the above, please self-identify:</td>\n",
       "      <td>non binary</td>\n",
       "      <td>canadian citizen</td>\n",
       "      <td>NaN</td>\n",
       "    </tr>\n",
       "    <tr>\n",
       "      <th>169</th>\n",
       "      <td>ns 894</td>\n",
       "      <td>21-30</td>\n",
       "      <td>if none of the above, please self-identify:</td>\n",
       "      <td>genderfluid</td>\n",
       "      <td>canadian citizen</td>\n",
       "      <td>NaN</td>\n",
       "    </tr>\n",
       "    <tr>\n",
       "      <th>453</th>\n",
       "      <td>ns 2244</td>\n",
       "      <td>21-30</td>\n",
       "      <td>if none of the above, please self-identify:</td>\n",
       "      <td>nonbinary</td>\n",
       "      <td>canadian citizen</td>\n",
       "      <td>NaN</td>\n",
       "    </tr>\n",
       "    <tr>\n",
       "      <th>476</th>\n",
       "      <td>ns 3111</td>\n",
       "      <td>31-40</td>\n",
       "      <td>if none of the above, please self-identify:</td>\n",
       "      <td>non binary/gender queer</td>\n",
       "      <td>canadian citizen</td>\n",
       "      <td>NaN</td>\n",
       "    </tr>\n",
       "    <tr>\n",
       "      <th>578</th>\n",
       "      <td>ns 697</td>\n",
       "      <td>21-30</td>\n",
       "      <td>if none of the above, please self-identify:</td>\n",
       "      <td>non-binary</td>\n",
       "      <td>canadian citizen</td>\n",
       "      <td>NaN</td>\n",
       "    </tr>\n",
       "  </tbody>\n",
       "</table>\n",
       "</div>"
      ],
      "text/plain": [
       "    participant_ID    age                                       gender  \\\n",
       "20          ns 517  21-30  if none of the above, please self-identify:   \n",
       "169         ns 894  21-30  if none of the above, please self-identify:   \n",
       "453        ns 2244  21-30  if none of the above, please self-identify:   \n",
       "476        ns 3111  31-40  if none of the above, please self-identify:   \n",
       "578         ns 697  21-30  if none of the above, please self-identify:   \n",
       "\n",
       "                gender_other  status_in_canada status_in_canada_other  \n",
       "20                non binary  canadian citizen                    NaN  \n",
       "169              genderfluid  canadian citizen                    NaN  \n",
       "453                nonbinary  canadian citizen                    NaN  \n",
       "476  non binary/gender queer  canadian citizen                    NaN  \n",
       "578               non-binary  canadian citizen                    NaN  "
      ]
     },
     "execution_count": 7,
     "metadata": {},
     "output_type": "execute_result"
    }
   ],
   "source": [
    "LGBTQ.head()"
   ]
  },
  {
   "cell_type": "code",
   "execution_count": 8,
   "id": "5d288b88-a345-4464-979a-10f6a9df75b2",
   "metadata": {},
   "outputs": [
    {
     "data": {
      "text/plain": [
       "non binary                               2\n",
       "nonbinary                                2\n",
       "non-binary                               2\n",
       "genderfluid                              1\n",
       "non binary/gender queer                  1\n",
       "who cares?                               1\n",
       "i identify as a lays dill pickle chip    1\n",
       "genderqueer                              1\n",
       "autigender                               1\n",
       "struggling with gender identity          1\n",
       "agender                                  1\n",
       "non-binary/agender                       1\n",
       "Name: gender_other, dtype: int64"
      ]
     },
     "execution_count": 8,
     "metadata": {},
     "output_type": "execute_result"
    }
   ],
   "source": [
    "# Checking how many self-identified as other gender:\n",
    "LGBTQ.gender_other.value_counts()"
   ]
  },
  {
   "cell_type": "code",
   "execution_count": 9,
   "id": "daa03c2d-e613-42fa-bf49-2b9953c8b385",
   "metadata": {},
   "outputs": [
    {
     "name": "stderr",
     "output_type": "stream",
     "text": [
      "/tmp/ipykernel_10753/3825799713.py:10: SettingWithCopyWarning: \n",
      "A value is trying to be set on a copy of a slice from a DataFrame\n",
      "\n",
      "See the caveats in the documentation: https://pandas.pydata.org/pandas-docs/stable/user_guide/indexing.html#returning-a-view-versus-a-copy\n",
      "  NS_basics.gender_other.iat[x] = 'non-binary/ agender'\n",
      "/tmp/ipykernel_10753/3825799713.py:4: SettingWithCopyWarning: \n",
      "A value is trying to be set on a copy of a slice from a DataFrame\n",
      "\n",
      "See the caveats in the documentation: https://pandas.pydata.org/pandas-docs/stable/user_guide/indexing.html#returning-a-view-versus-a-copy\n",
      "  NS_basics.gender_other.iat[x] = 'prefer not to answer'\n",
      "/tmp/ipykernel_10753/3825799713.py:6: SettingWithCopyWarning: \n",
      "A value is trying to be set on a copy of a slice from a DataFrame\n",
      "\n",
      "See the caveats in the documentation: https://pandas.pydata.org/pandas-docs/stable/user_guide/indexing.html#returning-a-view-versus-a-copy\n",
      "  NS_basics.gender_other.iat[x] = 'prefer not to answer'\n",
      "/tmp/ipykernel_10753/3825799713.py:8: SettingWithCopyWarning: \n",
      "A value is trying to be set on a copy of a slice from a DataFrame\n",
      "\n",
      "See the caveats in the documentation: https://pandas.pydata.org/pandas-docs/stable/user_guide/indexing.html#returning-a-view-versus-a-copy\n",
      "  NS_basics.gender_other.at[x] = 'person unsure'\n"
     ]
    }
   ],
   "source": [
    "# we can see there are some values are repeated while others don't really belong to LGBTQ:\n",
    "for x in LGBTQ.index:\n",
    "    if 'cares' in NS_basics.gender_other.iat[x]:\n",
    "        NS_basics.gender_other.iat[x] = 'prefer not to answer'\n",
    "    elif 'identify' in NS_basics.gender_other.iat[x]:\n",
    "        NS_basics.gender_other.iat[x] = 'prefer not to answer'\n",
    "    elif 'struggling' in NS_basics.gender_other.iat[x]:\n",
    "        NS_basics.gender_other.at[x] = 'person unsure'\n",
    "    else:\n",
    "        NS_basics.gender_other.iat[x] = 'non-binary/ agender'\n",
    "        "
   ]
  },
  {
   "cell_type": "code",
   "execution_count": 10,
   "id": "21d2e85c-f5d4-429a-acca-ab401c29d99c",
   "metadata": {},
   "outputs": [
    {
     "data": {
      "text/plain": [
       "non-binary/ agender     12\n",
       "prefer not to answer     2\n",
       "person unsure            1\n",
       "Name: gender_other, dtype: int64"
      ]
     },
     "execution_count": 10,
     "metadata": {},
     "output_type": "execute_result"
    }
   ],
   "source": [
    "NS_basics.gender_other.value_counts()"
   ]
  },
  {
   "cell_type": "code",
   "execution_count": 11,
   "id": "7fc2922e-6992-4d7a-be23-ec7104d206ba",
   "metadata": {},
   "outputs": [
    {
     "name": "stderr",
     "output_type": "stream",
     "text": [
      "/tmp/ipykernel_10753/1317488276.py:3: SettingWithCopyWarning: \n",
      "A value is trying to be set on a copy of a slice from a DataFrame\n",
      "\n",
      "See the caveats in the documentation: https://pandas.pydata.org/pandas-docs/stable/user_guide/indexing.html#returning-a-view-versus-a-copy\n",
      "  NS_basics['gender'].at[x] = NS_basics['gender_other'].at[x]\n"
     ]
    }
   ],
   "source": [
    "# Replacing the values in the gender column with those in the LGBTQ gender_other column: \n",
    "for x in LGBTQ.index:\n",
    "    NS_basics['gender'].at[x] = NS_basics['gender_other'].at[x]"
   ]
  },
  {
   "cell_type": "code",
   "execution_count": 12,
   "id": "68ea207c-5d83-4e97-b81c-2700cff82cad",
   "metadata": {},
   "outputs": [
    {
     "name": "stderr",
     "output_type": "stream",
     "text": [
      "/tmp/ipykernel_10753/3101914423.py:2: SettingWithCopyWarning: \n",
      "A value is trying to be set on a copy of a slice from a DataFrame\n",
      "\n",
      "See the caveats in the documentation: https://pandas.pydata.org/pandas-docs/stable/user_guide/indexing.html#returning-a-view-versus-a-copy\n",
      "  NS_basics.drop(['gender_other'], axis = 1, inplace = True)\n"
     ]
    }
   ],
   "source": [
    "# now that we have moved the LGBTQ data to the gender column, we can drop the gender_other column:\n",
    "NS_basics.drop(['gender_other'], axis = 1, inplace = True)"
   ]
  },
  {
   "cell_type": "code",
   "execution_count": 13,
   "id": "6b10fc1c-00b7-490f-a963-a66b98029002",
   "metadata": {},
   "outputs": [
    {
     "data": {
      "text/html": [
       "<div>\n",
       "<style scoped>\n",
       "    .dataframe tbody tr th:only-of-type {\n",
       "        vertical-align: middle;\n",
       "    }\n",
       "\n",
       "    .dataframe tbody tr th {\n",
       "        vertical-align: top;\n",
       "    }\n",
       "\n",
       "    .dataframe thead th {\n",
       "        text-align: right;\n",
       "    }\n",
       "</style>\n",
       "<table border=\"1\" class=\"dataframe\">\n",
       "  <thead>\n",
       "    <tr style=\"text-align: right;\">\n",
       "      <th></th>\n",
       "      <th>participant_ID</th>\n",
       "      <th>age</th>\n",
       "      <th>gender</th>\n",
       "      <th>status_in_canada</th>\n",
       "      <th>status_in_canada_other</th>\n",
       "    </tr>\n",
       "  </thead>\n",
       "  <tbody>\n",
       "    <tr>\n",
       "      <th>0</th>\n",
       "      <td>ns 757</td>\n",
       "      <td>51-60</td>\n",
       "      <td>man</td>\n",
       "      <td>canadian citizen</td>\n",
       "      <td>NaN</td>\n",
       "    </tr>\n",
       "    <tr>\n",
       "      <th>1</th>\n",
       "      <td>ns 318</td>\n",
       "      <td>51-60</td>\n",
       "      <td>man</td>\n",
       "      <td>canadian citizen</td>\n",
       "      <td>NaN</td>\n",
       "    </tr>\n",
       "    <tr>\n",
       "      <th>2</th>\n",
       "      <td>ns 328</td>\n",
       "      <td>51-60</td>\n",
       "      <td>man</td>\n",
       "      <td>canadian citizen</td>\n",
       "      <td>NaN</td>\n",
       "    </tr>\n",
       "    <tr>\n",
       "      <th>3</th>\n",
       "      <td>ns 646</td>\n",
       "      <td>21-30</td>\n",
       "      <td>woman</td>\n",
       "      <td>refugee</td>\n",
       "      <td>NaN</td>\n",
       "    </tr>\n",
       "    <tr>\n",
       "      <th>4</th>\n",
       "      <td>ns 678</td>\n",
       "      <td>over 70</td>\n",
       "      <td>man</td>\n",
       "      <td>canadian citizen</td>\n",
       "      <td>NaN</td>\n",
       "    </tr>\n",
       "  </tbody>\n",
       "</table>\n",
       "</div>"
      ],
      "text/plain": [
       "  participant_ID      age gender  status_in_canada status_in_canada_other\n",
       "0         ns 757    51-60    man  canadian citizen                    NaN\n",
       "1         ns 318    51-60    man  canadian citizen                    NaN\n",
       "2         ns 328    51-60    man  canadian citizen                    NaN\n",
       "3         ns 646    21-30  woman           refugee                    NaN\n",
       "4         ns 678  over 70    man  canadian citizen                    NaN"
      ]
     },
     "execution_count": 13,
     "metadata": {},
     "output_type": "execute_result"
    }
   ],
   "source": [
    "NS_basics.head()"
   ]
  },
  {
   "cell_type": "code",
   "execution_count": 14,
   "id": "48adfdbc-52ba-47b9-a9e6-08e1c724a482",
   "metadata": {},
   "outputs": [
    {
     "data": {
      "text/plain": [
       "woman                   2144\n",
       "man                     1714\n",
       "prefer not to answer      71\n",
       "trans woman               27\n",
       "trans man                 17\n",
       "non-binary/ agender       12\n",
       "person unsure              1\n",
       "Name: gender, dtype: int64"
      ]
     },
     "execution_count": 14,
     "metadata": {},
     "output_type": "execute_result"
    }
   ],
   "source": [
    "NS_basics.gender.value_counts()"
   ]
  },
  {
   "cell_type": "code",
   "execution_count": 15,
   "id": "b4900623-9814-4b67-82ba-46fdce7cf846",
   "metadata": {},
   "outputs": [
    {
     "data": {
      "text/plain": [
       "participant_ID               0\n",
       "age                         18\n",
       "gender                      68\n",
       "status_in_canada            82\n",
       "status_in_canada_other    4024\n",
       "dtype: int64"
      ]
     },
     "execution_count": 15,
     "metadata": {},
     "output_type": "execute_result"
    }
   ],
   "source": [
    "NS_basics.isna().sum()"
   ]
  },
  {
   "cell_type": "markdown",
   "id": "d585fcfd-3c19-46a2-ad6c-3eb4dceeea25",
   "metadata": {},
   "source": [
    "There are 68 null values for gender at this point. I will try to confer gender based on other data (eg. breastfeeding or pregnant data)."
   ]
  },
  {
   "cell_type": "code",
   "execution_count": 16,
   "id": "7eac9ecc-7bf9-4a2e-9b90-ab7e22e22b12",
   "metadata": {},
   "outputs": [
    {
     "data": {
      "text/plain": [
       "woman                   2144\n",
       "man                     1714\n",
       "prefer not to answer      71\n",
       "trans woman               27\n",
       "trans man                 17\n",
       "non-binary/ agender       12\n",
       "person unsure              1\n",
       "Name: gender, dtype: int64"
      ]
     },
     "execution_count": 16,
     "metadata": {},
     "output_type": "execute_result"
    }
   ],
   "source": [
    "NS_basics.gender.value_counts()"
   ]
  },
  {
   "cell_type": "code",
   "execution_count": 17,
   "id": "af02003d-f0ce-4a5d-97f1-aaa537f0e052",
   "metadata": {},
   "outputs": [
    {
     "name": "stderr",
     "output_type": "stream",
     "text": [
      "/tmp/ipykernel_10753/113178927.py:2: SettingWithCopyWarning: \n",
      "A value is trying to be set on a copy of a slice from a DataFrame\n",
      "\n",
      "See the caveats in the documentation: https://pandas.pydata.org/pandas-docs/stable/user_guide/indexing.html#returning-a-view-versus-a-copy\n",
      "  NS_basics.gender.fillna('prefer not to answer', inplace = True)\n"
     ]
    }
   ],
   "source": [
    "# I will be replacing the null values in the gender column with \"prefer not to answer\"\n",
    "NS_basics.gender.fillna('prefer not to answer', inplace = True)"
   ]
  },
  {
   "cell_type": "code",
   "execution_count": 18,
   "id": "2c5e0d7e-2eab-43c9-acc9-b4801465d41c",
   "metadata": {},
   "outputs": [
    {
     "data": {
      "text/plain": [
       "woman                   2144\n",
       "man                     1714\n",
       "prefer not to answer     139\n",
       "trans woman               27\n",
       "trans man                 17\n",
       "non-binary/ agender       12\n",
       "person unsure              1\n",
       "Name: gender, dtype: int64"
      ]
     },
     "execution_count": 18,
     "metadata": {},
     "output_type": "execute_result"
    }
   ],
   "source": [
    "NS_basics.gender.value_counts()"
   ]
  },
  {
   "cell_type": "code",
   "execution_count": 19,
   "id": "3d2276d1-c57e-466e-b881-7d3d81601bc8",
   "metadata": {},
   "outputs": [
    {
     "data": {
      "text/plain": [
       "participant_ID               0\n",
       "age                         18\n",
       "gender                       0\n",
       "status_in_canada            82\n",
       "status_in_canada_other    4024\n",
       "dtype: int64"
      ]
     },
     "execution_count": 19,
     "metadata": {},
     "output_type": "execute_result"
    }
   ],
   "source": [
    "NS_basics.isna().sum()"
   ]
  },
  {
   "cell_type": "markdown",
   "id": "1394606b-c92c-4d8a-bc79-4df12009eb6e",
   "metadata": {},
   "source": [
    "### There are issues with the gender and breastfeeding, pregnancy data which led us to decide to fill the NaNs with 'prefer not to answer' the gender question."
   ]
  },
  {
   "cell_type": "markdown",
   "id": "ee18e69b-9f8a-476a-9986-5cbf0e6fc3d9",
   "metadata": {},
   "source": [
    "# Consolidating Status in Canada data:"
   ]
  },
  {
   "cell_type": "code",
   "execution_count": 20,
   "id": "8618294f-9c13-40e0-8c1b-eb5f654594e9",
   "metadata": {},
   "outputs": [
    {
     "data": {
      "text/plain": [
       "canadian citizen               2441\n",
       "permanent resident              844\n",
       "refugee                         211\n",
       "international student           134\n",
       "prefer not to answer            121\n",
       "migrant worker                  108\n",
       "applying for refugee status      78\n",
       "other                            33\n",
       "other (please specify)            2\n",
       "Name: status_in_canada, dtype: int64"
      ]
     },
     "execution_count": 20,
     "metadata": {},
     "output_type": "execute_result"
    }
   ],
   "source": [
    "# we'll check the values of the status_in_canada column:\n",
    "NS_basics.status_in_canada.value_counts()"
   ]
  },
  {
   "cell_type": "code",
   "execution_count": 21,
   "id": "5f7aa815-f5ed-468e-b8a9-987d11347e02",
   "metadata": {},
   "outputs": [
    {
     "name": "stderr",
     "output_type": "stream",
     "text": [
      "/tmp/ipykernel_10753/3922094459.py:2: SettingWithCopyWarning: \n",
      "A value is trying to be set on a copy of a slice from a DataFrame\n",
      "\n",
      "See the caveats in the documentation: https://pandas.pydata.org/pandas-docs/stable/user_guide/indexing.html#returning-a-view-versus-a-copy\n",
      "  NS_basics.status_in_canada.replace('other (please specify)', 'other', inplace = True)\n"
     ]
    }
   ],
   "source": [
    "# Unify duplicate values:\n",
    "NS_basics.status_in_canada.replace('other (please specify)', 'other', inplace = True)"
   ]
  },
  {
   "cell_type": "code",
   "execution_count": 22,
   "id": "8f4b1a2d-75cc-4660-be48-ac7f5136e778",
   "metadata": {},
   "outputs": [
    {
     "data": {
      "text/plain": [
       "canadian citizen               2441\n",
       "permanent resident              844\n",
       "refugee                         211\n",
       "international student           134\n",
       "prefer not to answer            121\n",
       "migrant worker                  108\n",
       "applying for refugee status      78\n",
       "other                            35\n",
       "Name: status_in_canada, dtype: int64"
      ]
     },
     "execution_count": 22,
     "metadata": {},
     "output_type": "execute_result"
    }
   ],
   "source": [
    "# Checking values again:\n",
    "NS_basics.status_in_canada.value_counts()"
   ]
  },
  {
   "cell_type": "code",
   "execution_count": 23,
   "id": "a873bf81-6c47-44fa-92c6-26d2ebc2a1bf",
   "metadata": {},
   "outputs": [
    {
     "data": {
      "text/plain": [
       "cuaet                                                    6\n",
       "work permit                                              5\n",
       "temporary resident                                       4\n",
       "native status                                            2\n",
       "canadien / american                                      1\n",
       "status first nation                                      1\n",
       "first nations                                            1\n",
       "on work permit                                           1\n",
       "resident                                                 1\n",
       "protected person                                         1\n",
       "born in quebec                                           1\n",
       "student, applying for permanent residence                1\n",
       "cuaet. refugee from ukraine with an open work permit.    1\n",
       "work permit resident                                     1\n",
       "dual citizenship                                         1\n",
       "temporary                                                1\n",
       "cuaet for ukrainians                                     1\n",
       "Name: status_in_canada_other, dtype: int64"
      ]
     },
     "execution_count": 23,
     "metadata": {},
     "output_type": "execute_result"
    }
   ],
   "source": [
    "# Checking values in the \"status_in_canada_other\" column:\n",
    "NS_basics.status_in_canada_other.value_counts()"
   ]
  },
  {
   "cell_type": "code",
   "execution_count": 24,
   "id": "627c335c-2b09-49f9-be21-d41e55fd7fd2",
   "metadata": {},
   "outputs": [],
   "source": [
    "# checking other status in Canada:\n",
    "other_status = NS_basics[NS_basics['status_in_canada_other'].isna() == False]"
   ]
  },
  {
   "cell_type": "code",
   "execution_count": 25,
   "id": "df96bd01-5d56-4ad4-9df4-fde66bbcac4b",
   "metadata": {},
   "outputs": [
    {
     "data": {
      "text/html": [
       "<div>\n",
       "<style scoped>\n",
       "    .dataframe tbody tr th:only-of-type {\n",
       "        vertical-align: middle;\n",
       "    }\n",
       "\n",
       "    .dataframe tbody tr th {\n",
       "        vertical-align: top;\n",
       "    }\n",
       "\n",
       "    .dataframe thead th {\n",
       "        text-align: right;\n",
       "    }\n",
       "</style>\n",
       "<table border=\"1\" class=\"dataframe\">\n",
       "  <thead>\n",
       "    <tr style=\"text-align: right;\">\n",
       "      <th></th>\n",
       "      <th>participant_ID</th>\n",
       "      <th>age</th>\n",
       "      <th>gender</th>\n",
       "      <th>status_in_canada</th>\n",
       "      <th>status_in_canada_other</th>\n",
       "    </tr>\n",
       "  </thead>\n",
       "  <tbody>\n",
       "    <tr>\n",
       "      <th>161</th>\n",
       "      <td>ns 1395</td>\n",
       "      <td>21-30</td>\n",
       "      <td>trans woman</td>\n",
       "      <td>other</td>\n",
       "      <td>canadien / american</td>\n",
       "    </tr>\n",
       "    <tr>\n",
       "      <th>165</th>\n",
       "      <td>ns 1821</td>\n",
       "      <td>31-40</td>\n",
       "      <td>man</td>\n",
       "      <td>other</td>\n",
       "      <td>work permit resident</td>\n",
       "    </tr>\n",
       "    <tr>\n",
       "      <th>189</th>\n",
       "      <td>ns 3121</td>\n",
       "      <td>41-50</td>\n",
       "      <td>woman</td>\n",
       "      <td>other</td>\n",
       "      <td>temporary</td>\n",
       "    </tr>\n",
       "    <tr>\n",
       "      <th>254</th>\n",
       "      <td>ns 2597</td>\n",
       "      <td>21-30</td>\n",
       "      <td>woman</td>\n",
       "      <td>other</td>\n",
       "      <td>work permit</td>\n",
       "    </tr>\n",
       "    <tr>\n",
       "      <th>314</th>\n",
       "      <td>ns 2624</td>\n",
       "      <td>31-40</td>\n",
       "      <td>woman</td>\n",
       "      <td>other</td>\n",
       "      <td>cuaet</td>\n",
       "    </tr>\n",
       "    <tr>\n",
       "      <th>409</th>\n",
       "      <td>ns 544</td>\n",
       "      <td>51-60</td>\n",
       "      <td>man</td>\n",
       "      <td>other</td>\n",
       "      <td>native status</td>\n",
       "    </tr>\n",
       "    <tr>\n",
       "      <th>434</th>\n",
       "      <td>ns 2038</td>\n",
       "      <td>41-50</td>\n",
       "      <td>man</td>\n",
       "      <td>other</td>\n",
       "      <td>temporary resident</td>\n",
       "    </tr>\n",
       "    <tr>\n",
       "      <th>597</th>\n",
       "      <td>ns 634</td>\n",
       "      <td>41-50</td>\n",
       "      <td>woman</td>\n",
       "      <td>other</td>\n",
       "      <td>dual citizenship</td>\n",
       "    </tr>\n",
       "    <tr>\n",
       "      <th>614</th>\n",
       "      <td>ns 417</td>\n",
       "      <td>31-40</td>\n",
       "      <td>prefer not to answer</td>\n",
       "      <td>other</td>\n",
       "      <td>born in quebec</td>\n",
       "    </tr>\n",
       "    <tr>\n",
       "      <th>645</th>\n",
       "      <td>ns 600</td>\n",
       "      <td>51-60</td>\n",
       "      <td>woman</td>\n",
       "      <td>other</td>\n",
       "      <td>cuaet</td>\n",
       "    </tr>\n",
       "    <tr>\n",
       "      <th>779</th>\n",
       "      <td>ns 518</td>\n",
       "      <td>21-30</td>\n",
       "      <td>woman</td>\n",
       "      <td>other</td>\n",
       "      <td>native status</td>\n",
       "    </tr>\n",
       "    <tr>\n",
       "      <th>1005</th>\n",
       "      <td>ns 363</td>\n",
       "      <td>31-40</td>\n",
       "      <td>woman</td>\n",
       "      <td>other</td>\n",
       "      <td>cuaet</td>\n",
       "    </tr>\n",
       "    <tr>\n",
       "      <th>1058</th>\n",
       "      <td>ns 2164</td>\n",
       "      <td>41-50</td>\n",
       "      <td>woman</td>\n",
       "      <td>other</td>\n",
       "      <td>temporary resident</td>\n",
       "    </tr>\n",
       "    <tr>\n",
       "      <th>1059</th>\n",
       "      <td>ns 2165</td>\n",
       "      <td>over 70</td>\n",
       "      <td>woman</td>\n",
       "      <td>other</td>\n",
       "      <td>temporary resident</td>\n",
       "    </tr>\n",
       "    <tr>\n",
       "      <th>1124</th>\n",
       "      <td>ns 1602</td>\n",
       "      <td>21-30</td>\n",
       "      <td>man</td>\n",
       "      <td>other</td>\n",
       "      <td>cuaet. refugee from ukraine with an open work ...</td>\n",
       "    </tr>\n",
       "    <tr>\n",
       "      <th>1188</th>\n",
       "      <td>ns 2931</td>\n",
       "      <td>41-50</td>\n",
       "      <td>woman</td>\n",
       "      <td>other</td>\n",
       "      <td>student, applying for permanent residence</td>\n",
       "    </tr>\n",
       "    <tr>\n",
       "      <th>1199</th>\n",
       "      <td>ns 3132</td>\n",
       "      <td>over 70</td>\n",
       "      <td>woman</td>\n",
       "      <td>other</td>\n",
       "      <td>cuaet</td>\n",
       "    </tr>\n",
       "    <tr>\n",
       "      <th>1901</th>\n",
       "      <td>ns 2634</td>\n",
       "      <td>31-40</td>\n",
       "      <td>man</td>\n",
       "      <td>other</td>\n",
       "      <td>temporary resident</td>\n",
       "    </tr>\n",
       "    <tr>\n",
       "      <th>2126</th>\n",
       "      <td>ns 2247</td>\n",
       "      <td>61-70</td>\n",
       "      <td>woman</td>\n",
       "      <td>other</td>\n",
       "      <td>status first nation</td>\n",
       "    </tr>\n",
       "    <tr>\n",
       "      <th>2265</th>\n",
       "      <td>ns 2173</td>\n",
       "      <td>41-50</td>\n",
       "      <td>woman</td>\n",
       "      <td>other</td>\n",
       "      <td>protected person</td>\n",
       "    </tr>\n",
       "    <tr>\n",
       "      <th>2343</th>\n",
       "      <td>ns 319</td>\n",
       "      <td>61-70</td>\n",
       "      <td>man</td>\n",
       "      <td>other</td>\n",
       "      <td>resident</td>\n",
       "    </tr>\n",
       "    <tr>\n",
       "      <th>2604</th>\n",
       "      <td>ns 1601</td>\n",
       "      <td>51-60</td>\n",
       "      <td>woman</td>\n",
       "      <td>other</td>\n",
       "      <td>cuaet</td>\n",
       "    </tr>\n",
       "    <tr>\n",
       "      <th>2631</th>\n",
       "      <td>ns 610</td>\n",
       "      <td>31-40</td>\n",
       "      <td>woman</td>\n",
       "      <td>other</td>\n",
       "      <td>work permit</td>\n",
       "    </tr>\n",
       "    <tr>\n",
       "      <th>2632</th>\n",
       "      <td>ns 611</td>\n",
       "      <td>41-50</td>\n",
       "      <td>man</td>\n",
       "      <td>other</td>\n",
       "      <td>work permit</td>\n",
       "    </tr>\n",
       "    <tr>\n",
       "      <th>2633</th>\n",
       "      <td>ns 887</td>\n",
       "      <td>31-40</td>\n",
       "      <td>woman</td>\n",
       "      <td>other</td>\n",
       "      <td>work permit</td>\n",
       "    </tr>\n",
       "    <tr>\n",
       "      <th>2889</th>\n",
       "      <td>ns 341</td>\n",
       "      <td>31-40</td>\n",
       "      <td>man</td>\n",
       "      <td>other</td>\n",
       "      <td>work permit</td>\n",
       "    </tr>\n",
       "    <tr>\n",
       "      <th>3127</th>\n",
       "      <td>ns 2190</td>\n",
       "      <td>over 70</td>\n",
       "      <td>woman</td>\n",
       "      <td>other</td>\n",
       "      <td>cuaet</td>\n",
       "    </tr>\n",
       "    <tr>\n",
       "      <th>3201</th>\n",
       "      <td>ns 2815</td>\n",
       "      <td>21-30</td>\n",
       "      <td>woman</td>\n",
       "      <td>other</td>\n",
       "      <td>on work permit</td>\n",
       "    </tr>\n",
       "    <tr>\n",
       "      <th>3988</th>\n",
       "      <td>ns 4000</td>\n",
       "      <td>21-30</td>\n",
       "      <td>man</td>\n",
       "      <td>other</td>\n",
       "      <td>first nations</td>\n",
       "    </tr>\n",
       "    <tr>\n",
       "      <th>4053</th>\n",
       "      <td>ns 4048</td>\n",
       "      <td>21-30</td>\n",
       "      <td>woman</td>\n",
       "      <td>other</td>\n",
       "      <td>cuaet for ukrainians</td>\n",
       "    </tr>\n",
       "  </tbody>\n",
       "</table>\n",
       "</div>"
      ],
      "text/plain": [
       "     participant_ID      age                gender status_in_canada  \\\n",
       "161         ns 1395    21-30           trans woman            other   \n",
       "165         ns 1821    31-40                   man            other   \n",
       "189         ns 3121    41-50                 woman            other   \n",
       "254         ns 2597    21-30                 woman            other   \n",
       "314         ns 2624    31-40                 woman            other   \n",
       "409          ns 544    51-60                   man            other   \n",
       "434         ns 2038    41-50                   man            other   \n",
       "597          ns 634    41-50                 woman            other   \n",
       "614          ns 417    31-40  prefer not to answer            other   \n",
       "645          ns 600    51-60                 woman            other   \n",
       "779          ns 518    21-30                 woman            other   \n",
       "1005         ns 363    31-40                 woman            other   \n",
       "1058        ns 2164    41-50                 woman            other   \n",
       "1059        ns 2165  over 70                 woman            other   \n",
       "1124        ns 1602    21-30                   man            other   \n",
       "1188        ns 2931    41-50                 woman            other   \n",
       "1199        ns 3132  over 70                 woman            other   \n",
       "1901        ns 2634    31-40                   man            other   \n",
       "2126        ns 2247    61-70                 woman            other   \n",
       "2265        ns 2173    41-50                 woman            other   \n",
       "2343         ns 319    61-70                   man            other   \n",
       "2604        ns 1601    51-60                 woman            other   \n",
       "2631         ns 610    31-40                 woman            other   \n",
       "2632         ns 611    41-50                   man            other   \n",
       "2633         ns 887    31-40                 woman            other   \n",
       "2889         ns 341    31-40                   man            other   \n",
       "3127        ns 2190  over 70                 woman            other   \n",
       "3201        ns 2815    21-30                 woman            other   \n",
       "3988        ns 4000    21-30                   man            other   \n",
       "4053        ns 4048    21-30                 woman            other   \n",
       "\n",
       "                                 status_in_canada_other  \n",
       "161                                 canadien / american  \n",
       "165                                work permit resident  \n",
       "189                                           temporary  \n",
       "254                                         work permit  \n",
       "314                                               cuaet  \n",
       "409                                       native status  \n",
       "434                                  temporary resident  \n",
       "597                                    dual citizenship  \n",
       "614                                      born in quebec  \n",
       "645                                               cuaet  \n",
       "779                                       native status  \n",
       "1005                                              cuaet  \n",
       "1058                                 temporary resident  \n",
       "1059                                 temporary resident  \n",
       "1124  cuaet. refugee from ukraine with an open work ...  \n",
       "1188          student, applying for permanent residence  \n",
       "1199                                              cuaet  \n",
       "1901                                 temporary resident  \n",
       "2126                                status first nation  \n",
       "2265                                   protected person  \n",
       "2343                                           resident  \n",
       "2604                                              cuaet  \n",
       "2631                                        work permit  \n",
       "2632                                        work permit  \n",
       "2633                                        work permit  \n",
       "2889                                        work permit  \n",
       "3127                                              cuaet  \n",
       "3201                                     on work permit  \n",
       "3988                                      first nations  \n",
       "4053                               cuaet for ukrainians  "
      ]
     },
     "execution_count": 25,
     "metadata": {},
     "output_type": "execute_result"
    }
   ],
   "source": [
    "other_status"
   ]
  },
  {
   "cell_type": "markdown",
   "id": "d23610b9-7311-4964-9ad4-27934ce2a56a",
   "metadata": {},
   "source": [
    "Let's replace the \"Other\" values in \"status_in_canada\" by those in the \"status_in_canada_other\" values:"
   ]
  },
  {
   "cell_type": "code",
   "execution_count": 26,
   "id": "733d8aac-6b39-421e-9fde-1a529a8482b8",
   "metadata": {},
   "outputs": [
    {
     "name": "stderr",
     "output_type": "stream",
     "text": [
      "/tmp/ipykernel_10753/1369525698.py:3: SettingWithCopyWarning: \n",
      "A value is trying to be set on a copy of a slice from a DataFrame\n",
      "\n",
      "See the caveats in the documentation: https://pandas.pydata.org/pandas-docs/stable/user_guide/indexing.html#returning-a-view-versus-a-copy\n",
      "  NS_basics['status_in_canada'].at[x] = NS_basics['status_in_canada_other'].at[x]\n"
     ]
    }
   ],
   "source": [
    "# replace the values in the \"status_in_canada\" column with non-null values in the \"status_in_canada_other\" column \n",
    "for x in other_status.index:\n",
    "    NS_basics['status_in_canada'].at[x] = NS_basics['status_in_canada_other'].at[x]"
   ]
  },
  {
   "cell_type": "code",
   "execution_count": 27,
   "id": "49dd001b-96dd-448c-a372-026d2bf8c3ee",
   "metadata": {},
   "outputs": [
    {
     "name": "stderr",
     "output_type": "stream",
     "text": [
      "/tmp/ipykernel_10753/2005234397.py:2: SettingWithCopyWarning: \n",
      "A value is trying to be set on a copy of a slice from a DataFrame\n",
      "\n",
      "See the caveats in the documentation: https://pandas.pydata.org/pandas-docs/stable/user_guide/indexing.html#returning-a-view-versus-a-copy\n",
      "  NS_basics.drop(['status_in_canada_other'], axis = 1, inplace = True)\n"
     ]
    }
   ],
   "source": [
    "# Now we can drop the status_in_canada_other column:\n",
    "NS_basics.drop(['status_in_canada_other'], axis = 1, inplace = True)"
   ]
  },
  {
   "cell_type": "code",
   "execution_count": 28,
   "id": "b6e27613-f310-4d86-8569-19256514064e",
   "metadata": {},
   "outputs": [
    {
     "data": {
      "text/plain": [
       "(4054, 4)"
      ]
     },
     "execution_count": 28,
     "metadata": {},
     "output_type": "execute_result"
    }
   ],
   "source": [
    "NS_basics.shape"
   ]
  },
  {
   "cell_type": "code",
   "execution_count": 29,
   "id": "1c4313a9-6e48-488b-b898-a7544f96a441",
   "metadata": {},
   "outputs": [],
   "source": [
    "# Now, let's unify the words in the status_in_canada as per the dictionary below:"
   ]
  },
  {
   "cell_type": "code",
   "execution_count": 30,
   "id": "bf64ec0c-fedf-4d2f-b05c-fa1771b152db",
   "metadata": {},
   "outputs": [],
   "source": [
    "status_dictionary = {\n",
    "    'native status': 'citizen',\n",
    "    'status first nation': 'citizen',\n",
    "    'first nations': 'citizen',\n",
    "    'canadian citizen': 'citizen',\n",
    "    'born in quebec': 'citizen',\n",
    "    'canadien / american': 'citizen',\n",
    "    'dual citizenship': 'citizen',\n",
    "\n",
    "    'permanent resident': 'permanet resident',\n",
    "    'resident': 'permanet resident',\n",
    "\n",
    "    'migrant worker': 'foreign worker',\n",
    "    'work permit resident': 'foreign worker',\n",
    "    'work permit': 'foreign worker',\n",
    "    'on work permit': 'foreign worker',\n",
    "    \n",
    "    'international student': 'international student',\n",
    "    'student, applying for permanent residence': 'international student',\n",
    "    \n",
    "    'refugee': 'refugee',\n",
    "    'protected person': 'refugee',\n",
    "    'cuaet': 'refugee', \n",
    "    'cuaet. refugee from ukraine with an open work permit.': 'refugee',\n",
    "    'cuaet for ukrainians': 'refugee',\n",
    "    'applying for refugee status': 'applying for refugee status',\n",
    "    \n",
    "\n",
    "    'prefer not to answer': 'prefer not to answer',\n",
    "    np.nan: 'prefer not to answer',\n",
    "    \n",
    "    'temporary': 'temporary resident',\n",
    "    'temporary resident': 'temporary resident',\n",
    "\n",
    "    'other': 'prefer not to answer',\n",
    "\n",
    "    }"
   ]
  },
  {
   "cell_type": "code",
   "execution_count": 31,
   "id": "1199f09e-d287-4415-823c-75232762ca41",
   "metadata": {},
   "outputs": [
    {
     "name": "stderr",
     "output_type": "stream",
     "text": [
      "/tmp/ipykernel_10753/312679721.py:1: SettingWithCopyWarning: \n",
      "A value is trying to be set on a copy of a slice from a DataFrame\n",
      "\n",
      "See the caveats in the documentation: https://pandas.pydata.org/pandas-docs/stable/user_guide/indexing.html#returning-a-view-versus-a-copy\n",
      "  NS_basics.status_in_canada.replace(status_dictionary.keys(), status_dictionary.values(), inplace = True)\n"
     ]
    }
   ],
   "source": [
    "NS_basics.status_in_canada.replace(status_dictionary.keys(), status_dictionary.values(), inplace = True)"
   ]
  },
  {
   "cell_type": "code",
   "execution_count": 32,
   "id": "b124a168-40c7-48ad-8461-ea032fd72fe0",
   "metadata": {},
   "outputs": [
    {
     "data": {
      "text/plain": [
       "citizen                        2448\n",
       "permanet resident               845\n",
       "refugee                         220\n",
       "prefer not to answer            208\n",
       "international student           135\n",
       "foreign worker                  115\n",
       "applying for refugee status      78\n",
       "temporary resident                5\n",
       "Name: status_in_canada, dtype: int64"
      ]
     },
     "execution_count": 32,
     "metadata": {},
     "output_type": "execute_result"
    }
   ],
   "source": [
    "NS_basics.status_in_canada.value_counts()"
   ]
  },
  {
   "cell_type": "code",
   "execution_count": 33,
   "id": "338c4775-788a-4b42-8a18-b59329d7e6fa",
   "metadata": {},
   "outputs": [
    {
     "data": {
      "text/plain": [
       "participant_ID       0\n",
       "age                 18\n",
       "gender               0\n",
       "status_in_canada     0\n",
       "dtype: int64"
      ]
     },
     "execution_count": 33,
     "metadata": {},
     "output_type": "execute_result"
    }
   ],
   "source": [
    "NS_basics.isna().sum()"
   ]
  },
  {
   "cell_type": "code",
   "execution_count": 34,
   "id": "db0ae926-3dc0-4803-be23-c70bb165bfe0",
   "metadata": {},
   "outputs": [
    {
     "data": {
      "text/plain": [
       "31-40                   1459\n",
       "21-30                   1130\n",
       "41-50                    706\n",
       "51-60                    326\n",
       "18-20                    183\n",
       "61-70                    136\n",
       "over 70                   56\n",
       "prefer not to answer      40\n",
       "Name: age, dtype: int64"
      ]
     },
     "execution_count": 34,
     "metadata": {},
     "output_type": "execute_result"
    }
   ],
   "source": [
    "# let's check the age values:\n",
    "NS_basics.age.value_counts()"
   ]
  },
  {
   "cell_type": "code",
   "execution_count": 35,
   "id": "0f97f1d0-4679-456b-999b-79c849770ff2",
   "metadata": {},
   "outputs": [
    {
     "name": "stderr",
     "output_type": "stream",
     "text": [
      "/tmp/ipykernel_10753/715471721.py:2: SettingWithCopyWarning: \n",
      "A value is trying to be set on a copy of a slice from a DataFrame\n",
      "\n",
      "See the caveats in the documentation: https://pandas.pydata.org/pandas-docs/stable/user_guide/indexing.html#returning-a-view-versus-a-copy\n",
      "  NS_basics.age.fillna('prefer not to answer', inplace = True)\n"
     ]
    }
   ],
   "source": [
    "# will fill the null values in the age column with \"prefer not to answer\":\n",
    "NS_basics.age.fillna('prefer not to answer', inplace = True)"
   ]
  },
  {
   "cell_type": "code",
   "execution_count": 36,
   "id": "a9f20738-7003-4f20-8cb6-58ba566f2c41",
   "metadata": {},
   "outputs": [
    {
     "data": {
      "text/plain": [
       "participant_ID      0\n",
       "age                 0\n",
       "gender              0\n",
       "status_in_canada    0\n",
       "dtype: int64"
      ]
     },
     "execution_count": 36,
     "metadata": {},
     "output_type": "execute_result"
    }
   ],
   "source": [
    "NS_basics.isna().sum()"
   ]
  },
  {
   "cell_type": "code",
   "execution_count": 37,
   "id": "f24da2e0-4ce1-40c9-886d-1a914bde2224",
   "metadata": {},
   "outputs": [
    {
     "data": {
      "text/html": [
       "<div>\n",
       "<style scoped>\n",
       "    .dataframe tbody tr th:only-of-type {\n",
       "        vertical-align: middle;\n",
       "    }\n",
       "\n",
       "    .dataframe tbody tr th {\n",
       "        vertical-align: top;\n",
       "    }\n",
       "\n",
       "    .dataframe thead th {\n",
       "        text-align: right;\n",
       "    }\n",
       "</style>\n",
       "<table border=\"1\" class=\"dataframe\">\n",
       "  <thead>\n",
       "    <tr style=\"text-align: right;\">\n",
       "      <th></th>\n",
       "      <th>participant_ID</th>\n",
       "      <th>age</th>\n",
       "      <th>gender</th>\n",
       "      <th>status_in_canada</th>\n",
       "    </tr>\n",
       "  </thead>\n",
       "  <tbody>\n",
       "    <tr>\n",
       "      <th>count</th>\n",
       "      <td>4054</td>\n",
       "      <td>4054</td>\n",
       "      <td>4054</td>\n",
       "      <td>4054</td>\n",
       "    </tr>\n",
       "    <tr>\n",
       "      <th>unique</th>\n",
       "      <td>4054</td>\n",
       "      <td>8</td>\n",
       "      <td>7</td>\n",
       "      <td>8</td>\n",
       "    </tr>\n",
       "    <tr>\n",
       "      <th>top</th>\n",
       "      <td>ns 757</td>\n",
       "      <td>31-40</td>\n",
       "      <td>woman</td>\n",
       "      <td>citizen</td>\n",
       "    </tr>\n",
       "    <tr>\n",
       "      <th>freq</th>\n",
       "      <td>1</td>\n",
       "      <td>1459</td>\n",
       "      <td>2144</td>\n",
       "      <td>2448</td>\n",
       "    </tr>\n",
       "  </tbody>\n",
       "</table>\n",
       "</div>"
      ],
      "text/plain": [
       "       participant_ID    age gender status_in_canada\n",
       "count            4054   4054   4054             4054\n",
       "unique           4054      8      7                8\n",
       "top            ns 757  31-40  woman          citizen\n",
       "freq                1   1459   2144             2448"
      ]
     },
     "execution_count": 37,
     "metadata": {},
     "output_type": "execute_result"
    }
   ],
   "source": [
    "NS_basics.describe()"
   ]
  },
  {
   "cell_type": "code",
   "execution_count": 38,
   "id": "6ae4da33-efba-44c5-b44e-e3c386873893",
   "metadata": {},
   "outputs": [],
   "source": [
    "# I will save the NS_basics data into a csv file.\n",
    "NS_basics.to_csv('NS_basics.csv', index = False)"
   ]
  },
  {
   "cell_type": "code",
   "execution_count": 39,
   "id": "3221775b-f9c8-4823-9606-7939eb9e2738",
   "metadata": {},
   "outputs": [
    {
     "data": {
      "text/plain": [
       "array(['citizen', 'refugee', 'foreign worker', 'international student',\n",
       "       'prefer not to answer', 'permanet resident', 'temporary resident',\n",
       "       'applying for refugee status'], dtype=object)"
      ]
     },
     "execution_count": 39,
     "metadata": {},
     "output_type": "execute_result"
    }
   ],
   "source": [
    "NS_basics.status_in_canada.unique()"
   ]
  },
  {
   "cell_type": "code",
   "execution_count": null,
   "id": "c24d4e35-3f49-4f38-9405-2e929275b90c",
   "metadata": {},
   "outputs": [],
   "source": []
  }
 ],
 "metadata": {
  "kernelspec": {
   "display_name": "Python 3 (ipykernel)",
   "language": "python",
   "name": "python3"
  },
  "language_info": {
   "codemirror_mode": {
    "name": "ipython",
    "version": 3
   },
   "file_extension": ".py",
   "mimetype": "text/x-python",
   "name": "python",
   "nbconvert_exporter": "python",
   "pygments_lexer": "ipython3",
   "version": "3.9.16"
  }
 },
 "nbformat": 4,
 "nbformat_minor": 5
}
